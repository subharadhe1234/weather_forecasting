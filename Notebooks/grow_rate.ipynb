{
 "cells": [
  {
   "cell_type": "code",
   "execution_count": 1,
   "metadata": {},
   "outputs": [],
   "source": [
    "import pandas as pd\n",
    "import os\n",
    "import numpy as np\n",
    "data_path=\"/home/radhe/Subha/internship/werather_forcastiing/dataset\"\n",
    "data=pd.DataFrame()\n",
    "mean_val=[]\n",
    "\n",
    "for (root,dirs,file) in os.walk(data_path):\n",
    "    for i,f in enumerate(file):\n",
    "        if f.endswith('.csv'):\n",
    "            if not f.startswith('All_disticts') and  not f.startswith('disticts'):\n",
    "                \n",
    "            \n",
    "                path=os.path.join(root,f)\n",
    "                df=pd.read_csv(path)\n",
    "                # print(f)\n",
    "                # print(df.diff().fillna(value=0))\n",
    "                df=df.diff().fillna(value=0)\n",
    "                mean_val=[]\n",
    "                for col in df.columns[1:]:\n",
    "                    # print(np.mean(df[col]))\n",
    "                    mean_val=np.append(mean_val,np.mean(df[col]))\n",
    "                    # print(mean_val)\n",
    "                # convert=TemperatureDataTransformer(df)\n",
    "                # df_long=convert.wide_to_long()\n",
    "                data[f\"{str(f).split('.')[0]}_temp\"]=pd.DataFrame(mean_val)\n",
    "            \n",
    "            "
   ]
  },
  {
   "cell_type": "code",
   "execution_count": 2,
   "metadata": {},
   "outputs": [],
   "source": [
    "data.to_csv(os.path.join(os.getenv(\"grow_result\")))"
   ]
  },
  {
   "cell_type": "code",
   "execution_count": null,
   "metadata": {},
   "outputs": [],
   "source": []
  },
  {
   "cell_type": "code",
   "execution_count": null,
   "metadata": {},
   "outputs": [],
   "source": []
  },
  {
   "cell_type": "code",
   "execution_count": null,
   "metadata": {},
   "outputs": [],
   "source": []
  }
 ],
 "metadata": {
  "kernelspec": {
   "display_name": "Python 3",
   "language": "python",
   "name": "python3"
  },
  "language_info": {
   "codemirror_mode": {
    "name": "ipython",
    "version": 3
   },
   "file_extension": ".py",
   "mimetype": "text/x-python",
   "name": "python",
   "nbconvert_exporter": "python",
   "pygments_lexer": "ipython3",
   "version": "3.10.16"
  }
 },
 "nbformat": 4,
 "nbformat_minor": 2
}
