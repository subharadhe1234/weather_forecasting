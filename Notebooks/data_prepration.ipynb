{
 "cells": [
  {
   "cell_type": "code",
   "execution_count": 2,
   "metadata": {},
   "outputs": [],
   "source": [
    "import os\n",
    "import pandas as pd"
   ]
  },
  {
   "cell_type": "code",
   "execution_count": 3,
   "metadata": {},
   "outputs": [],
   "source": [
    "import pandas as pd\n",
    "\n",
    "class TemperatureDataTransformer:\n",
    "    def __init__(self, data):\n",
    "        \"\"\"\n",
    "        Initialize the class with the wide-format data.\n",
    "        \"\"\"\n",
    "        self.df_wide = pd.DataFrame(data)\n",
    "\n",
    "    def wide_to_long(self):\n",
    "        # print(self.df_wide.head())\n",
    "        \"\"\"\n",
    "        Transform the wide-format data into long format.\n",
    "        \"\"\"\n",
    "        df_long = self.df_wide.melt(id_vars=['Year'], var_name='Month', value_name='Temperature')\n",
    "        df_long['Date'] = pd.to_datetime(df_long['Year'].astype(str) + '-' + df_long['Month'] + '-01')\n",
    "        df_long = df_long.set_index('Date')[['Temperature']]\n",
    "        df_long=df_long.sort_index()\n",
    "        return df_long\n",
    "\n",
    "    def long_to_wide(self, df_long):\n",
    "        \"\"\"\n",
    "        Transform the long-format data back into wide format.\n",
    "        \"\"\"\n",
    "        df_long = df_long.reset_index()\n",
    "        df_long['Year'] = df_long['Date'].dt.year\n",
    "        df_long['Month'] = df_long['Date'].dt.month_name().str[:3]\n",
    "        df_wide = df_long.pivot(index='Year', columns='Month', values='Temperature')\n",
    "        # Reorder columns to match the original format\n",
    "        month_order = ['Jan', 'Feb', 'Mar', 'Apr', 'May', 'Jun', 'Jul', 'Aug', 'Sep', 'Oct', 'Nov', 'Dec']\n",
    "        df_wide = df_wide[month_order]\n",
    "        return df_wide.reset_index()\n"
   ]
  },
  {
   "cell_type": "code",
   "execution_count": 8,
   "metadata": {},
   "outputs": [
    {
     "name": "stdout",
     "output_type": "stream",
     "text": [
      "Processing file: Bankura.csv\n",
      "Processing file: Birbhum.csv\n",
      "Processing file: Burdwan.csv\n",
      "Processing file: Darjeeling.csv\n",
      "Processing file: Hooghly.csv\n",
      "Processing file: Howrah.csv\n",
      "Processing file: Jalpaiguri.csv\n",
      "Processing file: Kochbihar.csv\n",
      "Processing file: Kolkata.csv\n",
      "Processing file: Malda.csv\n",
      "Processing file: Medinipur.csv\n",
      "Processing file: Murshidabad.csv\n",
      "Processing file: Nadia.csv\n",
      "Processing file: North-24-Parganas.csv\n",
      "Processing file: North-Dinajpur.csv\n",
      "Processing file: Purulia.csv\n",
      "Processing file: South-24-Parganas.csv\n",
      "Processing file: South-Dinajpur.csv\n"
     ]
    }
   ],
   "source": [
    "\n",
    "data_path=\"../dataset\"\n",
    "data=pd.DataFrame()\n",
    "\n",
    "\n",
    "for (root,dirs,file) in os.walk(data_path):\n",
    "    file.sort()\n",
    "    # print(f\"Processing directory: {root}\")\n",
    "    # print(f\"Files found: {file}\")\n",
    "    # print(f\"Number of files: {len(file)}\")\n",
    "    for i,f in enumerate(file):\n",
    "        if f.endswith('.csv'):\n",
    "            path=os.path.join(root,f)\n",
    "            df=pd.read_csv(path)\n",
    "            print(f\"Processing file: {f}\")\n",
    "            convert=TemperatureDataTransformer(df)\n",
    "            df_long=convert.wide_to_long()\n",
    "            data[f\"{str(f).split('.')[0]}_temp\"]=df_long[\"Temperature\"]   \n",
    "            "
   ]
  },
  {
   "cell_type": "code",
   "execution_count": 9,
   "metadata": {},
   "outputs": [],
   "source": [
    "data.to_csv(os.path.join('../result/dataset', \"All_disticts.csv\"))"
   ]
  },
  {
   "cell_type": "code",
   "execution_count": null,
   "metadata": {},
   "outputs": [],
   "source": []
  }
 ],
 "metadata": {
  "kernelspec": {
   "display_name": "Python 3",
   "language": "python",
   "name": "python3"
  },
  "language_info": {
   "codemirror_mode": {
    "name": "ipython",
    "version": 3
   },
   "file_extension": ".py",
   "mimetype": "text/x-python",
   "name": "python",
   "nbconvert_exporter": "python",
   "pygments_lexer": "ipython3",
   "version": "3.10.16"
  }
 },
 "nbformat": 4,
 "nbformat_minor": 2
}
