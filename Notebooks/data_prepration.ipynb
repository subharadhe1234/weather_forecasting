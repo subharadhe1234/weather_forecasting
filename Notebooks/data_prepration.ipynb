{
 "cells": [
  {
   "cell_type": "code",
   "execution_count": 18,
   "metadata": {},
   "outputs": [],
   "source": [
    "import os\n",
    "import pandas as pd"
   ]
  },
  {
   "cell_type": "code",
   "execution_count": 19,
   "metadata": {},
   "outputs": [],
   "source": [
    "import pandas as pd\n",
    "\n",
    "class TemperatureDataTransformer:\n",
    "    def __init__(self, data):\n",
    "        \"\"\"\n",
    "        Initialize the class with the wide-format data.\n",
    "        \"\"\"\n",
    "        self.df_wide = pd.DataFrame(data)\n",
    "\n",
    "    def wide_to_long(self):\n",
    "        \"\"\"\n",
    "        Transform the wide-format data into long format.\n",
    "        \"\"\"\n",
    "        df_long = self.df_wide.melt(id_vars=['Year'], var_name='Month', value_name='Temperature')\n",
    "        df_long['Date'] = pd.to_datetime(df_long['Year'].astype(str) + '-' + df_long['Month'] + '-01')\n",
    "        df_long = df_long.set_index('Date')[['Temperature']]\n",
    "        df_long=df_long.sort_index()\n",
    "        return df_long\n",
    "\n",
    "    def long_to_wide(self, df_long):\n",
    "        \"\"\"\n",
    "        Transform the long-format data back into wide format.\n",
    "        \"\"\"\n",
    "        df_long = df_long.reset_index()\n",
    "        df_long['Year'] = df_long['Date'].dt.year\n",
    "        df_long['Month'] = df_long['Date'].dt.month_name().str[:3]\n",
    "        df_wide = df_long.pivot(index='Year', columns='Month', values='Temperature')\n",
    "        # Reorder columns to match the original format\n",
    "        month_order = ['Jan', 'Feb', 'Mar', 'Apr', 'May', 'Jun', 'Jul', 'Aug', 'Sep', 'Oct', 'Nov', 'Dec']\n",
    "        df_wide = df_wide[month_order]\n",
    "        return df_wide.reset_index()\n"
   ]
  },
  {
   "cell_type": "code",
   "execution_count": null,
   "metadata": {},
   "outputs": [],
   "source": []
  },
  {
   "cell_type": "code",
   "execution_count": null,
   "metadata": {},
   "outputs": [
    {
     "ename": "NameError",
     "evalue": "name 'pd' is not defined",
     "output_type": "error",
     "traceback": [
      "\u001b[0;31m---------------------------------------------------------------------------\u001b[0m",
      "\u001b[0;31mNameError\u001b[0m                                 Traceback (most recent call last)",
      "Cell \u001b[0;32mIn[1], line 2\u001b[0m\n\u001b[1;32m      1\u001b[0m data_path\u001b[38;5;241m=\u001b[39m\u001b[38;5;124m\"\u001b[39m\u001b[38;5;124m/home/radhe/Subha/internship/werather_forcastiing/dataset\u001b[39m\u001b[38;5;124m\"\u001b[39m\n\u001b[0;32m----> 2\u001b[0m data\u001b[38;5;241m=\u001b[39m\u001b[43mpd\u001b[49m\u001b[38;5;241m.\u001b[39mDataFrame()\n\u001b[1;32m      5\u001b[0m \u001b[38;5;28;01mfor\u001b[39;00m (root,dirs,file) \u001b[38;5;129;01min\u001b[39;00m os\u001b[38;5;241m.\u001b[39mwalk(data_path):\n\u001b[1;32m      6\u001b[0m     \u001b[38;5;28;01mfor\u001b[39;00m i,f \u001b[38;5;129;01min\u001b[39;00m \u001b[38;5;28menumerate\u001b[39m(file):\n",
      "\u001b[0;31mNameError\u001b[0m: name 'pd' is not defined"
     ]
    }
   ],
   "source": [
    "\n",
    "data_path=\"D:\\projects\\internship\\werather_forcastiing\\dataset\"\n",
    "data=pd.DataFrame()\n",
    "\n",
    "\n",
    "for (root,dirs,file) in os.walk(data_path):\n",
    "    for i,f in enumerate(file):\n",
    "        if f.endswith('.csv'):\n",
    "            path=os.path.join(root,f)\n",
    "            df=pd.read_csv(path)\n",
    "            convert=TemperatureDataTransformer(df)\n",
    "            df_long=convert.wide_to_long()\n",
    "            data[f\"{str(f).split('.')[0]}_temp\"]=df_long[\"Temperature\"]\n",
    "            \n",
    "            "
   ]
  },
  {
   "cell_type": "code",
   "execution_count": 72,
   "metadata": {},
   "outputs": [],
   "source": [
    "data.to_csv(os.path.join(data_path, \"All_disticts.csv\"))"
   ]
  },
  {
   "cell_type": "code",
   "execution_count": null,
   "metadata": {},
   "outputs": [],
   "source": []
  }
 ],
 "metadata": {
  "kernelspec": {
   "display_name": "Python 3",
   "language": "python",
   "name": "python3"
  },
  "language_info": {
   "codemirror_mode": {
    "name": "ipython",
    "version": 3
   },
   "file_extension": ".py",
   "mimetype": "text/x-python",
   "name": "python",
   "nbconvert_exporter": "python",
   "pygments_lexer": "ipython3",
   "version": "3.10.16"
  }
 },
 "nbformat": 4,
 "nbformat_minor": 2
}
