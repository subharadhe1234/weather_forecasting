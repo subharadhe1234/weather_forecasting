{
 "cells": [
  {
   "cell_type": "code",
   "execution_count": 1,
   "metadata": {},
   "outputs": [
    {
     "name": "stdout",
     "output_type": "stream",
     "text": [
      "radhe radhe\n"
     ]
    }
   ],
   "source": [
    "print(\"radhe radhe\")"
   ]
  },
  {
   "cell_type": "code",
   "execution_count": 2,
   "metadata": {},
   "outputs": [],
   "source": [
    "from dotenv import load_dotenv\n",
    "import os\n",
    "\n",
    "load_dotenv()\n",
    "\n",
    "# IMPORT DATASET PATH\n",
    "DATASET_PATH= os.getenv(\"DATASET_PATH\")"
   ]
  },
  {
   "cell_type": "code",
   "execution_count": 3,
   "metadata": {},
   "outputs": [
    {
     "data": {
      "text/html": [
       "<div>\n",
       "<style scoped>\n",
       "    .dataframe tbody tr th:only-of-type {\n",
       "        vertical-align: middle;\n",
       "    }\n",
       "\n",
       "    .dataframe tbody tr th {\n",
       "        vertical-align: top;\n",
       "    }\n",
       "\n",
       "    .dataframe thead th {\n",
       "        text-align: right;\n",
       "    }\n",
       "</style>\n",
       "<table border=\"1\" class=\"dataframe\">\n",
       "  <thead>\n",
       "    <tr style=\"text-align: right;\">\n",
       "      <th></th>\n",
       "      <th>Year</th>\n",
       "      <th>Jan</th>\n",
       "      <th>Feb</th>\n",
       "      <th>Mar</th>\n",
       "      <th>Apr</th>\n",
       "      <th>May</th>\n",
       "      <th>Jun</th>\n",
       "      <th>Jul</th>\n",
       "      <th>Aug</th>\n",
       "      <th>Sep</th>\n",
       "      <th>Oct</th>\n",
       "      <th>Nov</th>\n",
       "      <th>Dec</th>\n",
       "    </tr>\n",
       "  </thead>\n",
       "  <tbody>\n",
       "    <tr>\n",
       "      <th>0</th>\n",
       "      <td>1901</td>\n",
       "      <td>17.970</td>\n",
       "      <td>21.334</td>\n",
       "      <td>26.523</td>\n",
       "      <td>31.712</td>\n",
       "      <td>32.202</td>\n",
       "      <td>32.075</td>\n",
       "      <td>28.830</td>\n",
       "      <td>28.260</td>\n",
       "      <td>28.071</td>\n",
       "      <td>27.048</td>\n",
       "      <td>21.739</td>\n",
       "      <td>18.100</td>\n",
       "    </tr>\n",
       "    <tr>\n",
       "      <th>1</th>\n",
       "      <td>1902</td>\n",
       "      <td>19.304</td>\n",
       "      <td>21.540</td>\n",
       "      <td>28.050</td>\n",
       "      <td>29.945</td>\n",
       "      <td>31.773</td>\n",
       "      <td>31.343</td>\n",
       "      <td>28.291</td>\n",
       "      <td>28.699</td>\n",
       "      <td>28.324</td>\n",
       "      <td>26.327</td>\n",
       "      <td>21.515</td>\n",
       "      <td>17.922</td>\n",
       "    </tr>\n",
       "    <tr>\n",
       "      <th>2</th>\n",
       "      <td>1903</td>\n",
       "      <td>19.092</td>\n",
       "      <td>20.611</td>\n",
       "      <td>26.948</td>\n",
       "      <td>31.629</td>\n",
       "      <td>33.581</td>\n",
       "      <td>30.709</td>\n",
       "      <td>29.313</td>\n",
       "      <td>28.320</td>\n",
       "      <td>28.031</td>\n",
       "      <td>26.142</td>\n",
       "      <td>21.093</td>\n",
       "      <td>17.255</td>\n",
       "    </tr>\n",
       "    <tr>\n",
       "      <th>3</th>\n",
       "      <td>1904</td>\n",
       "      <td>18.450</td>\n",
       "      <td>21.011</td>\n",
       "      <td>27.169</td>\n",
       "      <td>31.998</td>\n",
       "      <td>31.217</td>\n",
       "      <td>29.839</td>\n",
       "      <td>27.817</td>\n",
       "      <td>28.083</td>\n",
       "      <td>28.095</td>\n",
       "      <td>26.182</td>\n",
       "      <td>21.398</td>\n",
       "      <td>18.735</td>\n",
       "    </tr>\n",
       "    <tr>\n",
       "      <th>4</th>\n",
       "      <td>1905</td>\n",
       "      <td>18.249</td>\n",
       "      <td>18.904</td>\n",
       "      <td>25.173</td>\n",
       "      <td>28.574</td>\n",
       "      <td>30.625</td>\n",
       "      <td>32.965</td>\n",
       "      <td>28.291</td>\n",
       "      <td>28.349</td>\n",
       "      <td>27.829</td>\n",
       "      <td>26.294</td>\n",
       "      <td>21.700</td>\n",
       "      <td>18.011</td>\n",
       "    </tr>\n",
       "    <tr>\n",
       "      <th>...</th>\n",
       "      <td>...</td>\n",
       "      <td>...</td>\n",
       "      <td>...</td>\n",
       "      <td>...</td>\n",
       "      <td>...</td>\n",
       "      <td>...</td>\n",
       "      <td>...</td>\n",
       "      <td>...</td>\n",
       "      <td>...</td>\n",
       "      <td>...</td>\n",
       "      <td>...</td>\n",
       "      <td>...</td>\n",
       "      <td>...</td>\n",
       "    </tr>\n",
       "    <tr>\n",
       "      <th>97</th>\n",
       "      <td>1998</td>\n",
       "      <td>18.070</td>\n",
       "      <td>21.952</td>\n",
       "      <td>24.778</td>\n",
       "      <td>30.213</td>\n",
       "      <td>32.182</td>\n",
       "      <td>32.721</td>\n",
       "      <td>28.536</td>\n",
       "      <td>28.731</td>\n",
       "      <td>28.450</td>\n",
       "      <td>27.945</td>\n",
       "      <td>23.374</td>\n",
       "      <td>19.761</td>\n",
       "    </tr>\n",
       "    <tr>\n",
       "      <th>98</th>\n",
       "      <td>1999</td>\n",
       "      <td>18.755</td>\n",
       "      <td>22.955</td>\n",
       "      <td>27.970</td>\n",
       "      <td>32.615</td>\n",
       "      <td>31.950</td>\n",
       "      <td>30.624</td>\n",
       "      <td>28.197</td>\n",
       "      <td>28.106</td>\n",
       "      <td>27.746</td>\n",
       "      <td>27.029</td>\n",
       "      <td>22.881</td>\n",
       "      <td>20.175</td>\n",
       "    </tr>\n",
       "    <tr>\n",
       "      <th>99</th>\n",
       "      <td>2000</td>\n",
       "      <td>19.627</td>\n",
       "      <td>21.055</td>\n",
       "      <td>26.735</td>\n",
       "      <td>31.532</td>\n",
       "      <td>31.857</td>\n",
       "      <td>30.055</td>\n",
       "      <td>28.693</td>\n",
       "      <td>28.810</td>\n",
       "      <td>27.967</td>\n",
       "      <td>26.983</td>\n",
       "      <td>23.758</td>\n",
       "      <td>18.745</td>\n",
       "    </tr>\n",
       "    <tr>\n",
       "      <th>100</th>\n",
       "      <td>2001</td>\n",
       "      <td>18.593</td>\n",
       "      <td>22.214</td>\n",
       "      <td>27.048</td>\n",
       "      <td>31.377</td>\n",
       "      <td>32.261</td>\n",
       "      <td>29.266</td>\n",
       "      <td>27.803</td>\n",
       "      <td>28.854</td>\n",
       "      <td>29.007</td>\n",
       "      <td>27.648</td>\n",
       "      <td>24.193</td>\n",
       "      <td>19.848</td>\n",
       "    </tr>\n",
       "    <tr>\n",
       "      <th>101</th>\n",
       "      <td>2002</td>\n",
       "      <td>19.528</td>\n",
       "      <td>22.792</td>\n",
       "      <td>27.747</td>\n",
       "      <td>30.812</td>\n",
       "      <td>32.780</td>\n",
       "      <td>30.951</td>\n",
       "      <td>29.200</td>\n",
       "      <td>28.106</td>\n",
       "      <td>28.072</td>\n",
       "      <td>26.541</td>\n",
       "      <td>22.598</td>\n",
       "      <td>19.701</td>\n",
       "    </tr>\n",
       "  </tbody>\n",
       "</table>\n",
       "<p>102 rows × 13 columns</p>\n",
       "</div>"
      ],
      "text/plain": [
       "     Year     Jan     Feb     Mar     Apr     May     Jun     Jul     Aug  \\\n",
       "0    1901  17.970  21.334  26.523  31.712  32.202  32.075  28.830  28.260   \n",
       "1    1902  19.304  21.540  28.050  29.945  31.773  31.343  28.291  28.699   \n",
       "2    1903  19.092  20.611  26.948  31.629  33.581  30.709  29.313  28.320   \n",
       "3    1904  18.450  21.011  27.169  31.998  31.217  29.839  27.817  28.083   \n",
       "4    1905  18.249  18.904  25.173  28.574  30.625  32.965  28.291  28.349   \n",
       "..    ...     ...     ...     ...     ...     ...     ...     ...     ...   \n",
       "97   1998  18.070  21.952  24.778  30.213  32.182  32.721  28.536  28.731   \n",
       "98   1999  18.755  22.955  27.970  32.615  31.950  30.624  28.197  28.106   \n",
       "99   2000  19.627  21.055  26.735  31.532  31.857  30.055  28.693  28.810   \n",
       "100  2001  18.593  22.214  27.048  31.377  32.261  29.266  27.803  28.854   \n",
       "101  2002  19.528  22.792  27.747  30.812  32.780  30.951  29.200  28.106   \n",
       "\n",
       "        Sep     Oct     Nov     Dec  \n",
       "0    28.071  27.048  21.739  18.100  \n",
       "1    28.324  26.327  21.515  17.922  \n",
       "2    28.031  26.142  21.093  17.255  \n",
       "3    28.095  26.182  21.398  18.735  \n",
       "4    27.829  26.294  21.700  18.011  \n",
       "..      ...     ...     ...     ...  \n",
       "97   28.450  27.945  23.374  19.761  \n",
       "98   27.746  27.029  22.881  20.175  \n",
       "99   27.967  26.983  23.758  18.745  \n",
       "100  29.007  27.648  24.193  19.848  \n",
       "101  28.072  26.541  22.598  19.701  \n",
       "\n",
       "[102 rows x 13 columns]"
      ]
     },
     "execution_count": 3,
     "metadata": {},
     "output_type": "execute_result"
    }
   ],
   "source": [
    "import pandas as pd\n",
    "# LOAD DATASET\n",
    "df = pd.read_csv(DATASET_PATH)\n",
    "df\n"
   ]
  },
  {
   "cell_type": "code",
   "execution_count": 4,
   "metadata": {},
   "outputs": [],
   "source": [
    "import pandas as pd\n",
    "\n",
    "class TemperatureDataTransformer:\n",
    "    def __init__(self, data):\n",
    "        \"\"\"\n",
    "        Initialize the class with the wide-format data.\n",
    "        \"\"\"\n",
    "        self.df_wide = pd.DataFrame(data)\n",
    "\n",
    "    def wide_to_long(self):\n",
    "        \"\"\"\n",
    "        Transform the wide-format data into long format.\n",
    "        \"\"\"\n",
    "        df_long = self.df_wide.melt(id_vars=['Year'], var_name='Month', value_name='Temperature')\n",
    "        df_long['Date'] = pd.to_datetime(df_long['Year'].astype(str) + '-' + df_long['Month'] + '-01')\n",
    "        df_long = df_long.set_index('Date')[['Temperature']]\n",
    "        df_long=df_long.sort_index()\n",
    "        return df_long\n",
    "\n",
    "    def long_to_wide(self, df_long):\n",
    "        \"\"\"\n",
    "        Transform the long-format data back into wide format.\n",
    "        \"\"\"\n",
    "        df_long = df_long.reset_index()\n",
    "        df_long['Year'] = df_long['Date'].dt.year\n",
    "        df_long['Month'] = df_long['Date'].dt.month_name().str[:3]\n",
    "        df_wide = df_long.pivot(index='Year', columns='Month', values='Temperature')\n",
    "        # Reorder columns to match the original format\n",
    "        month_order = ['Jan', 'Feb', 'Mar', 'Apr', 'May', 'Jun', 'Jul', 'Aug', 'Sep', 'Oct', 'Nov', 'Dec']\n",
    "        df_wide = df_wide[month_order]\n",
    "        return df_wide.reset_index()\n"
   ]
  },
  {
   "cell_type": "code",
   "execution_count": 5,
   "metadata": {},
   "outputs": [
    {
     "data": {
      "text/html": [
       "<div>\n",
       "<style scoped>\n",
       "    .dataframe tbody tr th:only-of-type {\n",
       "        vertical-align: middle;\n",
       "    }\n",
       "\n",
       "    .dataframe tbody tr th {\n",
       "        vertical-align: top;\n",
       "    }\n",
       "\n",
       "    .dataframe thead th {\n",
       "        text-align: right;\n",
       "    }\n",
       "</style>\n",
       "<table border=\"1\" class=\"dataframe\">\n",
       "  <thead>\n",
       "    <tr style=\"text-align: right;\">\n",
       "      <th></th>\n",
       "      <th>Temperature</th>\n",
       "    </tr>\n",
       "    <tr>\n",
       "      <th>Date</th>\n",
       "      <th></th>\n",
       "    </tr>\n",
       "  </thead>\n",
       "  <tbody>\n",
       "    <tr>\n",
       "      <th>1901-01-01</th>\n",
       "      <td>17.970</td>\n",
       "    </tr>\n",
       "    <tr>\n",
       "      <th>1901-02-01</th>\n",
       "      <td>21.334</td>\n",
       "    </tr>\n",
       "    <tr>\n",
       "      <th>1901-03-01</th>\n",
       "      <td>26.523</td>\n",
       "    </tr>\n",
       "    <tr>\n",
       "      <th>1901-04-01</th>\n",
       "      <td>31.712</td>\n",
       "    </tr>\n",
       "    <tr>\n",
       "      <th>1901-05-01</th>\n",
       "      <td>32.202</td>\n",
       "    </tr>\n",
       "    <tr>\n",
       "      <th>...</th>\n",
       "      <td>...</td>\n",
       "    </tr>\n",
       "    <tr>\n",
       "      <th>2002-08-01</th>\n",
       "      <td>28.106</td>\n",
       "    </tr>\n",
       "    <tr>\n",
       "      <th>2002-09-01</th>\n",
       "      <td>28.072</td>\n",
       "    </tr>\n",
       "    <tr>\n",
       "      <th>2002-10-01</th>\n",
       "      <td>26.541</td>\n",
       "    </tr>\n",
       "    <tr>\n",
       "      <th>2002-11-01</th>\n",
       "      <td>22.598</td>\n",
       "    </tr>\n",
       "    <tr>\n",
       "      <th>2002-12-01</th>\n",
       "      <td>19.701</td>\n",
       "    </tr>\n",
       "  </tbody>\n",
       "</table>\n",
       "<p>1224 rows × 1 columns</p>\n",
       "</div>"
      ],
      "text/plain": [
       "            Temperature\n",
       "Date                   \n",
       "1901-01-01       17.970\n",
       "1901-02-01       21.334\n",
       "1901-03-01       26.523\n",
       "1901-04-01       31.712\n",
       "1901-05-01       32.202\n",
       "...                 ...\n",
       "2002-08-01       28.106\n",
       "2002-09-01       28.072\n",
       "2002-10-01       26.541\n",
       "2002-11-01       22.598\n",
       "2002-12-01       19.701\n",
       "\n",
       "[1224 rows x 1 columns]"
      ]
     },
     "execution_count": 5,
     "metadata": {},
     "output_type": "execute_result"
    }
   ],
   "source": [
    "convert=TemperatureDataTransformer(df)\n",
    "df_long=convert.wide_to_long()\n",
    "df_long\n",
    "# convert.long_to_wide(df_long=df_long)"
   ]
  },
  {
   "cell_type": "code",
   "execution_count": 6,
   "metadata": {},
   "outputs": [],
   "source": [
    "\n",
    "import datetime\n",
    "from dateutil.relativedelta import relativedelta  # Import relativedelta\n",
    "\n",
    "# Define the train end date\n",
    "train_end_date = datetime.datetime(1992, 12, 1)\n",
    "\n",
    "# Calculate the test start date by adding 1 month\n",
    "test_start = train_end_date + relativedelta(months=1)\n",
    "\n",
    "train_data=df_long[:train_end_date]\n",
    "test_data=df_long[test_start:]"
   ]
  },
  {
   "cell_type": "code",
   "execution_count": null,
   "metadata": {},
   "outputs": [],
   "source": []
  },
  {
   "cell_type": "code",
   "execution_count": 7,
   "metadata": {},
   "outputs": [
    {
     "data": {
      "text/plain": [
       "(            Temperature\n",
       " Date                   \n",
       " 1901-01-01       17.970\n",
       " 1901-02-01       21.334\n",
       " 1901-03-01       26.523\n",
       " 1901-04-01       31.712\n",
       " 1901-05-01       32.202\n",
       " ...                 ...\n",
       " 1992-08-01       28.487\n",
       " 1992-09-01       28.348\n",
       " 1992-10-01       26.711\n",
       " 1992-11-01       22.877\n",
       " 1992-12-01       18.757\n",
       " \n",
       " [1104 rows x 1 columns],\n",
       "             Temperature\n",
       " Date                   \n",
       " 1993-01-01       19.656\n",
       " 1993-02-01       22.851\n",
       " 1993-03-01       26.131\n",
       " 1993-04-01       29.796\n",
       " 1993-05-01       31.958\n",
       " ...                 ...\n",
       " 2002-08-01       28.106\n",
       " 2002-09-01       28.072\n",
       " 2002-10-01       26.541\n",
       " 2002-11-01       22.598\n",
       " 2002-12-01       19.701\n",
       " \n",
       " [120 rows x 1 columns])"
      ]
     },
     "execution_count": 7,
     "metadata": {},
     "output_type": "execute_result"
    }
   ],
   "source": [
    "train_data,test_data"
   ]
  },
  {
   "cell_type": "markdown",
   "metadata": {},
   "source": [
    "### data prepration for Lstm model\n"
   ]
  },
  {
   "cell_type": "code",
   "execution_count": 8,
   "metadata": {},
   "outputs": [],
   "source": [
    "\n",
    "# univariate lstm example\n",
    "from numpy import array\n",
    "from keras.models import Sequential\n",
    "from keras.layers import LSTM\n",
    "from keras.layers import Dense\n",
    "\n",
    "def split_sequence(sequence,n_step):\n",
    "    X, y = [],[]\n",
    "    for i in range(len(sequence)):\n",
    "        end_ix = i + n_step\n",
    "        if end_ix > len(sequence)-1:\n",
    "            break\n",
    "        seq_x, seq_y = sequence[i:end_ix], sequence[end_ix]\n",
    "        X.append(seq_x)\n",
    "        y.append(seq_y)\n",
    "    return array(X), array(y)\n",
    "    "
   ]
  },
  {
   "cell_type": "code",
   "execution_count": 19,
   "metadata": {},
   "outputs": [
    {
     "name": "stderr",
     "output_type": "stream",
     "text": [
      "C:\\Users\\subha\\AppData\\Local\\Temp\\ipykernel_12760\\2745416145.py:13: FutureWarning: Series.__getitem__ treating keys as positions is deprecated. In a future version, integer keys will always be treated as labels (consistent with DataFrame behavior). To access a value by position, use `ser.iloc[pos]`\n",
      "  seq_x, seq_y = sequence[i:end_ix], sequence[end_ix]\n"
     ]
    }
   ],
   "source": [
    "n_steps=12\n",
    "X_train,y_train=split_sequence(train_data[\"Temperature\"],n_step=n_steps)\n",
    "X_test,y_test=split_sequence(test_data[\"Temperature\"],n_step=n_steps)\n"
   ]
  },
  {
   "cell_type": "code",
   "execution_count": 20,
   "metadata": {},
   "outputs": [
    {
     "data": {
      "text/plain": [
       "((1092, 12), (1092,), (108, 12), (108,))"
      ]
     },
     "execution_count": 20,
     "metadata": {},
     "output_type": "execute_result"
    }
   ],
   "source": [
    "X_train.shape, y_train.shape,X_test.shape,y_test.shape"
   ]
  },
  {
   "cell_type": "code",
   "execution_count": 21,
   "metadata": {},
   "outputs": [],
   "source": [
    "n_features=1\n",
    "X_train=X_train.reshape(X_train.shape[0],X_train.shape[1],n_features)\n",
    "X_test=X_test.reshape(X_test.shape[0],X_test.shape[1],n_features)"
   ]
  },
  {
   "cell_type": "code",
   "execution_count": 22,
   "metadata": {},
   "outputs": [
    {
     "data": {
      "text/plain": [
       "((1092, 12, 1), (108, 12, 1))"
      ]
     },
     "execution_count": 22,
     "metadata": {},
     "output_type": "execute_result"
    }
   ],
   "source": [
    "X_train.shape,X_test.shape"
   ]
  },
  {
   "cell_type": "code",
   "execution_count": null,
   "metadata": {},
   "outputs": [
    {
     "name": "stdout",
     "output_type": "stream",
     "text": [
      "Epoch 1/200\n",
      "35/35 [==============================] - 2s 5ms/step - loss: 71.4208\n",
      "Epoch 2/200\n",
      "35/35 [==============================] - 0s 6ms/step - loss: 4.9422\n",
      "Epoch 3/200\n",
      "35/35 [==============================] - 0s 6ms/step - loss: 2.0548\n",
      "Epoch 4/200\n",
      "35/35 [==============================] - 0s 6ms/step - loss: 1.3369\n",
      "Epoch 5/200\n",
      "35/35 [==============================] - 0s 6ms/step - loss: 1.0826\n",
      "Epoch 6/200\n",
      "21/35 [=================>............] - ETA: 0s - loss: 0.8934"
     ]
    }
   ],
   "source": [
    "model = Sequential()\n",
    "model.add(LSTM(50, activation='relu', return_sequences=True, input_shape=(n_steps, n_features)))\n",
    "model.add(LSTM(50, activation='relu'))\n",
    "model.add(Dense(1))\n",
    "model.compile(optimizer='adam', loss='mse')\n",
    "model.fit(X_train, y_train, epochs=200, verbose=1)"
   ]
  },
  {
   "cell_type": "code",
   "execution_count": 108,
   "metadata": {},
   "outputs": [
    {
     "name": "stdout",
     "output_type": "stream",
     "text": [
      "4/4 - 0s - 255ms/epoch - 64ms/step\n"
     ]
    }
   ],
   "source": [
    "# x_input = array([[60, 70, 80]])\n",
    "# x_input = x_input.reshape((1, n_steps, n_features))\n",
    "yhat = model.predict(X_test, verbose=2)\n",
    "# print(yhat)\n",
    "# print(x_input.shape)"
   ]
  },
  {
   "cell_type": "code",
   "execution_count": 109,
   "metadata": {},
   "outputs": [],
   "source": [
    "pred=yhat.flatten()"
   ]
  },
  {
   "cell_type": "code",
   "execution_count": 110,
   "metadata": {},
   "outputs": [
    {
     "data": {
      "text/plain": [
       "(array([19.885, 21.347, 27.47 , 29.959, 32.763, 30.565, 28.314, 28.07 ,\n",
       "        28.159, 26.8  , 22.579, 19.104, 18.021, 21.533, 26.554, 31.294,\n",
       "        32.306, 31.656, 28.385, 28.509, 28.031, 26.538, 22.576, 19.429,\n",
       "        19.715, 21.205, 27.954, 29.957, 33.317, 29.831, 28.924, 27.716,\n",
       "        28.831, 26.204, 22.495, 18.647, 18.424, 20.906, 27.213, 28.731,\n",
       "        32.165, 31.968, 28.273, 28.127, 27.754, 26.655, 23.544, 19.249,\n",
       "        18.07 , 21.952, 24.778, 30.213, 32.182, 32.721, 28.536, 28.731,\n",
       "        28.45 , 27.945, 23.374, 19.761, 18.755, 22.955, 27.97 , 32.615,\n",
       "        31.95 , 30.624, 28.197, 28.106, 27.746, 27.029, 22.881, 20.175,\n",
       "        19.627, 21.055, 26.735, 31.532, 31.857, 30.055, 28.693, 28.81 ,\n",
       "        27.967, 26.983, 23.758, 18.745, 18.593, 22.214, 27.048, 31.377,\n",
       "        32.261, 29.266, 27.803, 28.854, 29.007, 27.648, 24.193, 19.848,\n",
       "        19.528, 22.792, 27.747, 30.812, 32.78 , 30.951, 29.2  , 28.106,\n",
       "        28.072, 26.541, 22.598, 19.701]),\n",
       " array([19.037848, 21.56427 , 26.736912, 31.357855, 32.058174, 30.889685,\n",
       "        28.052593, 27.793264, 27.697767, 26.213167, 22.348585, 18.887339,\n",
       "        18.923014, 20.914701, 26.533459, 30.944557, 32.58583 , 30.67586 ,\n",
       "        28.39947 , 27.725399, 28.024775, 26.411638, 22.158434, 18.653412,\n",
       "        18.691229, 21.422083, 26.851406, 31.75821 , 32.133698, 31.11469 ,\n",
       "        27.74091 , 28.081207, 27.575726, 26.513323, 22.28913 , 18.778877,\n",
       "        18.862982, 21.08206 , 26.636421, 31.160664, 31.51368 , 30.619328,\n",
       "        28.738918, 27.547035, 27.884172, 26.192015, 22.137907, 19.185305,\n",
       "        18.562185, 20.601473, 26.248928, 29.932178, 32.276764, 31.31393 ,\n",
       "        28.911997, 27.61489 , 28.11703 , 26.82605 , 23.409151, 19.569765,\n",
       "        18.555464, 20.704203, 26.262524, 31.952337, 33.370575, 30.62425 ,\n",
       "        28.073015, 27.877054, 27.814844, 26.164394, 22.358217, 18.987955,\n",
       "        19.337393, 21.91649 , 26.86523 , 31.141298, 32.964237, 30.639038,\n",
       "        27.735458, 27.864489, 28.005354, 26.420263, 22.924417, 19.581703,\n",
       "        18.729677, 20.704494, 26.615559, 31.23155 , 32.56938 , 30.672293,\n",
       "        27.558844, 27.538342, 28.054197, 26.7633  , 23.285612, 19.988127,\n",
       "        18.808674, 21.019617, 26.577856, 31.67872 , 32.417233, 30.826895,\n",
       "        28.1209  , 28.296535, 27.983284, 26.504875, 22.560894, 18.921013],\n",
       "       dtype=float32))"
      ]
     },
     "execution_count": 110,
     "metadata": {},
     "output_type": "execute_result"
    }
   ],
   "source": [
    "y_test,pred"
   ]
  },
  {
   "cell_type": "code",
   "execution_count": null,
   "metadata": {},
   "outputs": [],
   "source": [
    "# r2 92 in n_step=5 and lare=2 (50,50)\n",
    "# r2 97 in n_step=12 and lare=2 (50,50)\n",
    "# r2 96 in n_step=12 and lare=2 (100,50)\n",
    "# r2 94 in n_step=12 and lare=2 (100,10)\n",
    "# r2 95.8 in n_step=12 and lare=2 (100,100)"
   ]
  },
  {
   "cell_type": "code",
   "execution_count": 112,
   "metadata": {},
   "outputs": [
    {
     "data": {
      "text/plain": [
       "0.9627966742050521"
      ]
     },
     "execution_count": 112,
     "metadata": {},
     "output_type": "execute_result"
    }
   ],
   "source": [
    "from sklearn.metrics import r2_score\n",
    "r2_score(y_test,pred)"
   ]
  },
  {
   "cell_type": "code",
   "execution_count": 113,
   "metadata": {},
   "outputs": [
    {
     "data": {
      "text/plain": [
       "Text(0, 0.5, 'temp')"
      ]
     },
     "execution_count": 113,
     "metadata": {},
     "output_type": "execute_result"
    },
    {
     "data": {
      "image/png": "[encoded data removed]",
      "text/plain": [
       "<Figure size 1000x400 with 1 Axes>"
      ]
     },
     "metadata": {},
     "output_type": "display_data"
    }
   ],
   "source": [
    "import matplotlib.pyplot as plt\n",
    "\n",
    "plt.figure(figsize=(10,4))\n",
    "\n",
    "# plt.plot(test_data[month])\n",
    "# plt.plot(predictions)\n",
    "plt.plot(y_test)\n",
    "plt.plot(pred)\n",
    "\n",
    "plt.legend(('Data', 'Predictions'), fontsize=16)\n",
    "\n",
    "plt.title('temp pred', fontsize=20)\n",
    "plt.ylabel('temp', fontsize=16)"
   ]
  },
  {
   "cell_type": "code",
   "execution_count": null,
   "metadata": {},
   "outputs": [],
   "source": []
  },
  {
   "cell_type": "code",
   "execution_count": null,
   "metadata": {},
   "outputs": [],
   "source": []
  }
 ],
 "metadata": {
  "kernelspec": {
   "display_name": "Python 3",
   "language": "python",
   "name": "python3"
  },
  "language_info": {
   "codemirror_mode": {
    "name": "ipython",
    "version": 3
   },
   "file_extension": ".py",
   "mimetype": "text/x-python",
   "name": "python",
   "nbconvert_exporter": "python",
   "pygments_lexer": "ipython3",
   "version": "3.11.11"
  }
 },
 "nbformat": 4,
 "nbformat_minor": 2
}
