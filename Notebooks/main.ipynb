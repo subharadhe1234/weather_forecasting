{
 "cells": [
  {
   "cell_type": "code",
   "execution_count": 1,
   "metadata": {},
   "outputs": [
    {
     "name": "stdout",
     "output_type": "stream",
     "text": [
      "radhe radhe\n"
     ]
    }
   ],
   "source": [
    "print(\"radhe radhe\")"
   ]
  },
  {
   "cell_type": "code",
   "execution_count": 2,
   "metadata": {},
   "outputs": [],
   "source": [
    "from dotenv import load_dotenv\n",
    "import os\n",
    "\n",
    "load_dotenv()\n",
    "\n",
    "# IMPORT DATASET PATH\n",
    "DATASET_PATH= os.getenv(\"DATASET_PATH\")"
   ]
  },
  {
   "cell_type": "code",
   "execution_count": 11,
   "metadata": {},
   "outputs": [
    {
     "data": {
      "text/html": [
       "<div>\n",
       "<style scoped>\n",
       "    .dataframe tbody tr th:only-of-type {\n",
       "        vertical-align: middle;\n",
       "    }\n",
       "\n",
       "    .dataframe tbody tr th {\n",
       "        vertical-align: top;\n",
       "    }\n",
       "\n",
       "    .dataframe thead th {\n",
       "        text-align: right;\n",
       "    }\n",
       "</style>\n",
       "<table border=\"1\" class=\"dataframe\">\n",
       "  <thead>\n",
       "    <tr style=\"text-align: right;\">\n",
       "      <th></th>\n",
       "      <th>Jan</th>\n",
       "      <th>Feb</th>\n",
       "      <th>Mar</th>\n",
       "      <th>Apr</th>\n",
       "      <th>May</th>\n",
       "      <th>Jun</th>\n",
       "      <th>Jul</th>\n",
       "      <th>Aug</th>\n",
       "      <th>Sep</th>\n",
       "      <th>Oct</th>\n",
       "      <th>Nov</th>\n",
       "      <th>Dec</th>\n",
       "    </tr>\n",
       "    <tr>\n",
       "      <th>Year</th>\n",
       "      <th></th>\n",
       "      <th></th>\n",
       "      <th></th>\n",
       "      <th></th>\n",
       "      <th></th>\n",
       "      <th></th>\n",
       "      <th></th>\n",
       "      <th></th>\n",
       "      <th></th>\n",
       "      <th></th>\n",
       "      <th></th>\n",
       "      <th></th>\n",
       "    </tr>\n",
       "  </thead>\n",
       "  <tbody>\n",
       "    <tr>\n",
       "      <th>1901-01-01</th>\n",
       "      <td>17.970</td>\n",
       "      <td>21.334</td>\n",
       "      <td>26.523</td>\n",
       "      <td>31.712</td>\n",
       "      <td>32.202</td>\n",
       "      <td>32.075</td>\n",
       "      <td>28.830</td>\n",
       "      <td>28.260</td>\n",
       "      <td>28.071</td>\n",
       "      <td>27.048</td>\n",
       "      <td>21.739</td>\n",
       "      <td>18.100</td>\n",
       "    </tr>\n",
       "    <tr>\n",
       "      <th>1902-01-01</th>\n",
       "      <td>19.304</td>\n",
       "      <td>21.540</td>\n",
       "      <td>28.050</td>\n",
       "      <td>29.945</td>\n",
       "      <td>31.773</td>\n",
       "      <td>31.343</td>\n",
       "      <td>28.291</td>\n",
       "      <td>28.699</td>\n",
       "      <td>28.324</td>\n",
       "      <td>26.327</td>\n",
       "      <td>21.515</td>\n",
       "      <td>17.922</td>\n",
       "    </tr>\n",
       "    <tr>\n",
       "      <th>1903-01-01</th>\n",
       "      <td>19.092</td>\n",
       "      <td>20.611</td>\n",
       "      <td>26.948</td>\n",
       "      <td>31.629</td>\n",
       "      <td>33.581</td>\n",
       "      <td>30.709</td>\n",
       "      <td>29.313</td>\n",
       "      <td>28.320</td>\n",
       "      <td>28.031</td>\n",
       "      <td>26.142</td>\n",
       "      <td>21.093</td>\n",
       "      <td>17.255</td>\n",
       "    </tr>\n",
       "    <tr>\n",
       "      <th>1904-01-01</th>\n",
       "      <td>18.450</td>\n",
       "      <td>21.011</td>\n",
       "      <td>27.169</td>\n",
       "      <td>31.998</td>\n",
       "      <td>31.217</td>\n",
       "      <td>29.839</td>\n",
       "      <td>27.817</td>\n",
       "      <td>28.083</td>\n",
       "      <td>28.095</td>\n",
       "      <td>26.182</td>\n",
       "      <td>21.398</td>\n",
       "      <td>18.735</td>\n",
       "    </tr>\n",
       "    <tr>\n",
       "      <th>1905-01-01</th>\n",
       "      <td>18.249</td>\n",
       "      <td>18.904</td>\n",
       "      <td>25.173</td>\n",
       "      <td>28.574</td>\n",
       "      <td>30.625</td>\n",
       "      <td>32.965</td>\n",
       "      <td>28.291</td>\n",
       "      <td>28.349</td>\n",
       "      <td>27.829</td>\n",
       "      <td>26.294</td>\n",
       "      <td>21.700</td>\n",
       "      <td>18.011</td>\n",
       "    </tr>\n",
       "  </tbody>\n",
       "</table>\n",
       "</div>"
      ],
      "text/plain": [
       "               Jan     Feb     Mar     Apr     May     Jun     Jul     Aug  \\\n",
       "Year                                                                         \n",
       "1901-01-01  17.970  21.334  26.523  31.712  32.202  32.075  28.830  28.260   \n",
       "1902-01-01  19.304  21.540  28.050  29.945  31.773  31.343  28.291  28.699   \n",
       "1903-01-01  19.092  20.611  26.948  31.629  33.581  30.709  29.313  28.320   \n",
       "1904-01-01  18.450  21.011  27.169  31.998  31.217  29.839  27.817  28.083   \n",
       "1905-01-01  18.249  18.904  25.173  28.574  30.625  32.965  28.291  28.349   \n",
       "\n",
       "               Sep     Oct     Nov     Dec  \n",
       "Year                                        \n",
       "1901-01-01  28.071  27.048  21.739  18.100  \n",
       "1902-01-01  28.324  26.327  21.515  17.922  \n",
       "1903-01-01  28.031  26.142  21.093  17.255  \n",
       "1904-01-01  28.095  26.182  21.398  18.735  \n",
       "1905-01-01  27.829  26.294  21.700  18.011  "
      ]
     },
     "execution_count": 11,
     "metadata": {},
     "output_type": "execute_result"
    }
   ],
   "source": [
    "import pandas as pd\n",
    "# LOAD DATASET\n",
    "df = pd.read_csv(DATASET_PATH,parse_dates=[\"Year\"],dayfirst=False,index_col=\"Year\")\n",
    "df.head()\n"
   ]
  },
  {
   "cell_type": "markdown",
   "metadata": {},
   "source": [
    "### DATA CLEANING"
   ]
  },
  {
   "cell_type": "code",
   "execution_count": null,
   "metadata": {},
   "outputs": [
    {
     "data": {
      "text/plain": [
       "Jan    0\n",
       "Feb    0\n",
       "Mar    0\n",
       "Apr    0\n",
       "May    0\n",
       "Jun    0\n",
       "Jul    0\n",
       "Aug    0\n",
       "Sep    0\n",
       "Oct    0\n",
       "Nov    0\n",
       "Dec    0\n",
       "dtype: int64"
      ]
     },
     "execution_count": 14,
     "metadata": {},
     "output_type": "execute_result"
    }
   ],
   "source": [
    "# CHECKING IS NULL VALUE HAVE\n",
    "df.isna().sum()\n",
    "# # "
   ]
  }
 ],
 "metadata": {
  "kernelspec": {
   "display_name": "Python 3",
   "language": "python",
   "name": "python3"
  },
  "language_info": {
   "codemirror_mode": {
    "name": "ipython",
    "version": 3
   },
   "file_extension": ".py",
   "mimetype": "text/x-python",
   "name": "python",
   "nbconvert_exporter": "python",
   "pygments_lexer": "ipython3",
   "version": "3.11.11"
  }
 },
 "nbformat": 4,
 "nbformat_minor": 2
}
