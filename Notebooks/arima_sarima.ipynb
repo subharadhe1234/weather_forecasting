{
 "cells": [
  {
   "cell_type": "markdown",
   "metadata": {},
   "source": [
    "### data prepration\n"
   ]
  },
  {
   "cell_type": "code",
   "execution_count": 1,
   "metadata": {},
   "outputs": [
    {
     "name": "stdout",
     "output_type": "stream",
     "text": [
      "radhe radhe\n"
     ]
    }
   ],
   "source": [
    "print(\"radhe radhe\")"
   ]
  },
  {
   "cell_type": "code",
   "execution_count": 2,
   "metadata": {},
   "outputs": [],
   "source": [
    "from dotenv import load_dotenv\n",
    "import os\n",
    "\n",
    "load_dotenv()\n",
    "\n",
    "# IMPORT DATASET PATH\n",
    "DATASET_PATH= os.getenv(\"DATASET_PATH\")"
   ]
  },
  {
   "cell_type": "code",
   "execution_count": 3,
   "metadata": {},
   "outputs": [
    {
     "name": "stdout",
     "output_type": "stream",
     "text": [
      "/home/radhe/Subha/internship/werather_forcastiing/dataset/All_disticts.csv\n"
     ]
    }
   ],
   "source": [
    "print(DATASET_PATH)"
   ]
  },
  {
   "cell_type": "code",
   "execution_count": 4,
   "metadata": {},
   "outputs": [
    {
     "data": {
      "text/html": [
       "<div>\n",
       "<style scoped>\n",
       "    .dataframe tbody tr th:only-of-type {\n",
       "        vertical-align: middle;\n",
       "    }\n",
       "\n",
       "    .dataframe tbody tr th {\n",
       "        vertical-align: top;\n",
       "    }\n",
       "\n",
       "    .dataframe thead th {\n",
       "        text-align: right;\n",
       "    }\n",
       "</style>\n",
       "<table border=\"1\" class=\"dataframe\">\n",
       "  <thead>\n",
       "    <tr style=\"text-align: right;\">\n",
       "      <th></th>\n",
       "      <th>Date</th>\n",
       "      <th>Bankura_temp</th>\n",
       "      <th>Birbhum_temp</th>\n",
       "      <th>Burdwan_temp</th>\n",
       "      <th>Darjeeling_temp</th>\n",
       "      <th>Hooghly_temp</th>\n",
       "      <th>Howrah_temp</th>\n",
       "      <th>Jalpaiguri_temp</th>\n",
       "      <th>Kochbihar_temp</th>\n",
       "      <th>Kolkata_temp</th>\n",
       "      <th>Malda_temp</th>\n",
       "      <th>Medinipur_temp</th>\n",
       "      <th>Murshidabad_temp</th>\n",
       "      <th>Nadia_temp</th>\n",
       "      <th>North-24-Parganas_temp</th>\n",
       "      <th>North-Dinajpur_temp</th>\n",
       "      <th>Purulia_temp</th>\n",
       "      <th>South-24-Parganas_temp</th>\n",
       "      <th>South-Dinajpur_temp</th>\n",
       "    </tr>\n",
       "  </thead>\n",
       "  <tbody>\n",
       "    <tr>\n",
       "      <th>0</th>\n",
       "      <td>1901-01-01</td>\n",
       "      <td>17.970</td>\n",
       "      <td>17.405</td>\n",
       "      <td>18.108</td>\n",
       "      <td>14.058</td>\n",
       "      <td>18.897</td>\n",
       "      <td>19.161</td>\n",
       "      <td>15.593</td>\n",
       "      <td>15.917</td>\n",
       "      <td>19.106</td>\n",
       "      <td>15.670</td>\n",
       "      <td>18.889</td>\n",
       "      <td>17.540</td>\n",
       "      <td>18.428</td>\n",
       "      <td>18.522</td>\n",
       "      <td>15.151</td>\n",
       "      <td>17.159</td>\n",
       "      <td>15.968</td>\n",
       "      <td>16.580</td>\n",
       "    </tr>\n",
       "    <tr>\n",
       "      <th>1</th>\n",
       "      <td>1901-02-01</td>\n",
       "      <td>21.334</td>\n",
       "      <td>21.435</td>\n",
       "      <td>21.879</td>\n",
       "      <td>16.913</td>\n",
       "      <td>22.437</td>\n",
       "      <td>22.497</td>\n",
       "      <td>18.650</td>\n",
       "      <td>19.243</td>\n",
       "      <td>22.600</td>\n",
       "      <td>19.754</td>\n",
       "      <td>21.892</td>\n",
       "      <td>21.501</td>\n",
       "      <td>22.215</td>\n",
       "      <td>21.830</td>\n",
       "      <td>18.845</td>\n",
       "      <td>20.297</td>\n",
       "      <td>18.558</td>\n",
       "      <td>20.409</td>\n",
       "    </tr>\n",
       "    <tr>\n",
       "      <th>2</th>\n",
       "      <td>1901-03-01</td>\n",
       "      <td>26.523</td>\n",
       "      <td>26.422</td>\n",
       "      <td>26.913</td>\n",
       "      <td>21.394</td>\n",
       "      <td>27.463</td>\n",
       "      <td>27.343</td>\n",
       "      <td>23.034</td>\n",
       "      <td>23.535</td>\n",
       "      <td>27.495</td>\n",
       "      <td>24.729</td>\n",
       "      <td>26.686</td>\n",
       "      <td>26.360</td>\n",
       "      <td>26.938</td>\n",
       "      <td>26.097</td>\n",
       "      <td>23.732</td>\n",
       "      <td>25.467</td>\n",
       "      <td>22.129</td>\n",
       "      <td>25.228</td>\n",
       "    </tr>\n",
       "    <tr>\n",
       "      <th>3</th>\n",
       "      <td>1901-04-01</td>\n",
       "      <td>31.712</td>\n",
       "      <td>31.807</td>\n",
       "      <td>31.968</td>\n",
       "      <td>25.806</td>\n",
       "      <td>31.886</td>\n",
       "      <td>31.445</td>\n",
       "      <td>27.258</td>\n",
       "      <td>27.823</td>\n",
       "      <td>31.686</td>\n",
       "      <td>30.027</td>\n",
       "      <td>30.972</td>\n",
       "      <td>31.581</td>\n",
       "      <td>31.725</td>\n",
       "      <td>29.794</td>\n",
       "      <td>28.800</td>\n",
       "      <td>30.974</td>\n",
       "      <td>25.039</td>\n",
       "      <td>30.325</td>\n",
       "    </tr>\n",
       "    <tr>\n",
       "      <th>4</th>\n",
       "      <td>1901-05-01</td>\n",
       "      <td>32.202</td>\n",
       "      <td>31.714</td>\n",
       "      <td>31.934</td>\n",
       "      <td>26.155</td>\n",
       "      <td>31.622</td>\n",
       "      <td>31.316</td>\n",
       "      <td>27.323</td>\n",
       "      <td>27.809</td>\n",
       "      <td>31.392</td>\n",
       "      <td>29.840</td>\n",
       "      <td>31.223</td>\n",
       "      <td>31.243</td>\n",
       "      <td>31.368</td>\n",
       "      <td>29.616</td>\n",
       "      <td>28.859</td>\n",
       "      <td>32.114</td>\n",
       "      <td>25.069</td>\n",
       "      <td>29.959</td>\n",
       "    </tr>\n",
       "    <tr>\n",
       "      <th>...</th>\n",
       "      <td>...</td>\n",
       "      <td>...</td>\n",
       "      <td>...</td>\n",
       "      <td>...</td>\n",
       "      <td>...</td>\n",
       "      <td>...</td>\n",
       "      <td>...</td>\n",
       "      <td>...</td>\n",
       "      <td>...</td>\n",
       "      <td>...</td>\n",
       "      <td>...</td>\n",
       "      <td>...</td>\n",
       "      <td>...</td>\n",
       "      <td>...</td>\n",
       "      <td>...</td>\n",
       "      <td>...</td>\n",
       "      <td>...</td>\n",
       "      <td>...</td>\n",
       "      <td>...</td>\n",
       "    </tr>\n",
       "    <tr>\n",
       "      <th>1219</th>\n",
       "      <td>2002-08-01</td>\n",
       "      <td>28.106</td>\n",
       "      <td>28.499</td>\n",
       "      <td>28.547</td>\n",
       "      <td>27.061</td>\n",
       "      <td>28.633</td>\n",
       "      <td>28.567</td>\n",
       "      <td>28.438</td>\n",
       "      <td>29.013</td>\n",
       "      <td>28.697</td>\n",
       "      <td>28.286</td>\n",
       "      <td>27.852</td>\n",
       "      <td>28.819</td>\n",
       "      <td>28.898</td>\n",
       "      <td>27.609</td>\n",
       "      <td>28.474</td>\n",
       "      <td>27.416</td>\n",
       "      <td>23.336</td>\n",
       "      <td>29.026</td>\n",
       "    </tr>\n",
       "    <tr>\n",
       "      <th>1220</th>\n",
       "      <td>2002-09-01</td>\n",
       "      <td>28.072</td>\n",
       "      <td>28.519</td>\n",
       "      <td>28.568</td>\n",
       "      <td>26.502</td>\n",
       "      <td>28.653</td>\n",
       "      <td>28.603</td>\n",
       "      <td>27.949</td>\n",
       "      <td>28.511</td>\n",
       "      <td>28.700</td>\n",
       "      <td>28.224</td>\n",
       "      <td>27.888</td>\n",
       "      <td>28.916</td>\n",
       "      <td>29.102</td>\n",
       "      <td>27.743</td>\n",
       "      <td>28.198</td>\n",
       "      <td>27.325</td>\n",
       "      <td>23.492</td>\n",
       "      <td>29.013</td>\n",
       "    </tr>\n",
       "    <tr>\n",
       "      <th>1221</th>\n",
       "      <td>2002-10-01</td>\n",
       "      <td>26.541</td>\n",
       "      <td>27.130</td>\n",
       "      <td>27.294</td>\n",
       "      <td>25.052</td>\n",
       "      <td>27.605</td>\n",
       "      <td>27.644</td>\n",
       "      <td>26.433</td>\n",
       "      <td>26.938</td>\n",
       "      <td>27.800</td>\n",
       "      <td>26.828</td>\n",
       "      <td>26.773</td>\n",
       "      <td>27.597</td>\n",
       "      <td>27.991</td>\n",
       "      <td>26.991</td>\n",
       "      <td>26.759</td>\n",
       "      <td>25.715</td>\n",
       "      <td>22.852</td>\n",
       "      <td>27.534</td>\n",
       "    </tr>\n",
       "    <tr>\n",
       "      <th>1222</th>\n",
       "      <td>2002-11-01</td>\n",
       "      <td>22.598</td>\n",
       "      <td>23.074</td>\n",
       "      <td>23.383</td>\n",
       "      <td>21.598</td>\n",
       "      <td>23.950</td>\n",
       "      <td>24.075</td>\n",
       "      <td>23.091</td>\n",
       "      <td>23.490</td>\n",
       "      <td>24.203</td>\n",
       "      <td>22.864</td>\n",
       "      <td>23.184</td>\n",
       "      <td>23.883</td>\n",
       "      <td>24.294</td>\n",
       "      <td>23.672</td>\n",
       "      <td>22.735</td>\n",
       "      <td>21.676</td>\n",
       "      <td>20.090</td>\n",
       "      <td>24.069</td>\n",
       "    </tr>\n",
       "    <tr>\n",
       "      <th>1223</th>\n",
       "      <td>2002-12-01</td>\n",
       "      <td>19.701</td>\n",
       "      <td>19.883</td>\n",
       "      <td>20.117</td>\n",
       "      <td>18.126</td>\n",
       "      <td>20.646</td>\n",
       "      <td>20.846</td>\n",
       "      <td>19.658</td>\n",
       "      <td>19.719</td>\n",
       "      <td>20.904</td>\n",
       "      <td>19.341</td>\n",
       "      <td>20.332</td>\n",
       "      <td>20.246</td>\n",
       "      <td>20.655</td>\n",
       "      <td>20.368</td>\n",
       "      <td>19.106</td>\n",
       "      <td>19.189</td>\n",
       "      <td>17.429</td>\n",
       "      <td>20.391</td>\n",
       "    </tr>\n",
       "  </tbody>\n",
       "</table>\n",
       "<p>1224 rows × 19 columns</p>\n",
       "</div>"
      ],
      "text/plain": [
       "            Date  Bankura_temp  Birbhum_temp  Burdwan_temp  Darjeeling_temp  \\\n",
       "0     1901-01-01        17.970        17.405        18.108           14.058   \n",
       "1     1901-02-01        21.334        21.435        21.879           16.913   \n",
       "2     1901-03-01        26.523        26.422        26.913           21.394   \n",
       "3     1901-04-01        31.712        31.807        31.968           25.806   \n",
       "4     1901-05-01        32.202        31.714        31.934           26.155   \n",
       "...          ...           ...           ...           ...              ...   \n",
       "1219  2002-08-01        28.106        28.499        28.547           27.061   \n",
       "1220  2002-09-01        28.072        28.519        28.568           26.502   \n",
       "1221  2002-10-01        26.541        27.130        27.294           25.052   \n",
       "1222  2002-11-01        22.598        23.074        23.383           21.598   \n",
       "1223  2002-12-01        19.701        19.883        20.117           18.126   \n",
       "\n",
       "      Hooghly_temp  Howrah_temp  Jalpaiguri_temp  Kochbihar_temp  \\\n",
       "0           18.897       19.161           15.593          15.917   \n",
       "1           22.437       22.497           18.650          19.243   \n",
       "2           27.463       27.343           23.034          23.535   \n",
       "3           31.886       31.445           27.258          27.823   \n",
       "4           31.622       31.316           27.323          27.809   \n",
       "...            ...          ...              ...             ...   \n",
       "1219        28.633       28.567           28.438          29.013   \n",
       "1220        28.653       28.603           27.949          28.511   \n",
       "1221        27.605       27.644           26.433          26.938   \n",
       "1222        23.950       24.075           23.091          23.490   \n",
       "1223        20.646       20.846           19.658          19.719   \n",
       "\n",
       "      Kolkata_temp  Malda_temp  Medinipur_temp  Murshidabad_temp  Nadia_temp  \\\n",
       "0           19.106      15.670          18.889            17.540      18.428   \n",
       "1           22.600      19.754          21.892            21.501      22.215   \n",
       "2           27.495      24.729          26.686            26.360      26.938   \n",
       "3           31.686      30.027          30.972            31.581      31.725   \n",
       "4           31.392      29.840          31.223            31.243      31.368   \n",
       "...            ...         ...             ...               ...         ...   \n",
       "1219        28.697      28.286          27.852            28.819      28.898   \n",
       "1220        28.700      28.224          27.888            28.916      29.102   \n",
       "1221        27.800      26.828          26.773            27.597      27.991   \n",
       "1222        24.203      22.864          23.184            23.883      24.294   \n",
       "1223        20.904      19.341          20.332            20.246      20.655   \n",
       "\n",
       "      North-24-Parganas_temp  North-Dinajpur_temp  Purulia_temp  \\\n",
       "0                     18.522               15.151        17.159   \n",
       "1                     21.830               18.845        20.297   \n",
       "2                     26.097               23.732        25.467   \n",
       "3                     29.794               28.800        30.974   \n",
       "4                     29.616               28.859        32.114   \n",
       "...                      ...                  ...           ...   \n",
       "1219                  27.609               28.474        27.416   \n",
       "1220                  27.743               28.198        27.325   \n",
       "1221                  26.991               26.759        25.715   \n",
       "1222                  23.672               22.735        21.676   \n",
       "1223                  20.368               19.106        19.189   \n",
       "\n",
       "      South-24-Parganas_temp  South-Dinajpur_temp  \n",
       "0                     15.968               16.580  \n",
       "1                     18.558               20.409  \n",
       "2                     22.129               25.228  \n",
       "3                     25.039               30.325  \n",
       "4                     25.069               29.959  \n",
       "...                      ...                  ...  \n",
       "1219                  23.336               29.026  \n",
       "1220                  23.492               29.013  \n",
       "1221                  22.852               27.534  \n",
       "1222                  20.090               24.069  \n",
       "1223                  17.429               20.391  \n",
       "\n",
       "[1224 rows x 19 columns]"
      ]
     },
     "execution_count": 4,
     "metadata": {},
     "output_type": "execute_result"
    }
   ],
   "source": [
    "import pandas as pd\n",
    "# LOAD DATASET\n",
    "df = pd.read_csv(DATASET_PATH)\n",
    "df\n"
   ]
  },
  {
   "cell_type": "code",
   "execution_count": 5,
   "metadata": {},
   "outputs": [],
   "source": [
    "import pandas as pd\n",
    "\n",
    "class TemperatureDataTransformer:\n",
    "    def __init__(self, data):\n",
    "        \"\"\"\n",
    "        Initialize the class with the wide-format data.\n",
    "        \"\"\"\n",
    "        self.df_wide = pd.DataFrame(data)\n",
    "\n",
    "    def wide_to_long(self):\n",
    "        \"\"\"\n",
    "        Transform the wide-format data into long format.\n",
    "        \"\"\"\n",
    "        df_long = self.df_wide.melt(id_vars=['Year'], var_name='Month', value_name='Temperature')\n",
    "        df_long['Date'] = pd.to_datetime(df_long['Year'].astype(str) + '-' + df_long['Month'] + '-01')\n",
    "        df_long = df_long.set_index('Date')[['Temperature']]\n",
    "        df_long=df_long.sort_index()\n",
    "        return df_long\n",
    "\n",
    "    def long_to_wide(self, df_long):\n",
    "        \"\"\"\n",
    "        Transform the long-format data back into wide format.\n",
    "        \"\"\"\n",
    "        df_long = df_long.reset_index()\n",
    "        df_long['Year'] = df_long['Date'].dt.year\n",
    "        df_long['Month'] = df_long['Date'].dt.month_name().str[:3]\n",
    "        df_wide = df_long.pivot(index='Year', columns='Month', values='Temperature')\n",
    "        # Reorder columns to match the original format\n",
    "        month_order = ['Jan', 'Feb', 'Mar', 'Apr', 'May', 'Jun', 'Jul', 'Aug', 'Sep', 'Oct', 'Nov', 'Dec']\n",
    "        df_wide = df_wide[month_order]\n",
    "        return df_wide.reset_index()\n"
   ]
  },
  {
   "cell_type": "code",
   "execution_count": 6,
   "metadata": {},
   "outputs": [
    {
     "ename": "KeyError",
     "evalue": "\"The following id_vars or value_vars are not present in the DataFrame: ['Year']\"",
     "output_type": "error",
     "traceback": [
      "\u001b[0;31m---------------------------------------------------------------------------\u001b[0m",
      "\u001b[0;31mKeyError\u001b[0m                                  Traceback (most recent call last)",
      "Cell \u001b[0;32mIn[6], line 2\u001b[0m\n\u001b[1;32m      1\u001b[0m convert\u001b[38;5;241m=\u001b[39mTemperatureDataTransformer(df)\n\u001b[0;32m----> 2\u001b[0m df_long\u001b[38;5;241m=\u001b[39m\u001b[43mconvert\u001b[49m\u001b[38;5;241;43m.\u001b[39;49m\u001b[43mwide_to_long\u001b[49m\u001b[43m(\u001b[49m\u001b[43m)\u001b[49m\n\u001b[1;32m      3\u001b[0m df_long\n\u001b[1;32m      4\u001b[0m \u001b[38;5;66;03m# convert.long_to_wide(df_long=df_long)\u001b[39;00m\n",
      "Cell \u001b[0;32mIn[5], line 14\u001b[0m, in \u001b[0;36mTemperatureDataTransformer.wide_to_long\u001b[0;34m(self)\u001b[0m\n\u001b[1;32m     10\u001b[0m \u001b[38;5;28;01mdef\u001b[39;00m\u001b[38;5;250m \u001b[39m\u001b[38;5;21mwide_to_long\u001b[39m(\u001b[38;5;28mself\u001b[39m):\n\u001b[1;32m     11\u001b[0m \u001b[38;5;250m    \u001b[39m\u001b[38;5;124;03m\"\"\"\u001b[39;00m\n\u001b[1;32m     12\u001b[0m \u001b[38;5;124;03m    Transform the wide-format data into long format.\u001b[39;00m\n\u001b[1;32m     13\u001b[0m \u001b[38;5;124;03m    \"\"\"\u001b[39;00m\n\u001b[0;32m---> 14\u001b[0m     df_long \u001b[38;5;241m=\u001b[39m \u001b[38;5;28;43mself\u001b[39;49m\u001b[38;5;241;43m.\u001b[39;49m\u001b[43mdf_wide\u001b[49m\u001b[38;5;241;43m.\u001b[39;49m\u001b[43mmelt\u001b[49m\u001b[43m(\u001b[49m\u001b[43mid_vars\u001b[49m\u001b[38;5;241;43m=\u001b[39;49m\u001b[43m[\u001b[49m\u001b[38;5;124;43m'\u001b[39;49m\u001b[38;5;124;43mYear\u001b[39;49m\u001b[38;5;124;43m'\u001b[39;49m\u001b[43m]\u001b[49m\u001b[43m,\u001b[49m\u001b[43m \u001b[49m\u001b[43mvar_name\u001b[49m\u001b[38;5;241;43m=\u001b[39;49m\u001b[38;5;124;43m'\u001b[39;49m\u001b[38;5;124;43mMonth\u001b[39;49m\u001b[38;5;124;43m'\u001b[39;49m\u001b[43m,\u001b[49m\u001b[43m \u001b[49m\u001b[43mvalue_name\u001b[49m\u001b[38;5;241;43m=\u001b[39;49m\u001b[38;5;124;43m'\u001b[39;49m\u001b[38;5;124;43mTemperature\u001b[39;49m\u001b[38;5;124;43m'\u001b[39;49m\u001b[43m)\u001b[49m\n\u001b[1;32m     15\u001b[0m     df_long[\u001b[38;5;124m'\u001b[39m\u001b[38;5;124mDate\u001b[39m\u001b[38;5;124m'\u001b[39m] \u001b[38;5;241m=\u001b[39m pd\u001b[38;5;241m.\u001b[39mto_datetime(df_long[\u001b[38;5;124m'\u001b[39m\u001b[38;5;124mYear\u001b[39m\u001b[38;5;124m'\u001b[39m]\u001b[38;5;241m.\u001b[39mastype(\u001b[38;5;28mstr\u001b[39m) \u001b[38;5;241m+\u001b[39m \u001b[38;5;124m'\u001b[39m\u001b[38;5;124m-\u001b[39m\u001b[38;5;124m'\u001b[39m \u001b[38;5;241m+\u001b[39m df_long[\u001b[38;5;124m'\u001b[39m\u001b[38;5;124mMonth\u001b[39m\u001b[38;5;124m'\u001b[39m] \u001b[38;5;241m+\u001b[39m \u001b[38;5;124m'\u001b[39m\u001b[38;5;124m-01\u001b[39m\u001b[38;5;124m'\u001b[39m)\n\u001b[1;32m     16\u001b[0m     df_long \u001b[38;5;241m=\u001b[39m df_long\u001b[38;5;241m.\u001b[39mset_index(\u001b[38;5;124m'\u001b[39m\u001b[38;5;124mDate\u001b[39m\u001b[38;5;124m'\u001b[39m)[[\u001b[38;5;124m'\u001b[39m\u001b[38;5;124mTemperature\u001b[39m\u001b[38;5;124m'\u001b[39m]]\n",
      "File \u001b[0;32m~/Subha/internship/werather_forcastiing/venv/lib/python3.10/site-packages/pandas/core/frame.py:9942\u001b[0m, in \u001b[0;36mDataFrame.melt\u001b[0;34m(self, id_vars, value_vars, var_name, value_name, col_level, ignore_index)\u001b[0m\n\u001b[1;32m   9932\u001b[0m \u001b[38;5;129m@Appender\u001b[39m(_shared_docs[\u001b[38;5;124m\"\u001b[39m\u001b[38;5;124mmelt\u001b[39m\u001b[38;5;124m\"\u001b[39m] \u001b[38;5;241m%\u001b[39m {\u001b[38;5;124m\"\u001b[39m\u001b[38;5;124mcaller\u001b[39m\u001b[38;5;124m\"\u001b[39m: \u001b[38;5;124m\"\u001b[39m\u001b[38;5;124mdf.melt(\u001b[39m\u001b[38;5;124m\"\u001b[39m, \u001b[38;5;124m\"\u001b[39m\u001b[38;5;124mother\u001b[39m\u001b[38;5;124m\"\u001b[39m: \u001b[38;5;124m\"\u001b[39m\u001b[38;5;124mmelt\u001b[39m\u001b[38;5;124m\"\u001b[39m})\n\u001b[1;32m   9933\u001b[0m \u001b[38;5;28;01mdef\u001b[39;00m\u001b[38;5;250m \u001b[39m\u001b[38;5;21mmelt\u001b[39m(\n\u001b[1;32m   9934\u001b[0m     \u001b[38;5;28mself\u001b[39m,\n\u001b[0;32m   (...)\u001b[0m\n\u001b[1;32m   9940\u001b[0m     ignore_index: \u001b[38;5;28mbool\u001b[39m \u001b[38;5;241m=\u001b[39m \u001b[38;5;28;01mTrue\u001b[39;00m,\n\u001b[1;32m   9941\u001b[0m ) \u001b[38;5;241m-\u001b[39m\u001b[38;5;241m>\u001b[39m DataFrame:\n\u001b[0;32m-> 9942\u001b[0m     \u001b[38;5;28;01mreturn\u001b[39;00m \u001b[43mmelt\u001b[49m\u001b[43m(\u001b[49m\n\u001b[1;32m   9943\u001b[0m \u001b[43m        \u001b[49m\u001b[38;5;28;43mself\u001b[39;49m\u001b[43m,\u001b[49m\n\u001b[1;32m   9944\u001b[0m \u001b[43m        \u001b[49m\u001b[43mid_vars\u001b[49m\u001b[38;5;241;43m=\u001b[39;49m\u001b[43mid_vars\u001b[49m\u001b[43m,\u001b[49m\n\u001b[1;32m   9945\u001b[0m \u001b[43m        \u001b[49m\u001b[43mvalue_vars\u001b[49m\u001b[38;5;241;43m=\u001b[39;49m\u001b[43mvalue_vars\u001b[49m\u001b[43m,\u001b[49m\n\u001b[1;32m   9946\u001b[0m \u001b[43m        \u001b[49m\u001b[43mvar_name\u001b[49m\u001b[38;5;241;43m=\u001b[39;49m\u001b[43mvar_name\u001b[49m\u001b[43m,\u001b[49m\n\u001b[1;32m   9947\u001b[0m \u001b[43m        \u001b[49m\u001b[43mvalue_name\u001b[49m\u001b[38;5;241;43m=\u001b[39;49m\u001b[43mvalue_name\u001b[49m\u001b[43m,\u001b[49m\n\u001b[1;32m   9948\u001b[0m \u001b[43m        \u001b[49m\u001b[43mcol_level\u001b[49m\u001b[38;5;241;43m=\u001b[39;49m\u001b[43mcol_level\u001b[49m\u001b[43m,\u001b[49m\n\u001b[1;32m   9949\u001b[0m \u001b[43m        \u001b[49m\u001b[43mignore_index\u001b[49m\u001b[38;5;241;43m=\u001b[39;49m\u001b[43mignore_index\u001b[49m\u001b[43m,\u001b[49m\n\u001b[1;32m   9950\u001b[0m \u001b[43m    \u001b[49m\u001b[43m)\u001b[49m\u001b[38;5;241m.\u001b[39m__finalize__(\u001b[38;5;28mself\u001b[39m, method\u001b[38;5;241m=\u001b[39m\u001b[38;5;124m\"\u001b[39m\u001b[38;5;124mmelt\u001b[39m\u001b[38;5;124m\"\u001b[39m)\n",
      "File \u001b[0;32m~/Subha/internship/werather_forcastiing/venv/lib/python3.10/site-packages/pandas/core/reshape/melt.py:74\u001b[0m, in \u001b[0;36mmelt\u001b[0;34m(frame, id_vars, value_vars, var_name, value_name, col_level, ignore_index)\u001b[0m\n\u001b[1;32m     70\u001b[0m \u001b[38;5;28;01mif\u001b[39;00m missing\u001b[38;5;241m.\u001b[39many():\n\u001b[1;32m     71\u001b[0m     missing_labels \u001b[38;5;241m=\u001b[39m [\n\u001b[1;32m     72\u001b[0m         lab \u001b[38;5;28;01mfor\u001b[39;00m lab, not_found \u001b[38;5;129;01min\u001b[39;00m \u001b[38;5;28mzip\u001b[39m(labels, missing) \u001b[38;5;28;01mif\u001b[39;00m not_found\n\u001b[1;32m     73\u001b[0m     ]\n\u001b[0;32m---> 74\u001b[0m     \u001b[38;5;28;01mraise\u001b[39;00m \u001b[38;5;167;01mKeyError\u001b[39;00m(\n\u001b[1;32m     75\u001b[0m         \u001b[38;5;124m\"\u001b[39m\u001b[38;5;124mThe following id_vars or value_vars are not present in \u001b[39m\u001b[38;5;124m\"\u001b[39m\n\u001b[1;32m     76\u001b[0m         \u001b[38;5;124mf\u001b[39m\u001b[38;5;124m\"\u001b[39m\u001b[38;5;124mthe DataFrame: \u001b[39m\u001b[38;5;132;01m{\u001b[39;00mmissing_labels\u001b[38;5;132;01m}\u001b[39;00m\u001b[38;5;124m\"\u001b[39m\n\u001b[1;32m     77\u001b[0m     )\n\u001b[1;32m     78\u001b[0m \u001b[38;5;28;01mif\u001b[39;00m value_vars_was_not_none:\n\u001b[1;32m     79\u001b[0m     frame \u001b[38;5;241m=\u001b[39m frame\u001b[38;5;241m.\u001b[39miloc[:, algos\u001b[38;5;241m.\u001b[39munique(idx)]\n",
      "\u001b[0;31mKeyError\u001b[0m: \"The following id_vars or value_vars are not present in the DataFrame: ['Year']\""
     ]
    }
   ],
   "source": [
    "convert=TemperatureDataTransformer(df)\n",
    "df_long=convert.wide_to_long()\n",
    "df_long\n",
    "# convert.long_to_wide(df_long=df_long)"
   ]
  },
  {
   "cell_type": "code",
   "execution_count": 7,
   "metadata": {},
   "outputs": [
    {
     "ename": "NameError",
     "evalue": "name 'df_long' is not defined",
     "output_type": "error",
     "traceback": [
      "\u001b[0;31m---------------------------------------------------------------------------\u001b[0m",
      "\u001b[0;31mNameError\u001b[0m                                 Traceback (most recent call last)",
      "Cell \u001b[0;32mIn[7], line 6\u001b[0m\n\u001b[1;32m      3\u001b[0m get_ipython()\u001b[38;5;241m.\u001b[39mrun_line_magic(\u001b[38;5;124m'\u001b[39m\u001b[38;5;124mmatplotlib\u001b[39m\u001b[38;5;124m'\u001b[39m, \u001b[38;5;124m'\u001b[39m\u001b[38;5;124minline\u001b[39m\u001b[38;5;124m'\u001b[39m)\n\u001b[1;32m      5\u001b[0m plt\u001b[38;5;241m.\u001b[39mfigure(figsize\u001b[38;5;241m=\u001b[39m(\u001b[38;5;241m30\u001b[39m,\u001b[38;5;241m20\u001b[39m))\n\u001b[0;32m----> 6\u001b[0m plt\u001b[38;5;241m.\u001b[39mplot(\u001b[43mdf_long\u001b[49m)\n",
      "\u001b[0;31mNameError\u001b[0m: name 'df_long' is not defined"
     ]
    },
    {
     "data": {
      "text/plain": [
       "<Figure size 3000x2000 with 0 Axes>"
      ]
     },
     "metadata": {},
     "output_type": "display_data"
    }
   ],
   "source": [
    "# plotting\n",
    "import matplotlib.pyplot as plt\n",
    "%matplotlib inline\n",
    "\n",
    "plt.figure(figsize=(30,20))\n",
    "plt.plot(df_long)"
   ]
  },
  {
   "cell_type": "code",
   "execution_count": 8,
   "metadata": {},
   "outputs": [],
   "source": [
    "from statsmodels.tsa.stattools import adfuller\n",
    "\n",
    "def check_ADF_stationarity(df):\n",
    "    \"\"\"\n",
    "    Performs the Augmented Dickey-Fuller test to check for stationarity.\n",
    "\n",
    "    Parameters:\n",
    "    - df: pandas DataFrame containing the time series data\n",
    "    - column: str, the column to analyze\n",
    "\n",
    "    Prints:\n",
    "    - ADF Statistic\n",
    "    - p-value\n",
    "    - Critical values\n",
    "    - Stationarity conclusion\n",
    "    \"\"\"\n",
    "    result = adfuller(df)\n",
    "\n",
    "    print(f\"ADF Statistic: {result[0]:.4f}\")\n",
    "    print(f\"p-value: {result[1]:.4f}\")\n",
    "    print(\"Critical Values:\")\n",
    "    for key, value in result[4].items():\n",
    "        print(f\"   {key}: {value:.4f}\")\n",
    "\n",
    "    if result[1] < 0.05:\n",
    "        print(\"✅ The time series is **stationary** (rejects H0).\")\n",
    "        return 1\n",
    "    else:\n",
    "        print(\"❌ The time series is **non-stationary** (fails to reject H0).\")\n",
    "        return 0\n",
    "\n",
    "\n"
   ]
  },
  {
   "cell_type": "code",
   "execution_count": 9,
   "metadata": {},
   "outputs": [
    {
     "ename": "NameError",
     "evalue": "name 'df_long' is not defined",
     "output_type": "error",
     "traceback": [
      "\u001b[0;31m---------------------------------------------------------------------------\u001b[0m",
      "\u001b[0;31mNameError\u001b[0m                                 Traceback (most recent call last)",
      "Cell \u001b[0;32mIn[9], line 1\u001b[0m\n\u001b[0;32m----> 1\u001b[0m check_ADF_stationarity(\u001b[43mdf_long\u001b[49m)\n",
      "\u001b[0;31mNameError\u001b[0m: name 'df_long' is not defined"
     ]
    }
   ],
   "source": [
    "check_ADF_stationarity(df_long)"
   ]
  },
  {
   "cell_type": "code",
   "execution_count": 10,
   "metadata": {},
   "outputs": [],
   "source": [
    "from statsmodels.tsa.stattools import kpss\n",
    "\n",
    "def check_kpss_stationarity(df):\n",
    "    \"\"\"\n",
    "    Performs the KPSS test to check for stationarity.\n",
    "\n",
    "    Parameters:\n",
    "    - df: pandas DataFrame containing the time series data\n",
    "    - column: str, the column to analyze\n",
    "\n",
    "    Prints:\n",
    "    - KPSS Statistic\n",
    "    - p-value\n",
    "    - Critical values\n",
    "    - Stationarity conclusion\n",
    "    \"\"\"\n",
    "    result = kpss(df, regression=\"c\", nlags=\"auto\")\n",
    "\n",
    "    print(f\"KPSS Statistic: {result[0]:.4f}\")\n",
    "    print(f\"p-value: {result[1]:.4f}\")\n",
    "    print(\"Critical Values:\")\n",
    "    for key, value in result[3].items():\n",
    "        print(f\"   {key}: {value:.4f}\")\n",
    "\n",
    "    if result[1] < 0.05:\n",
    "        print(\"❌ The time series is **non-stationary** (rejects H0).\")\n",
    "        return 0\n",
    "    else:\n",
    "        print(\"✅ The time series is **stationary** (fails to reject H0).\")\n",
    "        return 1\n",
    "\n"
   ]
  },
  {
   "cell_type": "code",
   "execution_count": 11,
   "metadata": {},
   "outputs": [
    {
     "ename": "NameError",
     "evalue": "name 'df_long' is not defined",
     "output_type": "error",
     "traceback": [
      "\u001b[0;31m---------------------------------------------------------------------------\u001b[0m",
      "\u001b[0;31mNameError\u001b[0m                                 Traceback (most recent call last)",
      "Cell \u001b[0;32mIn[11], line 1\u001b[0m\n\u001b[0;32m----> 1\u001b[0m check_kpss_stationarity(\u001b[43mdf_long\u001b[49m)\n",
      "\u001b[0;31mNameError\u001b[0m: name 'df_long' is not defined"
     ]
    }
   ],
   "source": [
    "check_kpss_stationarity(df_long)"
   ]
  },
  {
   "cell_type": "code",
   "execution_count": 12,
   "metadata": {},
   "outputs": [],
   "source": [
    "import numpy as np\n",
    "import pandas as pd\n",
    "import warnings\n",
    "from statsmodels.tsa.stattools import adfuller, kpss\n",
    "from statsmodels.tools.sm_exceptions import InterpolationWarning\n",
    "\n",
    "# Suppress InterpolationWarnings from KPSS test\n",
    "warnings.simplefilter(\"ignore\", InterpolationWarning)\n",
    "\n",
    "def find_d_val(df):\n",
    "    \"\"\"\n",
    "    Check if a time series is stationary using both ADF and KPSS tests.\n",
    "    If non-stationary, apply first-order differencing and re-evaluate.\n",
    "    \n",
    "    Parameters:\n",
    "    df (pd.DataFrame): DataFrame containing the time series data.\n",
    "    column_name (str): The column to check for stationarity.\n",
    "\n",
    "    Returns:\n",
    "    dict: A dictionary containing month and d value d mean order of diffrence .\n",
    "    \"\"\"\n",
    "    data = df.dropna()\n",
    "    is_stationary = False  # Default: Assume non-stationary\n",
    "    d=-1\n",
    "    while not is_stationary:\n",
    "        # ADF Test\n",
    "        adf_result = adfuller(data)\n",
    "        adf_p_value = round(adf_result[1], 4)\n",
    "\n",
    "        # KPSS Test with error handling\n",
    "        try:\n",
    "            kpss_result = kpss(data, regression=\"c\", nlags=\"auto\")\n",
    "            kpss_p_value = round(kpss_result[1], 4)\n",
    "        except ValueError as e:\n",
    "            print(f\"⚠️ KPSS Test Warning for: {e}\")\n",
    "            kpss_p_value = None  # Assign None if KPSS fails\n",
    "\n",
    "        # Decision Logic\n",
    "        if adf_p_value < 0.05 and (kpss_p_value is None or kpss_p_value > 0.05):\n",
    "            is_stationary = True\n",
    "        d+=1\n",
    "        data=data.diff().dropna()\n",
    "        \n",
    "    # Initial results\n",
    "    result = {\n",
    "        \"d\": d\n",
    "    }\n",
    "    return result\n",
    "\n"
   ]
  },
  {
   "cell_type": "code",
   "execution_count": 13,
   "metadata": {},
   "outputs": [
    {
     "ename": "NameError",
     "evalue": "name 'df_long' is not defined",
     "output_type": "error",
     "traceback": [
      "\u001b[0;31m---------------------------------------------------------------------------\u001b[0m",
      "\u001b[0;31mNameError\u001b[0m                                 Traceback (most recent call last)",
      "Cell \u001b[0;32mIn[13], line 1\u001b[0m\n\u001b[0;32m----> 1\u001b[0m result \u001b[38;5;241m=\u001b[39m find_d_val(\u001b[43mdf_long\u001b[49m)\n\u001b[1;32m      2\u001b[0m \u001b[38;5;28mprint\u001b[39m(result)\n",
      "\u001b[0;31mNameError\u001b[0m: name 'df_long' is not defined"
     ]
    }
   ],
   "source": [
    "result = find_d_val(df_long)\n",
    "print(result)"
   ]
  },
  {
   "cell_type": "code",
   "execution_count": 14,
   "metadata": {},
   "outputs": [
    {
     "ename": "NameError",
     "evalue": "name 'df_long' is not defined",
     "output_type": "error",
     "traceback": [
      "\u001b[0;31m---------------------------------------------------------------------------\u001b[0m",
      "\u001b[0;31mNameError\u001b[0m                                 Traceback (most recent call last)",
      "Cell \u001b[0;32mIn[14], line 6\u001b[0m\n\u001b[1;32m      4\u001b[0m \u001b[38;5;66;03m# Compute ACF for the full data\u001b[39;00m\n\u001b[1;32m      5\u001b[0m plt\u001b[38;5;241m.\u001b[39mfigure(figsize\u001b[38;5;241m=\u001b[39m(\u001b[38;5;241m12\u001b[39m, \u001b[38;5;241m5\u001b[39m))\n\u001b[0;32m----> 6\u001b[0m plot_acf(\u001b[43mdf_long\u001b[49m, lags\u001b[38;5;241m=\u001b[39m\u001b[38;5;241m40\u001b[39m, title\u001b[38;5;241m=\u001b[39m\u001b[38;5;124m\"\u001b[39m\u001b[38;5;124mACF of Full Data\u001b[39m\u001b[38;5;124m\"\u001b[39m)\n\u001b[1;32m      7\u001b[0m plt\u001b[38;5;241m.\u001b[39mshow()\n",
      "\u001b[0;31mNameError\u001b[0m: name 'df_long' is not defined"
     ]
    },
    {
     "data": {
      "text/plain": [
       "<Figure size 1200x500 with 0 Axes>"
      ]
     },
     "metadata": {},
     "output_type": "display_data"
    }
   ],
   "source": [
    "from statsmodels.tsa.stattools import acf,pacf\n",
    "from statsmodels.graphics.tsaplots import plot_acf,plot_pacf\n",
    "\n",
    "# Compute ACF for the full data\n",
    "plt.figure(figsize=(12, 5))\n",
    "plot_acf(df_long, lags=40, title=\"ACF of Full Data\")\n",
    "plt.show()"
   ]
  },
  {
   "cell_type": "code",
   "execution_count": 15,
   "metadata": {},
   "outputs": [
    {
     "ename": "NameError",
     "evalue": "name 'df_long' is not defined",
     "output_type": "error",
     "traceback": [
      "\u001b[0;31m---------------------------------------------------------------------------\u001b[0m",
      "\u001b[0;31mNameError\u001b[0m                                 Traceback (most recent call last)",
      "Cell \u001b[0;32mIn[15], line 3\u001b[0m\n\u001b[1;32m      1\u001b[0m \u001b[38;5;66;03m# Compute ACF for the full data\u001b[39;00m\n\u001b[1;32m      2\u001b[0m plt\u001b[38;5;241m.\u001b[39mfigure(figsize\u001b[38;5;241m=\u001b[39m(\u001b[38;5;241m12\u001b[39m, \u001b[38;5;241m5\u001b[39m))\n\u001b[0;32m----> 3\u001b[0m plot_pacf(\u001b[43mdf_long\u001b[49m, lags\u001b[38;5;241m=\u001b[39m\u001b[38;5;241m40\u001b[39m, title\u001b[38;5;241m=\u001b[39m\u001b[38;5;124m\"\u001b[39m\u001b[38;5;124mACF of Full Data\u001b[39m\u001b[38;5;124m\"\u001b[39m)\n\u001b[1;32m      4\u001b[0m plt\u001b[38;5;241m.\u001b[39mshow()\n",
      "\u001b[0;31mNameError\u001b[0m: name 'df_long' is not defined"
     ]
    },
    {
     "data": {
      "text/plain": [
       "<Figure size 1200x500 with 0 Axes>"
      ]
     },
     "metadata": {},
     "output_type": "display_data"
    }
   ],
   "source": [
    "# Compute ACF for the full data\n",
    "plt.figure(figsize=(12, 5))\n",
    "plot_pacf(df_long, lags=40, title=\"ACF of Full Data\")\n",
    "plt.show()"
   ]
  },
  {
   "cell_type": "code",
   "execution_count": 16,
   "metadata": {},
   "outputs": [
    {
     "ename": "NameError",
     "evalue": "name 'df_long' is not defined",
     "output_type": "error",
     "traceback": [
      "\u001b[0;31m---------------------------------------------------------------------------\u001b[0m",
      "\u001b[0;31mNameError\u001b[0m                                 Traceback (most recent call last)",
      "Cell \u001b[0;32mIn[16], line 1\u001b[0m\n\u001b[0;32m----> 1\u001b[0m \u001b[43mdf_long\u001b[49m\n",
      "\u001b[0;31mNameError\u001b[0m: name 'df_long' is not defined"
     ]
    }
   ],
   "source": [
    "df_long"
   ]
  },
  {
   "cell_type": "code",
   "execution_count": 17,
   "metadata": {},
   "outputs": [
    {
     "ename": "NameError",
     "evalue": "name 'df_long' is not defined",
     "output_type": "error",
     "traceback": [
      "\u001b[0;31m---------------------------------------------------------------------------\u001b[0m",
      "\u001b[0;31mNameError\u001b[0m                                 Traceback (most recent call last)",
      "Cell \u001b[0;32mIn[17], line 10\u001b[0m\n\u001b[1;32m      7\u001b[0m \u001b[38;5;66;03m# Calculate the test start date by adding 1 month\u001b[39;00m\n\u001b[1;32m      8\u001b[0m test_start \u001b[38;5;241m=\u001b[39m train_end_date \u001b[38;5;241m+\u001b[39m relativedelta(months\u001b[38;5;241m=\u001b[39m\u001b[38;5;241m1\u001b[39m)\n\u001b[0;32m---> 10\u001b[0m train_data\u001b[38;5;241m=\u001b[39m\u001b[43mdf_long\u001b[49m[:train_end_date]\u001b[38;5;241m.\u001b[39mTemperature\n\u001b[1;32m     11\u001b[0m test_data\u001b[38;5;241m=\u001b[39mdf_long[test_start:]\u001b[38;5;241m.\u001b[39mTemperature\n",
      "\u001b[0;31mNameError\u001b[0m: name 'df_long' is not defined"
     ]
    }
   ],
   "source": [
    "\n",
    "import datetime\n",
    "from dateutil.relativedelta import relativedelta  # Import relativedelta\n",
    "\n",
    "# Define the train end date\n",
    "train_end_date = datetime.datetime(1992, 12, 1)\n",
    "\n",
    "# Calculate the test start date by adding 1 month\n",
    "test_start = train_end_date + relativedelta(months=1)\n",
    "\n",
    "train_data=df_long[:train_end_date].Temperature\n",
    "test_data=df_long[test_start:].Temperature"
   ]
  },
  {
   "cell_type": "code",
   "execution_count": 18,
   "metadata": {},
   "outputs": [
    {
     "ename": "NameError",
     "evalue": "name 'train_data' is not defined",
     "output_type": "error",
     "traceback": [
      "\u001b[0;31m---------------------------------------------------------------------------\u001b[0m",
      "\u001b[0;31mNameError\u001b[0m                                 Traceback (most recent call last)",
      "Cell \u001b[0;32mIn[18], line 3\u001b[0m\n\u001b[1;32m      1\u001b[0m \u001b[38;5;28;01mfrom\u001b[39;00m\u001b[38;5;250m \u001b[39m\u001b[38;5;21;01mstatsmodels\u001b[39;00m\u001b[38;5;21;01m.\u001b[39;00m\u001b[38;5;21;01mtsa\u001b[39;00m\u001b[38;5;21;01m.\u001b[39;00m\u001b[38;5;21;01marima\u001b[39;00m\u001b[38;5;21;01m.\u001b[39;00m\u001b[38;5;21;01mmodel\u001b[39;00m\u001b[38;5;250m \u001b[39m\u001b[38;5;28;01mimport\u001b[39;00m ARIMA\n\u001b[1;32m      2\u001b[0m \u001b[38;5;66;03m# Define ARIMA model with (p,d,q) order\u001b[39;00m\n\u001b[0;32m----> 3\u001b[0m model \u001b[38;5;241m=\u001b[39m ARIMA(\u001b[43mtrain_data\u001b[49m, order\u001b[38;5;241m=\u001b[39m(\u001b[38;5;241m7\u001b[39m, \u001b[38;5;241m1\u001b[39m, \u001b[38;5;241m1\u001b[39m))\n\u001b[1;32m      5\u001b[0m \u001b[38;5;66;03m# Fit the model\u001b[39;00m\n\u001b[1;32m      6\u001b[0m model_fit \u001b[38;5;241m=\u001b[39m model\u001b[38;5;241m.\u001b[39mfit()\n",
      "\u001b[0;31mNameError\u001b[0m: name 'train_data' is not defined"
     ]
    }
   ],
   "source": [
    "from statsmodels.tsa.arima.model import ARIMA\n",
    "# Define ARIMA model with (p,d,q) order\n",
    "model = ARIMA(train_data, order=(7, 1, 1))\n",
    "\n",
    "# Fit the model\n",
    "model_fit = model.fit()\n",
    "\n",
    "# Print summary\n",
    "print(model_fit.summary())"
   ]
  },
  {
   "cell_type": "code",
   "execution_count": 21,
   "metadata": {},
   "outputs": [
    {
     "data": {
      "text/plain": [
       "Timestamp('1993-01-01 00:00:00')"
      ]
     },
     "execution_count": 21,
     "metadata": {},
     "output_type": "execute_result"
    }
   ],
   "source": [
    "test_data.index[0]"
   ]
  },
  {
   "cell_type": "code",
   "execution_count": 22,
   "metadata": {},
   "outputs": [
    {
     "data": {
      "text/plain": [
       "<matplotlib.lines.Line2D at 0x1e9510a8c10>"
      ]
     },
     "execution_count": 22,
     "metadata": {},
     "output_type": "execute_result"
    },
    {
     "data": {
      "image/png": "[encoded data removed]",
      "text/plain": [
       "<Figure size 1000x400 with 1 Axes>"
      ]
     },
     "metadata": {},
     "output_type": "display_data"
    }
   ],
   "source": [
    "#get prediction start and end dates\n",
    "pred_start_date = test_data.index[0]\n",
    "pred_end_date = test_data.index[-1]\n",
    "\n",
    "\n",
    "#get the predictions and residuals\n",
    "pred = model_fit.predict(start=pred_start_date, end=pred_end_date)\n",
    "# pred=pred.cumsum()+df[mon].iloc[split_size+1]\n",
    "acc=test_data\n",
    "residuals = acc-pred\n",
    "\n",
    "# plotting error\n",
    "plt.figure(figsize=(10,4))\n",
    "plt.plot(residuals)\n",
    "plt.title('Residuals from AR Model', fontsize=20)\n",
    "plt.ylabel('Error', fontsize=16)\n",
    "plt.axhline(0, color='r', linestyle='--', alpha=0.2)"
   ]
  },
  {
   "cell_type": "code",
   "execution_count": 23,
   "metadata": {},
   "outputs": [
    {
     "data": {
      "text/plain": [
       "Text(0, 0.5, 'temp')"
      ]
     },
     "execution_count": 23,
     "metadata": {},
     "output_type": "execute_result"
    },
    {
     "data": {
      "image/png": "[encoded data removed]",
      "text/plain": [
       "<Figure size 1000x400 with 1 Axes>"
      ]
     },
     "metadata": {},
     "output_type": "display_data"
    }
   ],
   "source": [
    "plt.figure(figsize=(10,4))\n",
    "\n",
    "# plt.plot(test_data[month])\n",
    "# plt.plot(predictions)\n",
    "plt.plot(acc)\n",
    "plt.plot(pred)\n",
    "\n",
    "plt.legend(('Data', 'Predictions'), fontsize=16)\n",
    "\n",
    "plt.title('temp pred', fontsize=20)\n",
    "plt.ylabel('temp', fontsize=16)"
   ]
  },
  {
   "cell_type": "code",
   "execution_count": 24,
   "metadata": {},
   "outputs": [
    {
     "data": {
      "text/plain": [
       "0.6618324697408856"
      ]
     },
     "execution_count": 24,
     "metadata": {},
     "output_type": "execute_result"
    }
   ],
   "source": [
    "\n",
    "# with noice\n",
    "from sklearn.metrics import r2_score\n",
    "r2_score(np.array(acc),np.array(pred))"
   ]
  },
  {
   "cell_type": "code",
   "execution_count": null,
   "metadata": {},
   "outputs": [],
   "source": []
  },
  {
   "cell_type": "code",
   "execution_count": null,
   "metadata": {},
   "outputs": [],
   "source": []
  },
  {
   "cell_type": "markdown",
   "metadata": {},
   "source": [
    "### Roling window arima\n"
   ]
  },
  {
   "cell_type": "code",
   "execution_count": 25,
   "metadata": {},
   "outputs": [
    {
     "name": "stderr",
     "output_type": "stream",
     "text": [
      "d:\\projects\\internship\\werather_forcastiing\\venv\\Lib\\site-packages\\statsmodels\\base\\model.py:607: ConvergenceWarning: Maximum Likelihood optimization failed to converge. Check mle_retvals\n",
      "  warnings.warn(\"Maximum Likelihood optimization failed to \"\n"
     ]
    },
    {
     "name": "stdout",
     "output_type": "stream",
     "text": [
      "Prediction for 1993-01-01 00:00:00: 18.291341853284294\n"
     ]
    },
    {
     "name": "stderr",
     "output_type": "stream",
     "text": [
      "d:\\projects\\internship\\werather_forcastiing\\venv\\Lib\\site-packages\\statsmodels\\base\\model.py:607: ConvergenceWarning: Maximum Likelihood optimization failed to converge. Check mle_retvals\n",
      "  warnings.warn(\"Maximum Likelihood optimization failed to \"\n"
     ]
    },
    {
     "name": "stdout",
     "output_type": "stream",
     "text": [
      "Prediction for 1993-02-01 00:00:00: 22.787743491291828\n"
     ]
    },
    {
     "name": "stderr",
     "output_type": "stream",
     "text": [
      "d:\\projects\\internship\\werather_forcastiing\\venv\\Lib\\site-packages\\statsmodels\\base\\model.py:607: ConvergenceWarning: Maximum Likelihood optimization failed to converge. Check mle_retvals\n",
      "  warnings.warn(\"Maximum Likelihood optimization failed to \"\n"
     ]
    },
    {
     "name": "stdout",
     "output_type": "stream",
     "text": [
      "Prediction for 1993-03-01 00:00:00: 27.258869112344478\n"
     ]
    },
    {
     "name": "stderr",
     "output_type": "stream",
     "text": [
      "d:\\projects\\internship\\werather_forcastiing\\venv\\Lib\\site-packages\\statsmodels\\base\\model.py:607: ConvergenceWarning: Maximum Likelihood optimization failed to converge. Check mle_retvals\n",
      "  warnings.warn(\"Maximum Likelihood optimization failed to \"\n"
     ]
    },
    {
     "name": "stdout",
     "output_type": "stream",
     "text": [
      "Prediction for 1993-04-01 00:00:00: 28.87078482571741\n"
     ]
    },
    {
     "name": "stderr",
     "output_type": "stream",
     "text": [
      "d:\\projects\\internship\\werather_forcastiing\\venv\\Lib\\site-packages\\statsmodels\\base\\model.py:607: ConvergenceWarning: Maximum Likelihood optimization failed to converge. Check mle_retvals\n",
      "  warnings.warn(\"Maximum Likelihood optimization failed to \"\n"
     ]
    },
    {
     "name": "stdout",
     "output_type": "stream",
     "text": [
      "Prediction for 1993-05-01 00:00:00: 30.184144389355076\n"
     ]
    },
    {
     "name": "stderr",
     "output_type": "stream",
     "text": [
      "d:\\projects\\internship\\werather_forcastiing\\venv\\Lib\\site-packages\\statsmodels\\base\\model.py:607: ConvergenceWarning: Maximum Likelihood optimization failed to converge. Check mle_retvals\n",
      "  warnings.warn(\"Maximum Likelihood optimization failed to \"\n"
     ]
    },
    {
     "name": "stdout",
     "output_type": "stream",
     "text": [
      "Prediction for 1993-06-01 00:00:00: 31.34914803448097\n"
     ]
    },
    {
     "name": "stderr",
     "output_type": "stream",
     "text": [
      "d:\\projects\\internship\\werather_forcastiing\\venv\\Lib\\site-packages\\statsmodels\\base\\model.py:607: ConvergenceWarning: Maximum Likelihood optimization failed to converge. Check mle_retvals\n",
      "  warnings.warn(\"Maximum Likelihood optimization failed to \"\n"
     ]
    },
    {
     "name": "stdout",
     "output_type": "stream",
     "text": [
      "Prediction for 1993-07-01 00:00:00: 30.41130971276524\n"
     ]
    },
    {
     "name": "stderr",
     "output_type": "stream",
     "text": [
      "d:\\projects\\internship\\werather_forcastiing\\venv\\Lib\\site-packages\\statsmodels\\base\\model.py:607: ConvergenceWarning: Maximum Likelihood optimization failed to converge. Check mle_retvals\n",
      "  warnings.warn(\"Maximum Likelihood optimization failed to \"\n"
     ]
    },
    {
     "name": "stdout",
     "output_type": "stream",
     "text": [
      "Prediction for 1993-08-01 00:00:00: 27.51355105147324\n",
      "Prediction for 1993-09-01 00:00:00: 26.622108354555408\n"
     ]
    },
    {
     "name": "stderr",
     "output_type": "stream",
     "text": [
      "d:\\projects\\internship\\werather_forcastiing\\venv\\Lib\\site-packages\\statsmodels\\base\\model.py:607: ConvergenceWarning: Maximum Likelihood optimization failed to converge. Check mle_retvals\n",
      "  warnings.warn(\"Maximum Likelihood optimization failed to \"\n"
     ]
    },
    {
     "name": "stdout",
     "output_type": "stream",
     "text": [
      "Prediction for 1993-10-01 00:00:00: 26.075457721364216\n"
     ]
    },
    {
     "name": "stderr",
     "output_type": "stream",
     "text": [
      "d:\\projects\\internship\\werather_forcastiing\\venv\\Lib\\site-packages\\statsmodels\\base\\model.py:607: ConvergenceWarning: Maximum Likelihood optimization failed to converge. Check mle_retvals\n",
      "  warnings.warn(\"Maximum Likelihood optimization failed to \"\n"
     ]
    },
    {
     "name": "stdout",
     "output_type": "stream",
     "text": [
      "Prediction for 1993-11-01 00:00:00: 23.71638769014368\n"
     ]
    },
    {
     "name": "stderr",
     "output_type": "stream",
     "text": [
      "d:\\projects\\internship\\werather_forcastiing\\venv\\Lib\\site-packages\\statsmodels\\base\\model.py:607: ConvergenceWarning: Maximum Likelihood optimization failed to converge. Check mle_retvals\n",
      "  warnings.warn(\"Maximum Likelihood optimization failed to \"\n"
     ]
    },
    {
     "name": "stdout",
     "output_type": "stream",
     "text": [
      "Prediction for 1993-12-01 00:00:00: 19.157126343127988\n"
     ]
    },
    {
     "name": "stderr",
     "output_type": "stream",
     "text": [
      "d:\\projects\\internship\\werather_forcastiing\\venv\\Lib\\site-packages\\statsmodels\\base\\model.py:607: ConvergenceWarning: Maximum Likelihood optimization failed to converge. Check mle_retvals\n",
      "  warnings.warn(\"Maximum Likelihood optimization failed to \"\n"
     ]
    },
    {
     "name": "stdout",
     "output_type": "stream",
     "text": [
      "Prediction for 1994-01-01 00:00:00: 18.75579877817724\n",
      "Prediction for 1994-02-01 00:00:00: 23.212162103113236\n"
     ]
    },
    {
     "name": "stderr",
     "output_type": "stream",
     "text": [
      "d:\\projects\\internship\\werather_forcastiing\\venv\\Lib\\site-packages\\statsmodels\\base\\model.py:607: ConvergenceWarning: Maximum Likelihood optimization failed to converge. Check mle_retvals\n",
      "  warnings.warn(\"Maximum Likelihood optimization failed to \"\n"
     ]
    },
    {
     "name": "stdout",
     "output_type": "stream",
     "text": [
      "Prediction for 1994-03-01 00:00:00: 25.92031500808126\n"
     ]
    },
    {
     "name": "stderr",
     "output_type": "stream",
     "text": [
      "d:\\projects\\internship\\werather_forcastiing\\venv\\Lib\\site-packages\\statsmodels\\base\\model.py:607: ConvergenceWarning: Maximum Likelihood optimization failed to converge. Check mle_retvals\n",
      "  warnings.warn(\"Maximum Likelihood optimization failed to \"\n"
     ]
    },
    {
     "name": "stdout",
     "output_type": "stream",
     "text": [
      "Prediction for 1994-04-01 00:00:00: 30.507364099328527\n"
     ]
    },
    {
     "name": "stderr",
     "output_type": "stream",
     "text": [
      "d:\\projects\\internship\\werather_forcastiing\\venv\\Lib\\site-packages\\statsmodels\\base\\model.py:607: ConvergenceWarning: Maximum Likelihood optimization failed to converge. Check mle_retvals\n",
      "  warnings.warn(\"Maximum Likelihood optimization failed to \"\n"
     ]
    },
    {
     "name": "stdout",
     "output_type": "stream",
     "text": [
      "Prediction for 1994-05-01 00:00:00: 30.574001639399118\n"
     ]
    },
    {
     "name": "stderr",
     "output_type": "stream",
     "text": [
      "d:\\projects\\internship\\werather_forcastiing\\venv\\Lib\\site-packages\\statsmodels\\base\\model.py:607: ConvergenceWarning: Maximum Likelihood optimization failed to converge. Check mle_retvals\n",
      "  warnings.warn(\"Maximum Likelihood optimization failed to \"\n"
     ]
    },
    {
     "name": "stdout",
     "output_type": "stream",
     "text": [
      "Prediction for 1994-06-01 00:00:00: 32.018780270644875\n",
      "Prediction for 1994-07-01 00:00:00: 29.285806984074817\n",
      "Prediction for 1994-08-01 00:00:00: 26.858127423177812\n"
     ]
    },
    {
     "name": "stderr",
     "output_type": "stream",
     "text": [
      "d:\\projects\\internship\\werather_forcastiing\\venv\\Lib\\site-packages\\statsmodels\\base\\model.py:607: ConvergenceWarning: Maximum Likelihood optimization failed to converge. Check mle_retvals\n",
      "  warnings.warn(\"Maximum Likelihood optimization failed to \"\n"
     ]
    },
    {
     "name": "stdout",
     "output_type": "stream",
     "text": [
      "Prediction for 1994-09-01 00:00:00: 27.401017383901138\n"
     ]
    },
    {
     "name": "stderr",
     "output_type": "stream",
     "text": [
      "d:\\projects\\internship\\werather_forcastiing\\venv\\Lib\\site-packages\\statsmodels\\base\\model.py:607: ConvergenceWarning: Maximum Likelihood optimization failed to converge. Check mle_retvals\n",
      "  warnings.warn(\"Maximum Likelihood optimization failed to \"\n"
     ]
    },
    {
     "name": "stdout",
     "output_type": "stream",
     "text": [
      "Prediction for 1994-10-01 00:00:00: 26.106995560430153\n"
     ]
    },
    {
     "name": "stderr",
     "output_type": "stream",
     "text": [
      "d:\\projects\\internship\\werather_forcastiing\\venv\\Lib\\site-packages\\statsmodels\\base\\model.py:607: ConvergenceWarning: Maximum Likelihood optimization failed to converge. Check mle_retvals\n",
      "  warnings.warn(\"Maximum Likelihood optimization failed to \"\n"
     ]
    },
    {
     "name": "stdout",
     "output_type": "stream",
     "text": [
      "Prediction for 1994-11-01 00:00:00: 23.81655215995252\n",
      "Prediction for 1994-12-01 00:00:00: 19.084681386771102\n",
      "Prediction for 1995-01-01 00:00:00: 18.835476332128664\n"
     ]
    },
    {
     "name": "stderr",
     "output_type": "stream",
     "text": [
      "d:\\projects\\internship\\werather_forcastiing\\venv\\Lib\\site-packages\\statsmodels\\base\\model.py:607: ConvergenceWarning: Maximum Likelihood optimization failed to converge. Check mle_retvals\n",
      "  warnings.warn(\"Maximum Likelihood optimization failed to \"\n"
     ]
    },
    {
     "name": "stdout",
     "output_type": "stream",
     "text": [
      "Prediction for 1995-02-01 00:00:00: 21.67104609812604\n"
     ]
    },
    {
     "name": "stderr",
     "output_type": "stream",
     "text": [
      "d:\\projects\\internship\\werather_forcastiing\\venv\\Lib\\site-packages\\statsmodels\\base\\model.py:607: ConvergenceWarning: Maximum Likelihood optimization failed to converge. Check mle_retvals\n",
      "  warnings.warn(\"Maximum Likelihood optimization failed to \"\n"
     ]
    },
    {
     "name": "stdout",
     "output_type": "stream",
     "text": [
      "Prediction for 1995-03-01 00:00:00: 26.707880415419417\n",
      "Prediction for 1995-04-01 00:00:00: 30.305654408975208\n",
      "Prediction for 1995-05-01 00:00:00: 32.04019036235793\n",
      "Prediction for 1995-06-01 00:00:00: 31.141945962278413\n"
     ]
    },
    {
     "name": "stderr",
     "output_type": "stream",
     "text": [
      "d:\\projects\\internship\\werather_forcastiing\\venv\\Lib\\site-packages\\statsmodels\\base\\model.py:607: ConvergenceWarning: Maximum Likelihood optimization failed to converge. Check mle_retvals\n",
      "  warnings.warn(\"Maximum Likelihood optimization failed to \"\n"
     ]
    },
    {
     "name": "stdout",
     "output_type": "stream",
     "text": [
      "Prediction for 1995-07-01 00:00:00: 29.958694906873504\n",
      "Prediction for 1995-08-01 00:00:00: 27.409135664577125\n"
     ]
    },
    {
     "name": "stderr",
     "output_type": "stream",
     "text": [
      "d:\\projects\\internship\\werather_forcastiing\\venv\\Lib\\site-packages\\statsmodels\\base\\model.py:607: ConvergenceWarning: Maximum Likelihood optimization failed to converge. Check mle_retvals\n",
      "  warnings.warn(\"Maximum Likelihood optimization failed to \"\n"
     ]
    },
    {
     "name": "stdout",
     "output_type": "stream",
     "text": [
      "Prediction for 1995-09-01 00:00:00: 27.457782602825404\n"
     ]
    },
    {
     "name": "stderr",
     "output_type": "stream",
     "text": [
      "d:\\projects\\internship\\werather_forcastiing\\venv\\Lib\\site-packages\\statsmodels\\base\\model.py:607: ConvergenceWarning: Maximum Likelihood optimization failed to converge. Check mle_retvals\n",
      "  warnings.warn(\"Maximum Likelihood optimization failed to \"\n"
     ]
    },
    {
     "name": "stdout",
     "output_type": "stream",
     "text": [
      "Prediction for 1995-10-01 00:00:00: 26.096840851766494\n",
      "Prediction for 1995-11-01 00:00:00: 22.967228792513676\n"
     ]
    },
    {
     "name": "stderr",
     "output_type": "stream",
     "text": [
      "d:\\projects\\internship\\werather_forcastiing\\venv\\Lib\\site-packages\\statsmodels\\base\\model.py:607: ConvergenceWarning: Maximum Likelihood optimization failed to converge. Check mle_retvals\n",
      "  warnings.warn(\"Maximum Likelihood optimization failed to \"\n"
     ]
    },
    {
     "name": "stdout",
     "output_type": "stream",
     "text": [
      "Prediction for 1995-12-01 00:00:00: 19.368098306080455\n"
     ]
    },
    {
     "name": "stderr",
     "output_type": "stream",
     "text": [
      "d:\\projects\\internship\\werather_forcastiing\\venv\\Lib\\site-packages\\statsmodels\\base\\model.py:607: ConvergenceWarning: Maximum Likelihood optimization failed to converge. Check mle_retvals\n",
      "  warnings.warn(\"Maximum Likelihood optimization failed to \"\n"
     ]
    },
    {
     "name": "stdout",
     "output_type": "stream",
     "text": [
      "Prediction for 1996-01-01 00:00:00: 18.785503930216493\n",
      "Prediction for 1996-02-01 00:00:00: 23.050269963749265\n"
     ]
    },
    {
     "name": "stderr",
     "output_type": "stream",
     "text": [
      "d:\\projects\\internship\\werather_forcastiing\\venv\\Lib\\site-packages\\statsmodels\\base\\model.py:607: ConvergenceWarning: Maximum Likelihood optimization failed to converge. Check mle_retvals\n",
      "  warnings.warn(\"Maximum Likelihood optimization failed to \"\n"
     ]
    },
    {
     "name": "stdout",
     "output_type": "stream",
     "text": [
      "Prediction for 1996-03-01 00:00:00: 25.59057848878617\n"
     ]
    },
    {
     "name": "stderr",
     "output_type": "stream",
     "text": [
      "d:\\projects\\internship\\werather_forcastiing\\venv\\Lib\\site-packages\\statsmodels\\base\\model.py:607: ConvergenceWarning: Maximum Likelihood optimization failed to converge. Check mle_retvals\n",
      "  warnings.warn(\"Maximum Likelihood optimization failed to \"\n"
     ]
    },
    {
     "name": "stdout",
     "output_type": "stream",
     "text": [
      "Prediction for 1996-04-01 00:00:00: 31.039631758307188\n"
     ]
    },
    {
     "name": "stderr",
     "output_type": "stream",
     "text": [
      "d:\\projects\\internship\\werather_forcastiing\\venv\\Lib\\site-packages\\statsmodels\\base\\model.py:607: ConvergenceWarning: Maximum Likelihood optimization failed to converge. Check mle_retvals\n",
      "  warnings.warn(\"Maximum Likelihood optimization failed to \"\n"
     ]
    },
    {
     "name": "stdout",
     "output_type": "stream",
     "text": [
      "Prediction for 1996-05-01 00:00:00: 30.62490613423633\n"
     ]
    },
    {
     "name": "stderr",
     "output_type": "stream",
     "text": [
      "d:\\projects\\internship\\werather_forcastiing\\venv\\Lib\\site-packages\\statsmodels\\base\\model.py:607: ConvergenceWarning: Maximum Likelihood optimization failed to converge. Check mle_retvals\n",
      "  warnings.warn(\"Maximum Likelihood optimization failed to \"\n"
     ]
    },
    {
     "name": "stdout",
     "output_type": "stream",
     "text": [
      "Prediction for 1996-06-01 00:00:00: 32.09408050693074\n"
     ]
    },
    {
     "name": "stderr",
     "output_type": "stream",
     "text": [
      "d:\\projects\\internship\\werather_forcastiing\\venv\\Lib\\site-packages\\statsmodels\\base\\model.py:607: ConvergenceWarning: Maximum Likelihood optimization failed to converge. Check mle_retvals\n",
      "  warnings.warn(\"Maximum Likelihood optimization failed to \"\n"
     ]
    },
    {
     "name": "stdout",
     "output_type": "stream",
     "text": [
      "Prediction for 1996-07-01 00:00:00: 28.31625957438672\n"
     ]
    },
    {
     "name": "stderr",
     "output_type": "stream",
     "text": [
      "d:\\projects\\internship\\werather_forcastiing\\venv\\Lib\\site-packages\\statsmodels\\base\\model.py:607: ConvergenceWarning: Maximum Likelihood optimization failed to converge. Check mle_retvals\n",
      "  warnings.warn(\"Maximum Likelihood optimization failed to \"\n"
     ]
    },
    {
     "name": "stdout",
     "output_type": "stream",
     "text": [
      "Prediction for 1996-08-01 00:00:00: 27.529869723932578\n"
     ]
    },
    {
     "name": "stderr",
     "output_type": "stream",
     "text": [
      "d:\\projects\\internship\\werather_forcastiing\\venv\\Lib\\site-packages\\statsmodels\\base\\model.py:607: ConvergenceWarning: Maximum Likelihood optimization failed to converge. Check mle_retvals\n",
      "  warnings.warn(\"Maximum Likelihood optimization failed to \"\n"
     ]
    },
    {
     "name": "stdout",
     "output_type": "stream",
     "text": [
      "Prediction for 1996-09-01 00:00:00: 27.26781870358052\n"
     ]
    },
    {
     "name": "stderr",
     "output_type": "stream",
     "text": [
      "d:\\projects\\internship\\werather_forcastiing\\venv\\Lib\\site-packages\\statsmodels\\base\\model.py:607: ConvergenceWarning: Maximum Likelihood optimization failed to converge. Check mle_retvals\n",
      "  warnings.warn(\"Maximum Likelihood optimization failed to \"\n"
     ]
    },
    {
     "name": "stdout",
     "output_type": "stream",
     "text": [
      "Prediction for 1996-10-01 00:00:00: 26.480082272868657\n"
     ]
    },
    {
     "name": "stderr",
     "output_type": "stream",
     "text": [
      "d:\\projects\\internship\\werather_forcastiing\\venv\\Lib\\site-packages\\statsmodels\\base\\model.py:607: ConvergenceWarning: Maximum Likelihood optimization failed to converge. Check mle_retvals\n",
      "  warnings.warn(\"Maximum Likelihood optimization failed to \"\n"
     ]
    },
    {
     "name": "stdout",
     "output_type": "stream",
     "text": [
      "Prediction for 1996-11-01 00:00:00: 23.16422426834938\n"
     ]
    },
    {
     "name": "stderr",
     "output_type": "stream",
     "text": [
      "d:\\projects\\internship\\werather_forcastiing\\venv\\Lib\\site-packages\\statsmodels\\base\\model.py:607: ConvergenceWarning: Maximum Likelihood optimization failed to converge. Check mle_retvals\n",
      "  warnings.warn(\"Maximum Likelihood optimization failed to \"\n"
     ]
    },
    {
     "name": "stdout",
     "output_type": "stream",
     "text": [
      "Prediction for 1996-12-01 00:00:00: 18.797067234985594\n"
     ]
    },
    {
     "name": "stderr",
     "output_type": "stream",
     "text": [
      "d:\\projects\\internship\\werather_forcastiing\\venv\\Lib\\site-packages\\statsmodels\\base\\model.py:607: ConvergenceWarning: Maximum Likelihood optimization failed to converge. Check mle_retvals\n",
      "  warnings.warn(\"Maximum Likelihood optimization failed to \"\n"
     ]
    },
    {
     "name": "stdout",
     "output_type": "stream",
     "text": [
      "Prediction for 1997-01-01 00:00:00: 18.95609322015271\n",
      "Prediction for 1997-02-01 00:00:00: 22.074773034429388\n"
     ]
    },
    {
     "name": "stderr",
     "output_type": "stream",
     "text": [
      "d:\\projects\\internship\\werather_forcastiing\\venv\\Lib\\site-packages\\statsmodels\\base\\model.py:607: ConvergenceWarning: Maximum Likelihood optimization failed to converge. Check mle_retvals\n",
      "  warnings.warn(\"Maximum Likelihood optimization failed to \"\n"
     ]
    },
    {
     "name": "stdout",
     "output_type": "stream",
     "text": [
      "Prediction for 1997-03-01 00:00:00: 26.35897828765846\n"
     ]
    },
    {
     "name": "stderr",
     "output_type": "stream",
     "text": [
      "d:\\projects\\internship\\werather_forcastiing\\venv\\Lib\\site-packages\\statsmodels\\base\\model.py:607: ConvergenceWarning: Maximum Likelihood optimization failed to converge. Check mle_retvals\n",
      "  warnings.warn(\"Maximum Likelihood optimization failed to \"\n"
     ]
    },
    {
     "name": "stdout",
     "output_type": "stream",
     "text": [
      "Prediction for 1997-04-01 00:00:00: 30.675855700057667\n"
     ]
    },
    {
     "name": "stderr",
     "output_type": "stream",
     "text": [
      "d:\\projects\\internship\\werather_forcastiing\\venv\\Lib\\site-packages\\statsmodels\\base\\model.py:607: ConvergenceWarning: Maximum Likelihood optimization failed to converge. Check mle_retvals\n",
      "  warnings.warn(\"Maximum Likelihood optimization failed to \"\n"
     ]
    },
    {
     "name": "stdout",
     "output_type": "stream",
     "text": [
      "Prediction for 1997-05-01 00:00:00: 30.088929274928294\n"
     ]
    },
    {
     "name": "stderr",
     "output_type": "stream",
     "text": [
      "d:\\projects\\internship\\werather_forcastiing\\venv\\Lib\\site-packages\\statsmodels\\base\\model.py:607: ConvergenceWarning: Maximum Likelihood optimization failed to converge. Check mle_retvals\n",
      "  warnings.warn(\"Maximum Likelihood optimization failed to \"\n"
     ]
    },
    {
     "name": "stdout",
     "output_type": "stream",
     "text": [
      "Prediction for 1997-06-01 00:00:00: 31.62734559879227\n"
     ]
    },
    {
     "name": "stderr",
     "output_type": "stream",
     "text": [
      "d:\\projects\\internship\\werather_forcastiing\\venv\\Lib\\site-packages\\statsmodels\\base\\model.py:607: ConvergenceWarning: Maximum Likelihood optimization failed to converge. Check mle_retvals\n",
      "  warnings.warn(\"Maximum Likelihood optimization failed to \"\n"
     ]
    },
    {
     "name": "stdout",
     "output_type": "stream",
     "text": [
      "Prediction for 1997-07-01 00:00:00: 31.403054068410594\n"
     ]
    },
    {
     "name": "stderr",
     "output_type": "stream",
     "text": [
      "d:\\projects\\internship\\werather_forcastiing\\venv\\Lib\\site-packages\\statsmodels\\base\\model.py:607: ConvergenceWarning: Maximum Likelihood optimization failed to converge. Check mle_retvals\n",
      "  warnings.warn(\"Maximum Likelihood optimization failed to \"\n"
     ]
    },
    {
     "name": "stdout",
     "output_type": "stream",
     "text": [
      "Prediction for 1997-08-01 00:00:00: 27.414805364448767\n"
     ]
    },
    {
     "name": "stderr",
     "output_type": "stream",
     "text": [
      "d:\\projects\\internship\\werather_forcastiing\\venv\\Lib\\site-packages\\statsmodels\\base\\model.py:607: ConvergenceWarning: Maximum Likelihood optimization failed to converge. Check mle_retvals\n",
      "  warnings.warn(\"Maximum Likelihood optimization failed to \"\n"
     ]
    },
    {
     "name": "stdout",
     "output_type": "stream",
     "text": [
      "Prediction for 1997-09-01 00:00:00: 27.041596588213384\n",
      "Prediction for 1997-10-01 00:00:00: 25.717024058972868\n"
     ]
    },
    {
     "name": "stderr",
     "output_type": "stream",
     "text": [
      "d:\\projects\\internship\\werather_forcastiing\\venv\\Lib\\site-packages\\statsmodels\\base\\model.py:607: ConvergenceWarning: Maximum Likelihood optimization failed to converge. Check mle_retvals\n",
      "  warnings.warn(\"Maximum Likelihood optimization failed to \"\n"
     ]
    },
    {
     "name": "stdout",
     "output_type": "stream",
     "text": [
      "Prediction for 1997-11-01 00:00:00: 24.499644215160224\n",
      "Prediction for 1997-12-01 00:00:00: 20.364307837080986\n"
     ]
    },
    {
     "name": "stderr",
     "output_type": "stream",
     "text": [
      "d:\\projects\\internship\\werather_forcastiing\\venv\\Lib\\site-packages\\statsmodels\\base\\model.py:607: ConvergenceWarning: Maximum Likelihood optimization failed to converge. Check mle_retvals\n",
      "  warnings.warn(\"Maximum Likelihood optimization failed to \"\n"
     ]
    },
    {
     "name": "stdout",
     "output_type": "stream",
     "text": [
      "Prediction for 1998-01-01 00:00:00: 18.13195431198069\n"
     ]
    },
    {
     "name": "stderr",
     "output_type": "stream",
     "text": [
      "d:\\projects\\internship\\werather_forcastiing\\venv\\Lib\\site-packages\\statsmodels\\base\\model.py:607: ConvergenceWarning: Maximum Likelihood optimization failed to converge. Check mle_retvals\n",
      "  warnings.warn(\"Maximum Likelihood optimization failed to \"\n"
     ]
    },
    {
     "name": "stdout",
     "output_type": "stream",
     "text": [
      "Prediction for 1998-02-01 00:00:00: 21.283735888458192\n"
     ]
    },
    {
     "name": "stderr",
     "output_type": "stream",
     "text": [
      "d:\\projects\\internship\\werather_forcastiing\\venv\\Lib\\site-packages\\statsmodels\\base\\model.py:607: ConvergenceWarning: Maximum Likelihood optimization failed to converge. Check mle_retvals\n",
      "  warnings.warn(\"Maximum Likelihood optimization failed to \"\n"
     ]
    },
    {
     "name": "stdout",
     "output_type": "stream",
     "text": [
      "Prediction for 1998-03-01 00:00:00: 26.889506509480704\n"
     ]
    },
    {
     "name": "stderr",
     "output_type": "stream",
     "text": [
      "d:\\projects\\internship\\werather_forcastiing\\venv\\Lib\\site-packages\\statsmodels\\base\\model.py:607: ConvergenceWarning: Maximum Likelihood optimization failed to converge. Check mle_retvals\n",
      "  warnings.warn(\"Maximum Likelihood optimization failed to \"\n"
     ]
    },
    {
     "name": "stdout",
     "output_type": "stream",
     "text": [
      "Prediction for 1998-04-01 00:00:00: 28.914091099383157\n"
     ]
    },
    {
     "name": "stderr",
     "output_type": "stream",
     "text": [
      "d:\\projects\\internship\\werather_forcastiing\\venv\\Lib\\site-packages\\statsmodels\\base\\model.py:607: ConvergenceWarning: Maximum Likelihood optimization failed to converge. Check mle_retvals\n",
      "  warnings.warn(\"Maximum Likelihood optimization failed to \"\n"
     ]
    },
    {
     "name": "stdout",
     "output_type": "stream",
     "text": [
      "Prediction for 1998-05-01 00:00:00: 31.475340231829325\n"
     ]
    },
    {
     "name": "stderr",
     "output_type": "stream",
     "text": [
      "d:\\projects\\internship\\werather_forcastiing\\venv\\Lib\\site-packages\\statsmodels\\base\\model.py:607: ConvergenceWarning: Maximum Likelihood optimization failed to converge. Check mle_retvals\n",
      "  warnings.warn(\"Maximum Likelihood optimization failed to \"\n"
     ]
    },
    {
     "name": "stdout",
     "output_type": "stream",
     "text": [
      "Prediction for 1998-06-01 00:00:00: 31.57746414794821\n"
     ]
    },
    {
     "name": "stderr",
     "output_type": "stream",
     "text": [
      "d:\\projects\\internship\\werather_forcastiing\\venv\\Lib\\site-packages\\statsmodels\\base\\model.py:607: ConvergenceWarning: Maximum Likelihood optimization failed to converge. Check mle_retvals\n",
      "  warnings.warn(\"Maximum Likelihood optimization failed to \"\n"
     ]
    },
    {
     "name": "stdout",
     "output_type": "stream",
     "text": [
      "Prediction for 1998-07-01 00:00:00: 31.458378846119288\n"
     ]
    },
    {
     "name": "stderr",
     "output_type": "stream",
     "text": [
      "d:\\projects\\internship\\werather_forcastiing\\venv\\Lib\\site-packages\\statsmodels\\base\\model.py:607: ConvergenceWarning: Maximum Likelihood optimization failed to converge. Check mle_retvals\n",
      "  warnings.warn(\"Maximum Likelihood optimization failed to \"\n"
     ]
    },
    {
     "name": "stdout",
     "output_type": "stream",
     "text": [
      "Prediction for 1998-08-01 00:00:00: 27.19919808055585\n"
     ]
    },
    {
     "name": "stderr",
     "output_type": "stream",
     "text": [
      "d:\\projects\\internship\\werather_forcastiing\\venv\\Lib\\site-packages\\statsmodels\\base\\model.py:607: ConvergenceWarning: Maximum Likelihood optimization failed to converge. Check mle_retvals\n",
      "  warnings.warn(\"Maximum Likelihood optimization failed to \"\n"
     ]
    },
    {
     "name": "stdout",
     "output_type": "stream",
     "text": [
      "Prediction for 1998-09-01 00:00:00: 26.875984153305772\n",
      "Prediction for 1998-10-01 00:00:00: 27.086047980188564\n"
     ]
    },
    {
     "name": "stderr",
     "output_type": "stream",
     "text": [
      "d:\\projects\\internship\\werather_forcastiing\\venv\\Lib\\site-packages\\statsmodels\\base\\model.py:607: ConvergenceWarning: Maximum Likelihood optimization failed to converge. Check mle_retvals\n",
      "  warnings.warn(\"Maximum Likelihood optimization failed to \"\n"
     ]
    },
    {
     "name": "stdout",
     "output_type": "stream",
     "text": [
      "Prediction for 1998-11-01 00:00:00: 24.54786027258435\n"
     ]
    },
    {
     "name": "stderr",
     "output_type": "stream",
     "text": [
      "d:\\projects\\internship\\werather_forcastiing\\venv\\Lib\\site-packages\\statsmodels\\base\\model.py:607: ConvergenceWarning: Maximum Likelihood optimization failed to converge. Check mle_retvals\n",
      "  warnings.warn(\"Maximum Likelihood optimization failed to \"\n"
     ]
    },
    {
     "name": "stdout",
     "output_type": "stream",
     "text": [
      "Prediction for 1998-12-01 00:00:00: 19.55333940416375\n"
     ]
    },
    {
     "name": "stderr",
     "output_type": "stream",
     "text": [
      "d:\\projects\\internship\\werather_forcastiing\\venv\\Lib\\site-packages\\statsmodels\\base\\model.py:607: ConvergenceWarning: Maximum Likelihood optimization failed to converge. Check mle_retvals\n",
      "  warnings.warn(\"Maximum Likelihood optimization failed to \"\n"
     ]
    },
    {
     "name": "stdout",
     "output_type": "stream",
     "text": [
      "Prediction for 1999-01-01 00:00:00: 17.764594168784456\n"
     ]
    },
    {
     "name": "stderr",
     "output_type": "stream",
     "text": [
      "d:\\projects\\internship\\werather_forcastiing\\venv\\Lib\\site-packages\\statsmodels\\base\\model.py:607: ConvergenceWarning: Maximum Likelihood optimization failed to converge. Check mle_retvals\n",
      "  warnings.warn(\"Maximum Likelihood optimization failed to \"\n"
     ]
    },
    {
     "name": "stdout",
     "output_type": "stream",
     "text": [
      "Prediction for 1999-02-01 00:00:00: 21.679059250095918\n"
     ]
    },
    {
     "name": "stderr",
     "output_type": "stream",
     "text": [
      "d:\\projects\\internship\\werather_forcastiing\\venv\\Lib\\site-packages\\statsmodels\\base\\model.py:607: ConvergenceWarning: Maximum Likelihood optimization failed to converge. Check mle_retvals\n",
      "  warnings.warn(\"Maximum Likelihood optimization failed to \"\n"
     ]
    },
    {
     "name": "stdout",
     "output_type": "stream",
     "text": [
      "Prediction for 1999-03-01 00:00:00: 27.25120756959159\n"
     ]
    },
    {
     "name": "stderr",
     "output_type": "stream",
     "text": [
      "d:\\projects\\internship\\werather_forcastiing\\venv\\Lib\\site-packages\\statsmodels\\base\\model.py:607: ConvergenceWarning: Maximum Likelihood optimization failed to converge. Check mle_retvals\n",
      "  warnings.warn(\"Maximum Likelihood optimization failed to \"\n"
     ]
    },
    {
     "name": "stdout",
     "output_type": "stream",
     "text": [
      "Prediction for 1999-04-01 00:00:00: 30.78534648309409\n"
     ]
    },
    {
     "name": "stderr",
     "output_type": "stream",
     "text": [
      "d:\\projects\\internship\\werather_forcastiing\\venv\\Lib\\site-packages\\statsmodels\\base\\model.py:607: ConvergenceWarning: Maximum Likelihood optimization failed to converge. Check mle_retvals\n",
      "  warnings.warn(\"Maximum Likelihood optimization failed to \"\n"
     ]
    },
    {
     "name": "stdout",
     "output_type": "stream",
     "text": [
      "Prediction for 1999-05-01 00:00:00: 31.740091480441222\n"
     ]
    },
    {
     "name": "stderr",
     "output_type": "stream",
     "text": [
      "d:\\projects\\internship\\werather_forcastiing\\venv\\Lib\\site-packages\\statsmodels\\base\\model.py:607: ConvergenceWarning: Maximum Likelihood optimization failed to converge. Check mle_retvals\n",
      "  warnings.warn(\"Maximum Likelihood optimization failed to \"\n"
     ]
    },
    {
     "name": "stdout",
     "output_type": "stream",
     "text": [
      "Prediction for 1999-06-01 00:00:00: 29.575184095287202\n"
     ]
    },
    {
     "name": "stderr",
     "output_type": "stream",
     "text": [
      "d:\\projects\\internship\\werather_forcastiing\\venv\\Lib\\site-packages\\statsmodels\\base\\model.py:607: ConvergenceWarning: Maximum Likelihood optimization failed to converge. Check mle_retvals\n",
      "  warnings.warn(\"Maximum Likelihood optimization failed to \"\n"
     ]
    },
    {
     "name": "stdout",
     "output_type": "stream",
     "text": [
      "Prediction for 1999-07-01 00:00:00: 28.42004754398038\n"
     ]
    },
    {
     "name": "stderr",
     "output_type": "stream",
     "text": [
      "d:\\projects\\internship\\werather_forcastiing\\venv\\Lib\\site-packages\\statsmodels\\base\\model.py:607: ConvergenceWarning: Maximum Likelihood optimization failed to converge. Check mle_retvals\n",
      "  warnings.warn(\"Maximum Likelihood optimization failed to \"\n"
     ]
    },
    {
     "name": "stdout",
     "output_type": "stream",
     "text": [
      "Prediction for 1999-08-01 00:00:00: 27.493630850608266\n"
     ]
    },
    {
     "name": "stderr",
     "output_type": "stream",
     "text": [
      "d:\\projects\\internship\\werather_forcastiing\\venv\\Lib\\site-packages\\statsmodels\\base\\model.py:607: ConvergenceWarning: Maximum Likelihood optimization failed to converge. Check mle_retvals\n",
      "  warnings.warn(\"Maximum Likelihood optimization failed to \"\n"
     ]
    },
    {
     "name": "stdout",
     "output_type": "stream",
     "text": [
      "Prediction for 1999-09-01 00:00:00: 27.138105969748153\n"
     ]
    },
    {
     "name": "stderr",
     "output_type": "stream",
     "text": [
      "d:\\projects\\internship\\werather_forcastiing\\venv\\Lib\\site-packages\\statsmodels\\base\\model.py:607: ConvergenceWarning: Maximum Likelihood optimization failed to converge. Check mle_retvals\n",
      "  warnings.warn(\"Maximum Likelihood optimization failed to \"\n"
     ]
    },
    {
     "name": "stdout",
     "output_type": "stream",
     "text": [
      "Prediction for 1999-10-01 00:00:00: 25.54101835511223\n"
     ]
    },
    {
     "name": "stderr",
     "output_type": "stream",
     "text": [
      "d:\\projects\\internship\\werather_forcastiing\\venv\\Lib\\site-packages\\statsmodels\\base\\model.py:607: ConvergenceWarning: Maximum Likelihood optimization failed to converge. Check mle_retvals\n",
      "  warnings.warn(\"Maximum Likelihood optimization failed to \"\n"
     ]
    },
    {
     "name": "stdout",
     "output_type": "stream",
     "text": [
      "Prediction for 1999-11-01 00:00:00: 23.044397125063877\n"
     ]
    },
    {
     "name": "stderr",
     "output_type": "stream",
     "text": [
      "d:\\projects\\internship\\werather_forcastiing\\venv\\Lib\\site-packages\\statsmodels\\base\\model.py:607: ConvergenceWarning: Maximum Likelihood optimization failed to converge. Check mle_retvals\n",
      "  warnings.warn(\"Maximum Likelihood optimization failed to \"\n"
     ]
    },
    {
     "name": "stdout",
     "output_type": "stream",
     "text": [
      "Prediction for 1999-12-01 00:00:00: 19.932728047690723\n",
      "Prediction for 2000-01-01 00:00:00: 19.697655316076325\n"
     ]
    },
    {
     "name": "stderr",
     "output_type": "stream",
     "text": [
      "d:\\projects\\internship\\werather_forcastiing\\venv\\Lib\\site-packages\\statsmodels\\base\\model.py:607: ConvergenceWarning: Maximum Likelihood optimization failed to converge. Check mle_retvals\n",
      "  warnings.warn(\"Maximum Likelihood optimization failed to \"\n"
     ]
    },
    {
     "name": "stdout",
     "output_type": "stream",
     "text": [
      "Prediction for 2000-02-01 00:00:00: 22.78784145353245\n"
     ]
    },
    {
     "name": "stderr",
     "output_type": "stream",
     "text": [
      "d:\\projects\\internship\\werather_forcastiing\\venv\\Lib\\site-packages\\statsmodels\\base\\model.py:607: ConvergenceWarning: Maximum Likelihood optimization failed to converge. Check mle_retvals\n",
      "  warnings.warn(\"Maximum Likelihood optimization failed to \"\n"
     ]
    },
    {
     "name": "stdout",
     "output_type": "stream",
     "text": [
      "Prediction for 2000-03-01 00:00:00: 25.522057374237974\n",
      "Prediction for 2000-04-01 00:00:00: 30.23419087037162\n"
     ]
    },
    {
     "name": "stderr",
     "output_type": "stream",
     "text": [
      "d:\\projects\\internship\\werather_forcastiing\\venv\\Lib\\site-packages\\statsmodels\\base\\model.py:607: ConvergenceWarning: Maximum Likelihood optimization failed to converge. Check mle_retvals\n",
      "  warnings.warn(\"Maximum Likelihood optimization failed to \"\n"
     ]
    },
    {
     "name": "stdout",
     "output_type": "stream",
     "text": [
      "Prediction for 2000-05-01 00:00:00: 32.38457927561547\n"
     ]
    },
    {
     "name": "stderr",
     "output_type": "stream",
     "text": [
      "d:\\projects\\internship\\werather_forcastiing\\venv\\Lib\\site-packages\\statsmodels\\base\\model.py:607: ConvergenceWarning: Maximum Likelihood optimization failed to converge. Check mle_retvals\n",
      "  warnings.warn(\"Maximum Likelihood optimization failed to \"\n"
     ]
    },
    {
     "name": "stdout",
     "output_type": "stream",
     "text": [
      "Prediction for 2000-06-01 00:00:00: 30.79519671906708\n"
     ]
    },
    {
     "name": "stderr",
     "output_type": "stream",
     "text": [
      "d:\\projects\\internship\\werather_forcastiing\\venv\\Lib\\site-packages\\statsmodels\\base\\model.py:607: ConvergenceWarning: Maximum Likelihood optimization failed to converge. Check mle_retvals\n",
      "  warnings.warn(\"Maximum Likelihood optimization failed to \"\n"
     ]
    },
    {
     "name": "stdout",
     "output_type": "stream",
     "text": [
      "Prediction for 2000-07-01 00:00:00: 28.143159379980382\n"
     ]
    },
    {
     "name": "stderr",
     "output_type": "stream",
     "text": [
      "d:\\projects\\internship\\werather_forcastiing\\venv\\Lib\\site-packages\\statsmodels\\base\\model.py:607: ConvergenceWarning: Maximum Likelihood optimization failed to converge. Check mle_retvals\n",
      "  warnings.warn(\"Maximum Likelihood optimization failed to \"\n"
     ]
    },
    {
     "name": "stdout",
     "output_type": "stream",
     "text": [
      "Prediction for 2000-08-01 00:00:00: 27.742052201513356\n"
     ]
    },
    {
     "name": "stderr",
     "output_type": "stream",
     "text": [
      "d:\\projects\\internship\\werather_forcastiing\\venv\\Lib\\site-packages\\statsmodels\\base\\model.py:607: ConvergenceWarning: Maximum Likelihood optimization failed to converge. Check mle_retvals\n",
      "  warnings.warn(\"Maximum Likelihood optimization failed to \"\n"
     ]
    },
    {
     "name": "stdout",
     "output_type": "stream",
     "text": [
      "Prediction for 2000-09-01 00:00:00: 28.67817574891556\n"
     ]
    },
    {
     "name": "stderr",
     "output_type": "stream",
     "text": [
      "d:\\projects\\internship\\werather_forcastiing\\venv\\Lib\\site-packages\\statsmodels\\base\\model.py:607: ConvergenceWarning: Maximum Likelihood optimization failed to converge. Check mle_retvals\n",
      "  warnings.warn(\"Maximum Likelihood optimization failed to \"\n"
     ]
    },
    {
     "name": "stdout",
     "output_type": "stream",
     "text": [
      "Prediction for 2000-10-01 00:00:00: 25.984696621658433\n",
      "Prediction for 2000-11-01 00:00:00: 23.085114591391857\n"
     ]
    },
    {
     "name": "stderr",
     "output_type": "stream",
     "text": [
      "d:\\projects\\internship\\werather_forcastiing\\venv\\Lib\\site-packages\\statsmodels\\base\\model.py:607: ConvergenceWarning: Maximum Likelihood optimization failed to converge. Check mle_retvals\n",
      "  warnings.warn(\"Maximum Likelihood optimization failed to \"\n"
     ]
    },
    {
     "name": "stdout",
     "output_type": "stream",
     "text": [
      "Prediction for 2000-12-01 00:00:00: 20.677774873098528\n"
     ]
    },
    {
     "name": "stderr",
     "output_type": "stream",
     "text": [
      "d:\\projects\\internship\\werather_forcastiing\\venv\\Lib\\site-packages\\statsmodels\\base\\model.py:607: ConvergenceWarning: Maximum Likelihood optimization failed to converge. Check mle_retvals\n",
      "  warnings.warn(\"Maximum Likelihood optimization failed to \"\n"
     ]
    },
    {
     "name": "stdout",
     "output_type": "stream",
     "text": [
      "Prediction for 2001-01-01 00:00:00: 18.548936950187304\n"
     ]
    },
    {
     "name": "stderr",
     "output_type": "stream",
     "text": [
      "d:\\projects\\internship\\werather_forcastiing\\venv\\Lib\\site-packages\\statsmodels\\base\\model.py:607: ConvergenceWarning: Maximum Likelihood optimization failed to converge. Check mle_retvals\n",
      "  warnings.warn(\"Maximum Likelihood optimization failed to \"\n"
     ]
    },
    {
     "name": "stdout",
     "output_type": "stream",
     "text": [
      "Prediction for 2001-02-01 00:00:00: 21.732944393964996\n",
      "Prediction for 2001-03-01 00:00:00: 27.023213804848435\n",
      "Prediction for 2001-04-01 00:00:00: 30.713983522444114\n"
     ]
    },
    {
     "name": "stderr",
     "output_type": "stream",
     "text": [
      "d:\\projects\\internship\\werather_forcastiing\\venv\\Lib\\site-packages\\statsmodels\\base\\model.py:607: ConvergenceWarning: Maximum Likelihood optimization failed to converge. Check mle_retvals\n",
      "  warnings.warn(\"Maximum Likelihood optimization failed to \"\n"
     ]
    },
    {
     "name": "stdout",
     "output_type": "stream",
     "text": [
      "Prediction for 2001-05-01 00:00:00: 31.665863661638785\n"
     ]
    },
    {
     "name": "stderr",
     "output_type": "stream",
     "text": [
      "d:\\projects\\internship\\werather_forcastiing\\venv\\Lib\\site-packages\\statsmodels\\base\\model.py:607: ConvergenceWarning: Maximum Likelihood optimization failed to converge. Check mle_retvals\n",
      "  warnings.warn(\"Maximum Likelihood optimization failed to \"\n"
     ]
    },
    {
     "name": "stdout",
     "output_type": "stream",
     "text": [
      "Prediction for 2001-06-01 00:00:00: 30.50358641297232\n",
      "Prediction for 2001-07-01 00:00:00: 28.181671851461545\n",
      "Prediction for 2001-08-01 00:00:00: 27.546183843514264\n"
     ]
    },
    {
     "name": "stderr",
     "output_type": "stream",
     "text": [
      "d:\\projects\\internship\\werather_forcastiing\\venv\\Lib\\site-packages\\statsmodels\\base\\model.py:607: ConvergenceWarning: Maximum Likelihood optimization failed to converge. Check mle_retvals\n",
      "  warnings.warn(\"Maximum Likelihood optimization failed to \"\n"
     ]
    },
    {
     "name": "stdout",
     "output_type": "stream",
     "text": [
      "Prediction for 2001-09-01 00:00:00: 28.713371196792767\n"
     ]
    },
    {
     "name": "stderr",
     "output_type": "stream",
     "text": [
      "d:\\projects\\internship\\werather_forcastiing\\venv\\Lib\\site-packages\\statsmodels\\base\\model.py:607: ConvergenceWarning: Maximum Likelihood optimization failed to converge. Check mle_retvals\n",
      "  warnings.warn(\"Maximum Likelihood optimization failed to \"\n"
     ]
    },
    {
     "name": "stdout",
     "output_type": "stream",
     "text": [
      "Prediction for 2001-10-01 00:00:00: 27.207768406389434\n"
     ]
    },
    {
     "name": "stderr",
     "output_type": "stream",
     "text": [
      "d:\\projects\\internship\\werather_forcastiing\\venv\\Lib\\site-packages\\statsmodels\\base\\model.py:607: ConvergenceWarning: Maximum Likelihood optimization failed to converge. Check mle_retvals\n",
      "  warnings.warn(\"Maximum Likelihood optimization failed to \"\n"
     ]
    },
    {
     "name": "stdout",
     "output_type": "stream",
     "text": [
      "Prediction for 2001-11-01 00:00:00: 23.42112487174737\n"
     ]
    },
    {
     "name": "stderr",
     "output_type": "stream",
     "text": [
      "d:\\projects\\internship\\werather_forcastiing\\venv\\Lib\\site-packages\\statsmodels\\base\\model.py:607: ConvergenceWarning: Maximum Likelihood optimization failed to converge. Check mle_retvals\n",
      "  warnings.warn(\"Maximum Likelihood optimization failed to \"\n"
     ]
    },
    {
     "name": "stdout",
     "output_type": "stream",
     "text": [
      "Prediction for 2001-12-01 00:00:00: 20.18492667979831\n"
     ]
    },
    {
     "name": "stderr",
     "output_type": "stream",
     "text": [
      "d:\\projects\\internship\\werather_forcastiing\\venv\\Lib\\site-packages\\statsmodels\\base\\model.py:607: ConvergenceWarning: Maximum Likelihood optimization failed to converge. Check mle_retvals\n",
      "  warnings.warn(\"Maximum Likelihood optimization failed to \"\n"
     ]
    },
    {
     "name": "stdout",
     "output_type": "stream",
     "text": [
      "Prediction for 2002-01-01 00:00:00: 19.4320632153127\n",
      "Prediction for 2002-02-01 00:00:00: 22.550973902910098\n"
     ]
    },
    {
     "name": "stderr",
     "output_type": "stream",
     "text": [
      "d:\\projects\\internship\\werather_forcastiing\\venv\\Lib\\site-packages\\statsmodels\\base\\model.py:607: ConvergenceWarning: Maximum Likelihood optimization failed to converge. Check mle_retvals\n",
      "  warnings.warn(\"Maximum Likelihood optimization failed to \"\n"
     ]
    },
    {
     "name": "stdout",
     "output_type": "stream",
     "text": [
      "Prediction for 2002-03-01 00:00:00: 26.854626026689722\n"
     ]
    },
    {
     "name": "stderr",
     "output_type": "stream",
     "text": [
      "d:\\projects\\internship\\werather_forcastiing\\venv\\Lib\\site-packages\\statsmodels\\base\\model.py:607: ConvergenceWarning: Maximum Likelihood optimization failed to converge. Check mle_retvals\n",
      "  warnings.warn(\"Maximum Likelihood optimization failed to \"\n"
     ]
    },
    {
     "name": "stdout",
     "output_type": "stream",
     "text": [
      "Prediction for 2002-04-01 00:00:00: 30.302863854375364\n",
      "Prediction for 2002-05-01 00:00:00: 30.519967304488073\n"
     ]
    },
    {
     "name": "stderr",
     "output_type": "stream",
     "text": [
      "d:\\projects\\internship\\werather_forcastiing\\venv\\Lib\\site-packages\\statsmodels\\base\\model.py:607: ConvergenceWarning: Maximum Likelihood optimization failed to converge. Check mle_retvals\n",
      "  warnings.warn(\"Maximum Likelihood optimization failed to \"\n"
     ]
    },
    {
     "name": "stdout",
     "output_type": "stream",
     "text": [
      "Prediction for 2002-06-01 00:00:00: 30.728018580921756\n"
     ]
    },
    {
     "name": "stderr",
     "output_type": "stream",
     "text": [
      "d:\\projects\\internship\\werather_forcastiing\\venv\\Lib\\site-packages\\statsmodels\\base\\model.py:607: ConvergenceWarning: Maximum Likelihood optimization failed to converge. Check mle_retvals\n",
      "  warnings.warn(\"Maximum Likelihood optimization failed to \"\n"
     ]
    },
    {
     "name": "stdout",
     "output_type": "stream",
     "text": [
      "Prediction for 2002-07-01 00:00:00: 29.289383133035358\n"
     ]
    },
    {
     "name": "stderr",
     "output_type": "stream",
     "text": [
      "d:\\projects\\internship\\werather_forcastiing\\venv\\Lib\\site-packages\\statsmodels\\base\\model.py:607: ConvergenceWarning: Maximum Likelihood optimization failed to converge. Check mle_retvals\n",
      "  warnings.warn(\"Maximum Likelihood optimization failed to \"\n"
     ]
    },
    {
     "name": "stdout",
     "output_type": "stream",
     "text": [
      "Prediction for 2002-08-01 00:00:00: 27.842177905626492\n"
     ]
    },
    {
     "name": "stderr",
     "output_type": "stream",
     "text": [
      "d:\\projects\\internship\\werather_forcastiing\\venv\\Lib\\site-packages\\statsmodels\\base\\model.py:607: ConvergenceWarning: Maximum Likelihood optimization failed to converge. Check mle_retvals\n",
      "  warnings.warn(\"Maximum Likelihood optimization failed to \"\n"
     ]
    },
    {
     "name": "stdout",
     "output_type": "stream",
     "text": [
      "Prediction for 2002-09-01 00:00:00: 26.729396587613724\n",
      "Prediction for 2002-10-01 00:00:00: 25.757126947156006\n"
     ]
    },
    {
     "name": "stderr",
     "output_type": "stream",
     "text": [
      "d:\\projects\\internship\\werather_forcastiing\\venv\\Lib\\site-packages\\statsmodels\\base\\model.py:607: ConvergenceWarning: Maximum Likelihood optimization failed to converge. Check mle_retvals\n",
      "  warnings.warn(\"Maximum Likelihood optimization failed to \"\n"
     ]
    },
    {
     "name": "stdout",
     "output_type": "stream",
     "text": [
      "Prediction for 2002-11-01 00:00:00: 23.45996839960819\n",
      "Prediction for 2002-12-01 00:00:00: 19.522250880542867\n",
      "Date\n",
      "1993-01-01    18.291342\n",
      "1993-02-01    22.787743\n",
      "1993-03-01    27.258869\n",
      "1993-04-01    28.870785\n",
      "1993-05-01    30.184144\n",
      "                ...    \n",
      "2002-08-01    27.842178\n",
      "2002-09-01    26.729397\n",
      "2002-10-01    25.757127\n",
      "2002-11-01    23.459968\n",
      "2002-12-01    19.522251\n",
      "Name: Temperature, Length: 120, dtype: float64\n"
     ]
    },
    {
     "name": "stderr",
     "output_type": "stream",
     "text": [
      "d:\\projects\\internship\\werather_forcastiing\\venv\\Lib\\site-packages\\statsmodels\\base\\model.py:607: ConvergenceWarning: Maximum Likelihood optimization failed to converge. Check mle_retvals\n",
      "  warnings.warn(\"Maximum Likelihood optimization failed to \"\n"
     ]
    }
   ],
   "source": [
    "from datetime import timedelta\n",
    "from dateutil.relativedelta import relativedelta\n",
    "from statsmodels.tsa.arima.model import ARIMA\n",
    "import pandas as pd\n",
    "\n",
    "# Assuming df_long is your long-format time series with a DateTime index\n",
    "# Ensure the index has a frequency (e.g., 'MS' for monthly data)\n",
    "df_long = df_long.asfreq('MS')\n",
    "\n",
    "# Create a copy of the test data to store rolling predictions\n",
    "rolling_predictions = test_data.copy()\n",
    "\n",
    "# Iterate over the test data index\n",
    "for train_end in test_data.index:\n",
    "    # Extract training data up to the current train_end (excluding the last observation)\n",
    "    train_data_roll = df_long[:train_end][:-1]\n",
    "    \n",
    "    # Fit the ARIMA model\n",
    "    model = ARIMA(train_data_roll, order=(7, 1, 1))\n",
    "    model_fit = model.fit()  # Use a valid optimization method\n",
    "    \n",
    "    # Forecast the next value\n",
    "    pred = model_fit.forecast()\n",
    "    \n",
    "    # Store the prediction in the rolling_predictions DataFrame\n",
    "    rolling_predictions.loc[train_end] = pred.iloc[0]  # Use .iloc[0] to avoid FutureWarning\n",
    "    \n",
    "    print(f\"Prediction for {train_end}: {pred.iloc[0]}\")\n",
    "\n",
    "# Print the final rolling predictions\n",
    "print(rolling_predictions)"
   ]
  },
  {
   "cell_type": "code",
   "execution_count": 26,
   "metadata": {},
   "outputs": [
    {
     "data": {
      "text/plain": [
       "<matplotlib.lines.Line2D at 0x1e950dace90>"
      ]
     },
     "execution_count": 26,
     "metadata": {},
     "output_type": "execute_result"
    },
    {
     "data": {
      "image/png": "[encoded data removed]",
      "text/plain": [
       "<Figure size 1000x400 with 1 Axes>"
      ]
     },
     "metadata": {},
     "output_type": "display_data"
    }
   ],
   "source": [
    "err = rolling_predictions-acc\n",
    "plt.figure(figsize=(10,4))\n",
    "plt.plot(err)\n",
    "plt.title('Residuals from AR Model with out noice', fontsize=20)\n",
    "plt.ylabel('Error', fontsize=16)\n",
    "plt.axhline(0, color='r', linestyle='--', alpha=0.2)"
   ]
  },
  {
   "cell_type": "code",
   "execution_count": 27,
   "metadata": {},
   "outputs": [
    {
     "data": {
      "text/plain": [
       "Text(0, 0.5, 'temp')"
      ]
     },
     "execution_count": 27,
     "metadata": {},
     "output_type": "execute_result"
    },
    {
     "data": {
      "image/png": "[encoded data removed]",
      "text/plain": [
       "<Figure size 1000x400 with 1 Axes>"
      ]
     },
     "metadata": {},
     "output_type": "display_data"
    }
   ],
   "source": [
    "plt.figure(figsize=(10,4))\n",
    "\n",
    "# plt.plot(df_long.Temperature) # plot the all dataset\n",
    "plt.plot(test_data)\n",
    "plt.plot(rolling_predictions)\n",
    "\n",
    "plt.legend(('Data', 'Predictions'), fontsize=16)\n",
    "\n",
    "plt.ylabel('temp', fontsize=16)"
   ]
  },
  {
   "cell_type": "code",
   "execution_count": 28,
   "metadata": {},
   "outputs": [
    {
     "name": "stdout",
     "output_type": "stream",
     "text": [
      "Mean Absolute Percent Error with noice: 0.0348\n"
     ]
    }
   ],
   "source": [
    "print('Mean Absolute Percent Error with noice:', round(np.mean(abs(err/test_data)),4))\n"
   ]
  },
  {
   "cell_type": "code",
   "execution_count": 29,
   "metadata": {},
   "outputs": [
    {
     "name": "stdout",
     "output_type": "stream",
     "text": [
      "Root Mean Squared Error: 1.1381071902319415\n"
     ]
    }
   ],
   "source": [
    "print('Root Mean Squared Error:', np.sqrt(np.mean(err**2)))"
   ]
  },
  {
   "cell_type": "code",
   "execution_count": 51,
   "metadata": {},
   "outputs": [
    {
     "data": {
      "text/plain": [
       "Date\n",
       "1993-01-01    18.291342\n",
       "1993-02-01    22.787743\n",
       "1993-03-01    27.258869\n",
       "1993-04-01    28.870785\n",
       "1993-05-01    30.184144\n",
       "                ...    \n",
       "2002-08-01    27.842178\n",
       "2002-09-01    26.729397\n",
       "2002-10-01    25.757127\n",
       "2002-11-01    23.459968\n",
       "2002-12-01    19.522251\n",
       "Name: Temperature, Length: 120, dtype: float64"
      ]
     },
     "execution_count": 51,
     "metadata": {},
     "output_type": "execute_result"
    }
   ],
   "source": [
    "rolling_predictions"
   ]
  },
  {
   "cell_type": "code",
   "execution_count": 31,
   "metadata": {},
   "outputs": [],
   "source": [
    "predict_data=pd.DataFrame(rolling_predictions,columns=[\"Temperature\"])"
   ]
  },
  {
   "cell_type": "code",
   "execution_count": 32,
   "metadata": {},
   "outputs": [
    {
     "data": {
      "text/html": [
       "<div>\n",
       "<style scoped>\n",
       "    .dataframe tbody tr th:only-of-type {\n",
       "        vertical-align: middle;\n",
       "    }\n",
       "\n",
       "    .dataframe tbody tr th {\n",
       "        vertical-align: top;\n",
       "    }\n",
       "\n",
       "    .dataframe thead th {\n",
       "        text-align: right;\n",
       "    }\n",
       "</style>\n",
       "<table border=\"1\" class=\"dataframe\">\n",
       "  <thead>\n",
       "    <tr style=\"text-align: right;\">\n",
       "      <th>Month</th>\n",
       "      <th>Year</th>\n",
       "      <th>Jan</th>\n",
       "      <th>Feb</th>\n",
       "      <th>Mar</th>\n",
       "      <th>Apr</th>\n",
       "      <th>May</th>\n",
       "      <th>Jun</th>\n",
       "      <th>Jul</th>\n",
       "      <th>Aug</th>\n",
       "      <th>Sep</th>\n",
       "      <th>Oct</th>\n",
       "      <th>Nov</th>\n",
       "      <th>Dec</th>\n",
       "    </tr>\n",
       "  </thead>\n",
       "  <tbody>\n",
       "    <tr>\n",
       "      <th>0</th>\n",
       "      <td>1993</td>\n",
       "      <td>18.291342</td>\n",
       "      <td>22.787743</td>\n",
       "      <td>27.258869</td>\n",
       "      <td>28.870785</td>\n",
       "      <td>30.184144</td>\n",
       "      <td>31.349148</td>\n",
       "      <td>30.411310</td>\n",
       "      <td>27.513551</td>\n",
       "      <td>26.622108</td>\n",
       "      <td>26.075458</td>\n",
       "      <td>23.716388</td>\n",
       "      <td>19.157126</td>\n",
       "    </tr>\n",
       "    <tr>\n",
       "      <th>1</th>\n",
       "      <td>1994</td>\n",
       "      <td>18.755799</td>\n",
       "      <td>23.212162</td>\n",
       "      <td>25.920315</td>\n",
       "      <td>30.507364</td>\n",
       "      <td>30.574002</td>\n",
       "      <td>32.018780</td>\n",
       "      <td>29.285807</td>\n",
       "      <td>26.858127</td>\n",
       "      <td>27.401017</td>\n",
       "      <td>26.106996</td>\n",
       "      <td>23.816552</td>\n",
       "      <td>19.084681</td>\n",
       "    </tr>\n",
       "    <tr>\n",
       "      <th>2</th>\n",
       "      <td>1995</td>\n",
       "      <td>18.835476</td>\n",
       "      <td>21.671046</td>\n",
       "      <td>26.707880</td>\n",
       "      <td>30.305654</td>\n",
       "      <td>32.040190</td>\n",
       "      <td>31.141946</td>\n",
       "      <td>29.958695</td>\n",
       "      <td>27.409136</td>\n",
       "      <td>27.457783</td>\n",
       "      <td>26.096841</td>\n",
       "      <td>22.967229</td>\n",
       "      <td>19.368098</td>\n",
       "    </tr>\n",
       "    <tr>\n",
       "      <th>3</th>\n",
       "      <td>1996</td>\n",
       "      <td>18.785504</td>\n",
       "      <td>23.050270</td>\n",
       "      <td>25.590578</td>\n",
       "      <td>31.039632</td>\n",
       "      <td>30.624906</td>\n",
       "      <td>32.094081</td>\n",
       "      <td>28.316260</td>\n",
       "      <td>27.529870</td>\n",
       "      <td>27.267819</td>\n",
       "      <td>26.480082</td>\n",
       "      <td>23.164224</td>\n",
       "      <td>18.797067</td>\n",
       "    </tr>\n",
       "    <tr>\n",
       "      <th>4</th>\n",
       "      <td>1997</td>\n",
       "      <td>18.956093</td>\n",
       "      <td>22.074773</td>\n",
       "      <td>26.358978</td>\n",
       "      <td>30.675856</td>\n",
       "      <td>30.088929</td>\n",
       "      <td>31.627346</td>\n",
       "      <td>31.403054</td>\n",
       "      <td>27.414805</td>\n",
       "      <td>27.041597</td>\n",
       "      <td>25.717024</td>\n",
       "      <td>24.499644</td>\n",
       "      <td>20.364308</td>\n",
       "    </tr>\n",
       "    <tr>\n",
       "      <th>5</th>\n",
       "      <td>1998</td>\n",
       "      <td>18.131954</td>\n",
       "      <td>21.283736</td>\n",
       "      <td>26.889507</td>\n",
       "      <td>28.914091</td>\n",
       "      <td>31.475340</td>\n",
       "      <td>31.577464</td>\n",
       "      <td>31.458379</td>\n",
       "      <td>27.199198</td>\n",
       "      <td>26.875984</td>\n",
       "      <td>27.086048</td>\n",
       "      <td>24.547860</td>\n",
       "      <td>19.553339</td>\n",
       "    </tr>\n",
       "    <tr>\n",
       "      <th>6</th>\n",
       "      <td>1999</td>\n",
       "      <td>17.764594</td>\n",
       "      <td>21.679059</td>\n",
       "      <td>27.251208</td>\n",
       "      <td>30.785346</td>\n",
       "      <td>31.740091</td>\n",
       "      <td>29.575184</td>\n",
       "      <td>28.420048</td>\n",
       "      <td>27.493631</td>\n",
       "      <td>27.138106</td>\n",
       "      <td>25.541018</td>\n",
       "      <td>23.044397</td>\n",
       "      <td>19.932728</td>\n",
       "    </tr>\n",
       "    <tr>\n",
       "      <th>7</th>\n",
       "      <td>2000</td>\n",
       "      <td>19.697655</td>\n",
       "      <td>22.787841</td>\n",
       "      <td>25.522057</td>\n",
       "      <td>30.234191</td>\n",
       "      <td>32.384579</td>\n",
       "      <td>30.795197</td>\n",
       "      <td>28.143159</td>\n",
       "      <td>27.742052</td>\n",
       "      <td>28.678176</td>\n",
       "      <td>25.984697</td>\n",
       "      <td>23.085115</td>\n",
       "      <td>20.677775</td>\n",
       "    </tr>\n",
       "    <tr>\n",
       "      <th>8</th>\n",
       "      <td>2001</td>\n",
       "      <td>18.548937</td>\n",
       "      <td>21.732944</td>\n",
       "      <td>27.023214</td>\n",
       "      <td>30.713984</td>\n",
       "      <td>31.665864</td>\n",
       "      <td>30.503586</td>\n",
       "      <td>28.181672</td>\n",
       "      <td>27.546184</td>\n",
       "      <td>28.713371</td>\n",
       "      <td>27.207768</td>\n",
       "      <td>23.421125</td>\n",
       "      <td>20.184927</td>\n",
       "    </tr>\n",
       "    <tr>\n",
       "      <th>9</th>\n",
       "      <td>2002</td>\n",
       "      <td>19.432063</td>\n",
       "      <td>22.550974</td>\n",
       "      <td>26.854626</td>\n",
       "      <td>30.302864</td>\n",
       "      <td>30.519967</td>\n",
       "      <td>30.728019</td>\n",
       "      <td>29.289383</td>\n",
       "      <td>27.842178</td>\n",
       "      <td>26.729397</td>\n",
       "      <td>25.757127</td>\n",
       "      <td>23.459968</td>\n",
       "      <td>19.522251</td>\n",
       "    </tr>\n",
       "  </tbody>\n",
       "</table>\n",
       "</div>"
      ],
      "text/plain": [
       "Month  Year        Jan        Feb        Mar        Apr        May        Jun  \\\n",
       "0      1993  18.291342  22.787743  27.258869  28.870785  30.184144  31.349148   \n",
       "1      1994  18.755799  23.212162  25.920315  30.507364  30.574002  32.018780   \n",
       "2      1995  18.835476  21.671046  26.707880  30.305654  32.040190  31.141946   \n",
       "3      1996  18.785504  23.050270  25.590578  31.039632  30.624906  32.094081   \n",
       "4      1997  18.956093  22.074773  26.358978  30.675856  30.088929  31.627346   \n",
       "5      1998  18.131954  21.283736  26.889507  28.914091  31.475340  31.577464   \n",
       "6      1999  17.764594  21.679059  27.251208  30.785346  31.740091  29.575184   \n",
       "7      2000  19.697655  22.787841  25.522057  30.234191  32.384579  30.795197   \n",
       "8      2001  18.548937  21.732944  27.023214  30.713984  31.665864  30.503586   \n",
       "9      2002  19.432063  22.550974  26.854626  30.302864  30.519967  30.728019   \n",
       "\n",
       "Month        Jul        Aug        Sep        Oct        Nov        Dec  \n",
       "0      30.411310  27.513551  26.622108  26.075458  23.716388  19.157126  \n",
       "1      29.285807  26.858127  27.401017  26.106996  23.816552  19.084681  \n",
       "2      29.958695  27.409136  27.457783  26.096841  22.967229  19.368098  \n",
       "3      28.316260  27.529870  27.267819  26.480082  23.164224  18.797067  \n",
       "4      31.403054  27.414805  27.041597  25.717024  24.499644  20.364308  \n",
       "5      31.458379  27.199198  26.875984  27.086048  24.547860  19.553339  \n",
       "6      28.420048  27.493631  27.138106  25.541018  23.044397  19.932728  \n",
       "7      28.143159  27.742052  28.678176  25.984697  23.085115  20.677775  \n",
       "8      28.181672  27.546184  28.713371  27.207768  23.421125  20.184927  \n",
       "9      29.289383  27.842178  26.729397  25.757127  23.459968  19.522251  "
      ]
     },
     "execution_count": 32,
     "metadata": {},
     "output_type": "execute_result"
    }
   ],
   "source": [
    "get_reconvart_pred=TemperatureDataTransformer(predict_data)\n",
    "get_reconvart_pred.long_to_wide(predict_data)"
   ]
  },
  {
   "cell_type": "code",
   "execution_count": 33,
   "metadata": {},
   "outputs": [
    {
     "data": {
      "text/html": [
       "<div>\n",
       "<style scoped>\n",
       "    .dataframe tbody tr th:only-of-type {\n",
       "        vertical-align: middle;\n",
       "    }\n",
       "\n",
       "    .dataframe tbody tr th {\n",
       "        vertical-align: top;\n",
       "    }\n",
       "\n",
       "    .dataframe thead th {\n",
       "        text-align: right;\n",
       "    }\n",
       "</style>\n",
       "<table border=\"1\" class=\"dataframe\">\n",
       "  <thead>\n",
       "    <tr style=\"text-align: right;\">\n",
       "      <th>Month</th>\n",
       "      <th>Year</th>\n",
       "      <th>Jan</th>\n",
       "      <th>Feb</th>\n",
       "      <th>Mar</th>\n",
       "      <th>Apr</th>\n",
       "      <th>May</th>\n",
       "      <th>Jun</th>\n",
       "      <th>Jul</th>\n",
       "      <th>Aug</th>\n",
       "      <th>Sep</th>\n",
       "      <th>Oct</th>\n",
       "      <th>Nov</th>\n",
       "      <th>Dec</th>\n",
       "    </tr>\n",
       "  </thead>\n",
       "  <tbody>\n",
       "    <tr>\n",
       "      <th>0</th>\n",
       "      <td>1993</td>\n",
       "      <td>19.656</td>\n",
       "      <td>22.851</td>\n",
       "      <td>26.131</td>\n",
       "      <td>29.796</td>\n",
       "      <td>31.958</td>\n",
       "      <td>31.087</td>\n",
       "      <td>28.950</td>\n",
       "      <td>28.319</td>\n",
       "      <td>27.947</td>\n",
       "      <td>26.638</td>\n",
       "      <td>22.083</td>\n",
       "      <td>19.026</td>\n",
       "    </tr>\n",
       "    <tr>\n",
       "      <th>1</th>\n",
       "      <td>1994</td>\n",
       "      <td>19.885</td>\n",
       "      <td>21.347</td>\n",
       "      <td>27.470</td>\n",
       "      <td>29.959</td>\n",
       "      <td>32.763</td>\n",
       "      <td>30.565</td>\n",
       "      <td>28.314</td>\n",
       "      <td>28.070</td>\n",
       "      <td>28.159</td>\n",
       "      <td>26.800</td>\n",
       "      <td>22.579</td>\n",
       "      <td>19.104</td>\n",
       "    </tr>\n",
       "    <tr>\n",
       "      <th>2</th>\n",
       "      <td>1995</td>\n",
       "      <td>18.021</td>\n",
       "      <td>21.533</td>\n",
       "      <td>26.554</td>\n",
       "      <td>31.294</td>\n",
       "      <td>32.306</td>\n",
       "      <td>31.656</td>\n",
       "      <td>28.385</td>\n",
       "      <td>28.509</td>\n",
       "      <td>28.031</td>\n",
       "      <td>26.538</td>\n",
       "      <td>22.576</td>\n",
       "      <td>19.429</td>\n",
       "    </tr>\n",
       "    <tr>\n",
       "      <th>3</th>\n",
       "      <td>1996</td>\n",
       "      <td>19.715</td>\n",
       "      <td>21.205</td>\n",
       "      <td>27.954</td>\n",
       "      <td>29.957</td>\n",
       "      <td>33.317</td>\n",
       "      <td>29.831</td>\n",
       "      <td>28.924</td>\n",
       "      <td>27.716</td>\n",
       "      <td>28.831</td>\n",
       "      <td>26.204</td>\n",
       "      <td>22.495</td>\n",
       "      <td>18.647</td>\n",
       "    </tr>\n",
       "    <tr>\n",
       "      <th>4</th>\n",
       "      <td>1997</td>\n",
       "      <td>18.424</td>\n",
       "      <td>20.906</td>\n",
       "      <td>27.213</td>\n",
       "      <td>28.731</td>\n",
       "      <td>32.165</td>\n",
       "      <td>31.968</td>\n",
       "      <td>28.273</td>\n",
       "      <td>28.127</td>\n",
       "      <td>27.754</td>\n",
       "      <td>26.655</td>\n",
       "      <td>23.544</td>\n",
       "      <td>19.249</td>\n",
       "    </tr>\n",
       "    <tr>\n",
       "      <th>5</th>\n",
       "      <td>1998</td>\n",
       "      <td>18.070</td>\n",
       "      <td>21.952</td>\n",
       "      <td>24.778</td>\n",
       "      <td>30.213</td>\n",
       "      <td>32.182</td>\n",
       "      <td>32.721</td>\n",
       "      <td>28.536</td>\n",
       "      <td>28.731</td>\n",
       "      <td>28.450</td>\n",
       "      <td>27.945</td>\n",
       "      <td>23.374</td>\n",
       "      <td>19.761</td>\n",
       "    </tr>\n",
       "    <tr>\n",
       "      <th>6</th>\n",
       "      <td>1999</td>\n",
       "      <td>18.755</td>\n",
       "      <td>22.955</td>\n",
       "      <td>27.970</td>\n",
       "      <td>32.615</td>\n",
       "      <td>31.950</td>\n",
       "      <td>30.624</td>\n",
       "      <td>28.197</td>\n",
       "      <td>28.106</td>\n",
       "      <td>27.746</td>\n",
       "      <td>27.029</td>\n",
       "      <td>22.881</td>\n",
       "      <td>20.175</td>\n",
       "    </tr>\n",
       "    <tr>\n",
       "      <th>7</th>\n",
       "      <td>2000</td>\n",
       "      <td>19.627</td>\n",
       "      <td>21.055</td>\n",
       "      <td>26.735</td>\n",
       "      <td>31.532</td>\n",
       "      <td>31.857</td>\n",
       "      <td>30.055</td>\n",
       "      <td>28.693</td>\n",
       "      <td>28.810</td>\n",
       "      <td>27.967</td>\n",
       "      <td>26.983</td>\n",
       "      <td>23.758</td>\n",
       "      <td>18.745</td>\n",
       "    </tr>\n",
       "    <tr>\n",
       "      <th>8</th>\n",
       "      <td>2001</td>\n",
       "      <td>18.593</td>\n",
       "      <td>22.214</td>\n",
       "      <td>27.048</td>\n",
       "      <td>31.377</td>\n",
       "      <td>32.261</td>\n",
       "      <td>29.266</td>\n",
       "      <td>27.803</td>\n",
       "      <td>28.854</td>\n",
       "      <td>29.007</td>\n",
       "      <td>27.648</td>\n",
       "      <td>24.193</td>\n",
       "      <td>19.848</td>\n",
       "    </tr>\n",
       "    <tr>\n",
       "      <th>9</th>\n",
       "      <td>2002</td>\n",
       "      <td>19.528</td>\n",
       "      <td>22.792</td>\n",
       "      <td>27.747</td>\n",
       "      <td>30.812</td>\n",
       "      <td>32.780</td>\n",
       "      <td>30.951</td>\n",
       "      <td>29.200</td>\n",
       "      <td>28.106</td>\n",
       "      <td>28.072</td>\n",
       "      <td>26.541</td>\n",
       "      <td>22.598</td>\n",
       "      <td>19.701</td>\n",
       "    </tr>\n",
       "  </tbody>\n",
       "</table>\n",
       "</div>"
      ],
      "text/plain": [
       "Month  Year     Jan     Feb     Mar     Apr     May     Jun     Jul     Aug  \\\n",
       "0      1993  19.656  22.851  26.131  29.796  31.958  31.087  28.950  28.319   \n",
       "1      1994  19.885  21.347  27.470  29.959  32.763  30.565  28.314  28.070   \n",
       "2      1995  18.021  21.533  26.554  31.294  32.306  31.656  28.385  28.509   \n",
       "3      1996  19.715  21.205  27.954  29.957  33.317  29.831  28.924  27.716   \n",
       "4      1997  18.424  20.906  27.213  28.731  32.165  31.968  28.273  28.127   \n",
       "5      1998  18.070  21.952  24.778  30.213  32.182  32.721  28.536  28.731   \n",
       "6      1999  18.755  22.955  27.970  32.615  31.950  30.624  28.197  28.106   \n",
       "7      2000  19.627  21.055  26.735  31.532  31.857  30.055  28.693  28.810   \n",
       "8      2001  18.593  22.214  27.048  31.377  32.261  29.266  27.803  28.854   \n",
       "9      2002  19.528  22.792  27.747  30.812  32.780  30.951  29.200  28.106   \n",
       "\n",
       "Month     Sep     Oct     Nov     Dec  \n",
       "0      27.947  26.638  22.083  19.026  \n",
       "1      28.159  26.800  22.579  19.104  \n",
       "2      28.031  26.538  22.576  19.429  \n",
       "3      28.831  26.204  22.495  18.647  \n",
       "4      27.754  26.655  23.544  19.249  \n",
       "5      28.450  27.945  23.374  19.761  \n",
       "6      27.746  27.029  22.881  20.175  \n",
       "7      27.967  26.983  23.758  18.745  \n",
       "8      29.007  27.648  24.193  19.848  \n",
       "9      28.072  26.541  22.598  19.701  "
      ]
     },
     "execution_count": 33,
     "metadata": {},
     "output_type": "execute_result"
    }
   ],
   "source": [
    "get_reconvart=TemperatureDataTransformer(test_data)\n",
    "get_reconvart.long_to_wide(test_data)"
   ]
  },
  {
   "cell_type": "code",
   "execution_count": 34,
   "metadata": {},
   "outputs": [
    {
     "data": {
      "text/plain": [
       "0.9314025863709013"
      ]
     },
     "execution_count": 34,
     "metadata": {},
     "output_type": "execute_result"
    }
   ],
   "source": [
    "from sklearn.metrics import r2_score\n",
    "r2_score(test_data,rolling_predictions)"
   ]
  },
  {
   "cell_type": "markdown",
   "metadata": {},
   "source": [
    "### sarimax model"
   ]
  },
  {
   "cell_type": "code",
   "execution_count": null,
   "metadata": {},
   "outputs": [
    {
     "name": "stderr",
     "output_type": "stream",
     "text": [
      "d:\\projects\\internship\\werather_forcastiing\\venv\\Lib\\site-packages\\statsmodels\\tsa\\base\\tsa_model.py:473: ValueWarning: No frequency information was provided, so inferred frequency MS will be used.\n",
      "  self._init_dates(dates, freq)\n",
      "d:\\projects\\internship\\werather_forcastiing\\venv\\Lib\\site-packages\\statsmodels\\tsa\\base\\tsa_model.py:473: ValueWarning: No frequency information was provided, so inferred frequency MS will be used.\n",
      "  self._init_dates(dates, freq)\n"
     ]
    },
    {
     "name": "stdout",
     "output_type": "stream",
     "text": [
      "                                      SARIMAX Results                                       \n",
      "============================================================================================\n",
      "Dep. Variable:                          Temperature   No. Observations:                 1104\n",
      "Model:             SARIMAX(0, 1, 0)x(7, 0, [1], 12)   Log Likelihood               -1620.257\n",
      "Date:                              Sat, 15 Mar 2025   AIC                           3258.513\n",
      "Time:                                      20:25:16   BIC                           3303.565\n",
      "Sample:                                  01-01-1901   HQIC                          3275.554\n",
      "                                       - 12-01-1992                                         \n",
      "Covariance Type:                                opg                                         \n",
      "==============================================================================\n",
      "                 coef    std err          z      P>|z|      [0.025      0.975]\n",
      "------------------------------------------------------------------------------\n",
      "ar.S.L12       0.9436      0.032     29.638      0.000       0.881       1.006\n",
      "ar.S.L24       0.1076      0.037      2.937      0.003       0.036       0.179\n",
      "ar.S.L36      -0.0425      0.032     -1.319      0.187      -0.106       0.021\n",
      "ar.S.L48      -0.0652      0.031     -2.080      0.038      -0.127      -0.004\n",
      "ar.S.L60       0.0036      0.036      0.099      0.921      -0.067       0.075\n",
      "ar.S.L72      -0.0102      0.031     -0.329      0.742      -0.071       0.051\n",
      "ar.S.L84       0.0629      0.024      2.674      0.007       0.017       0.109\n",
      "ma.S.L12      -0.9351      0.017    -53.682      0.000      -0.969      -0.901\n",
      "sigma2         1.0558      0.040     26.223      0.000       0.977       1.135\n",
      "===================================================================================\n",
      "Ljung-Box (L1) (Q):                 170.89   Jarque-Bera (JB):                14.23\n",
      "Prob(Q):                              0.00   Prob(JB):                         0.00\n",
      "Heteroskedasticity (H):               1.10   Skew:                            -0.05\n",
      "Prob(H) (two-sided):                  0.38   Kurtosis:                         3.55\n",
      "===================================================================================\n",
      "\n",
      "Warnings:\n",
      "[1] Covariance matrix calculated using the outer product of gradients (complex-step).\n"
     ]
    }
   ],
   "source": [
    "from statsmodels.tsa.statespace.sarimax import SARIMAX\n",
    "my_order = (0,1,0)\n",
    "my_seasonal_order = (7, 0, 1, 12)\n",
    "model = SARIMAX(train_data, order=my_order, seasonal_order=my_seasonal_order)\n",
    "# Fit the model\n",
    "model_fit = model.fit()\n",
    "\n",
    "# Print summary\n",
    "print(model_fit.summary())"
   ]
  },
  {
   "cell_type": "code",
   "execution_count": null,
   "metadata": {},
   "outputs": [
    {
     "data": {
      "text/plain": [
       "<matplotlib.lines.Line2D at 0x1e955f1b710>"
      ]
     },
     "execution_count": 36,
     "metadata": {},
     "output_type": "execute_result"
    },
    {
     "data": {
      "image/png": "[encoded data removed]",
      "text/plain": [
       "<Figure size 1000x400 with 1 Axes>"
      ]
     },
     "metadata": {},
     "output_type": "display_data"
    }
   ],
   "source": [
    "#get prediction start and end dates\n",
    "pred_start_date = test_data.index[0]\n",
    "pred_end_date = test_data.index[-1]\n",
    "\n",
    "\n",
    "#get the predictions and residuals\n",
    "pred = model_fit.predict(start=pred_start_date, end=pred_end_date)\n",
    "# pred=pred.cumsum()+df[mon].iloc[split_size+1]\n",
    "acc=test_data\n",
    "residuals = acc-pred\n",
    "\n",
    "# plotting error\n",
    "plt.figure(figsize=(10,4))\n",
    "plt.plot(residuals)\n",
    "plt.title('Residuals from AR Model', fontsize=20)\n",
    "plt.ylabel('Error', fontsize=16)\n",
    "plt.axhline(0, color='r', linestyle='--', alpha=0.2)"
   ]
  },
  {
   "cell_type": "code",
   "execution_count": 39,
   "metadata": {},
   "outputs": [
    {
     "data": {
      "text/plain": [
       "(Date\n",
       " 1993-01-01    19.656\n",
       " 1993-02-01    22.851\n",
       " 1993-03-01    26.131\n",
       " 1993-04-01    29.796\n",
       " 1993-05-01    31.958\n",
       "                ...  \n",
       " 2002-08-01    28.106\n",
       " 2002-09-01    28.072\n",
       " 2002-10-01    26.541\n",
       " 2002-11-01    22.598\n",
       " 2002-12-01    19.701\n",
       " Name: Temperature, Length: 120, dtype: float64,\n",
       " 1993-01-01    18.954544\n",
       " 1993-02-01    21.661771\n",
       " 1993-03-01    26.647240\n",
       " 1993-04-01    30.453686\n",
       " 1993-05-01    31.840177\n",
       "                 ...    \n",
       " 2002-08-01    28.026062\n",
       " 2002-09-01    28.025981\n",
       " 2002-10-01    26.290595\n",
       " 2002-11-01    22.276660\n",
       " 2002-12-01    18.818795\n",
       " Freq: MS, Name: predicted_mean, Length: 120, dtype: float64)"
      ]
     },
     "execution_count": 39,
     "metadata": {},
     "output_type": "execute_result"
    }
   ],
   "source": [
    "test_data,pred"
   ]
  },
  {
   "cell_type": "code",
   "execution_count": 40,
   "metadata": {},
   "outputs": [
    {
     "data": {
      "text/plain": [
       "Text(0, 0.5, 'temp')"
      ]
     },
     "execution_count": 40,
     "metadata": {},
     "output_type": "execute_result"
    },
    {
     "data": {
      "image/png": "[encoded data removed]",
      "text/plain": [
       "<Figure size 1000x400 with 1 Axes>"
      ]
     },
     "metadata": {},
     "output_type": "display_data"
    }
   ],
   "source": [
    "plt.figure(figsize=(10,4))\n",
    "\n",
    "# plt.plot(test_data[month])\n",
    "# plt.plot(predictions)\n",
    "plt.plot(acc)\n",
    "plt.plot(pred)\n",
    "\n",
    "plt.legend(('Data', 'Predictions'), fontsize=16)\n",
    "\n",
    "plt.title('temp pred', fontsize=20)\n",
    "plt.ylabel('temp', fontsize=16)"
   ]
  },
  {
   "cell_type": "code",
   "execution_count": 74,
   "metadata": {},
   "outputs": [],
   "source": [
    "predict_data=pd.DataFrame(test_data,columns=[\"Temperature\"])"
   ]
  },
  {
   "cell_type": "code",
   "execution_count": 75,
   "metadata": {},
   "outputs": [],
   "source": [
    "predict_data[\"Temperature\"]=pred"
   ]
  },
  {
   "cell_type": "code",
   "execution_count": 76,
   "metadata": {},
   "outputs": [
    {
     "data": {
      "text/html": [
       "<div>\n",
       "<style scoped>\n",
       "    .dataframe tbody tr th:only-of-type {\n",
       "        vertical-align: middle;\n",
       "    }\n",
       "\n",
       "    .dataframe tbody tr th {\n",
       "        vertical-align: top;\n",
       "    }\n",
       "\n",
       "    .dataframe thead th {\n",
       "        text-align: right;\n",
       "    }\n",
       "</style>\n",
       "<table border=\"1\" class=\"dataframe\">\n",
       "  <thead>\n",
       "    <tr style=\"text-align: right;\">\n",
       "      <th></th>\n",
       "      <th>Temperature</th>\n",
       "    </tr>\n",
       "    <tr>\n",
       "      <th>Date</th>\n",
       "      <th></th>\n",
       "    </tr>\n",
       "  </thead>\n",
       "  <tbody>\n",
       "    <tr>\n",
       "      <th>1993-01-01</th>\n",
       "      <td>18.954544</td>\n",
       "    </tr>\n",
       "    <tr>\n",
       "      <th>1993-02-01</th>\n",
       "      <td>21.661771</td>\n",
       "    </tr>\n",
       "    <tr>\n",
       "      <th>1993-03-01</th>\n",
       "      <td>26.647240</td>\n",
       "    </tr>\n",
       "    <tr>\n",
       "      <th>1993-04-01</th>\n",
       "      <td>30.453686</td>\n",
       "    </tr>\n",
       "    <tr>\n",
       "      <th>1993-05-01</th>\n",
       "      <td>31.840177</td>\n",
       "    </tr>\n",
       "    <tr>\n",
       "      <th>...</th>\n",
       "      <td>...</td>\n",
       "    </tr>\n",
       "    <tr>\n",
       "      <th>2002-08-01</th>\n",
       "      <td>28.026062</td>\n",
       "    </tr>\n",
       "    <tr>\n",
       "      <th>2002-09-01</th>\n",
       "      <td>28.025981</td>\n",
       "    </tr>\n",
       "    <tr>\n",
       "      <th>2002-10-01</th>\n",
       "      <td>26.290595</td>\n",
       "    </tr>\n",
       "    <tr>\n",
       "      <th>2002-11-01</th>\n",
       "      <td>22.276660</td>\n",
       "    </tr>\n",
       "    <tr>\n",
       "      <th>2002-12-01</th>\n",
       "      <td>18.818795</td>\n",
       "    </tr>\n",
       "  </tbody>\n",
       "</table>\n",
       "<p>120 rows × 1 columns</p>\n",
       "</div>"
      ],
      "text/plain": [
       "            Temperature\n",
       "Date                   \n",
       "1993-01-01    18.954544\n",
       "1993-02-01    21.661771\n",
       "1993-03-01    26.647240\n",
       "1993-04-01    30.453686\n",
       "1993-05-01    31.840177\n",
       "...                 ...\n",
       "2002-08-01    28.026062\n",
       "2002-09-01    28.025981\n",
       "2002-10-01    26.290595\n",
       "2002-11-01    22.276660\n",
       "2002-12-01    18.818795\n",
       "\n",
       "[120 rows x 1 columns]"
      ]
     },
     "execution_count": 76,
     "metadata": {},
     "output_type": "execute_result"
    }
   ],
   "source": [
    "predict_data"
   ]
  },
  {
   "cell_type": "code",
   "execution_count": 78,
   "metadata": {},
   "outputs": [
    {
     "data": {
      "text/html": [
       "<div>\n",
       "<style scoped>\n",
       "    .dataframe tbody tr th:only-of-type {\n",
       "        vertical-align: middle;\n",
       "    }\n",
       "\n",
       "    .dataframe tbody tr th {\n",
       "        vertical-align: top;\n",
       "    }\n",
       "\n",
       "    .dataframe thead th {\n",
       "        text-align: right;\n",
       "    }\n",
       "</style>\n",
       "<table border=\"1\" class=\"dataframe\">\n",
       "  <thead>\n",
       "    <tr style=\"text-align: right;\">\n",
       "      <th></th>\n",
       "      <th>Temperature</th>\n",
       "    </tr>\n",
       "    <tr>\n",
       "      <th>Date</th>\n",
       "      <th></th>\n",
       "    </tr>\n",
       "  </thead>\n",
       "  <tbody>\n",
       "    <tr>\n",
       "      <th>1993-01-01</th>\n",
       "      <td>19.656</td>\n",
       "    </tr>\n",
       "    <tr>\n",
       "      <th>1993-02-01</th>\n",
       "      <td>22.851</td>\n",
       "    </tr>\n",
       "    <tr>\n",
       "      <th>1993-03-01</th>\n",
       "      <td>26.131</td>\n",
       "    </tr>\n",
       "    <tr>\n",
       "      <th>1993-04-01</th>\n",
       "      <td>29.796</td>\n",
       "    </tr>\n",
       "    <tr>\n",
       "      <th>1993-05-01</th>\n",
       "      <td>31.958</td>\n",
       "    </tr>\n",
       "    <tr>\n",
       "      <th>...</th>\n",
       "      <td>...</td>\n",
       "    </tr>\n",
       "    <tr>\n",
       "      <th>2002-08-01</th>\n",
       "      <td>28.106</td>\n",
       "    </tr>\n",
       "    <tr>\n",
       "      <th>2002-09-01</th>\n",
       "      <td>28.072</td>\n",
       "    </tr>\n",
       "    <tr>\n",
       "      <th>2002-10-01</th>\n",
       "      <td>26.541</td>\n",
       "    </tr>\n",
       "    <tr>\n",
       "      <th>2002-11-01</th>\n",
       "      <td>22.598</td>\n",
       "    </tr>\n",
       "    <tr>\n",
       "      <th>2002-12-01</th>\n",
       "      <td>19.701</td>\n",
       "    </tr>\n",
       "  </tbody>\n",
       "</table>\n",
       "<p>120 rows × 1 columns</p>\n",
       "</div>"
      ],
      "text/plain": [
       "            Temperature\n",
       "Date                   \n",
       "1993-01-01       19.656\n",
       "1993-02-01       22.851\n",
       "1993-03-01       26.131\n",
       "1993-04-01       29.796\n",
       "1993-05-01       31.958\n",
       "...                 ...\n",
       "2002-08-01       28.106\n",
       "2002-09-01       28.072\n",
       "2002-10-01       26.541\n",
       "2002-11-01       22.598\n",
       "2002-12-01       19.701\n",
       "\n",
       "[120 rows x 1 columns]"
      ]
     },
     "execution_count": 78,
     "metadata": {},
     "output_type": "execute_result"
    }
   ],
   "source": [
    "test_data=pd.DataFrame(test_data,columns=[\"Temperature\"])\n",
    "test_data"
   ]
  },
  {
   "cell_type": "code",
   "execution_count": 79,
   "metadata": {},
   "outputs": [
    {
     "data": {
      "text/html": [
       "<div>\n",
       "<style scoped>\n",
       "    .dataframe tbody tr th:only-of-type {\n",
       "        vertical-align: middle;\n",
       "    }\n",
       "\n",
       "    .dataframe tbody tr th {\n",
       "        vertical-align: top;\n",
       "    }\n",
       "\n",
       "    .dataframe thead th {\n",
       "        text-align: right;\n",
       "    }\n",
       "</style>\n",
       "<table border=\"1\" class=\"dataframe\">\n",
       "  <thead>\n",
       "    <tr style=\"text-align: right;\">\n",
       "      <th>Month</th>\n",
       "      <th>Year</th>\n",
       "      <th>Jan</th>\n",
       "      <th>Feb</th>\n",
       "      <th>Mar</th>\n",
       "      <th>Apr</th>\n",
       "      <th>May</th>\n",
       "      <th>Jun</th>\n",
       "      <th>Jul</th>\n",
       "      <th>Aug</th>\n",
       "      <th>Sep</th>\n",
       "      <th>Oct</th>\n",
       "      <th>Nov</th>\n",
       "      <th>Dec</th>\n",
       "    </tr>\n",
       "  </thead>\n",
       "  <tbody>\n",
       "    <tr>\n",
       "      <th>0</th>\n",
       "      <td>1993</td>\n",
       "      <td>18.954544</td>\n",
       "      <td>21.661771</td>\n",
       "      <td>26.647240</td>\n",
       "      <td>30.453686</td>\n",
       "      <td>31.840177</td>\n",
       "      <td>30.544930</td>\n",
       "      <td>28.328069</td>\n",
       "      <td>28.030231</td>\n",
       "      <td>28.011284</td>\n",
       "      <td>26.149662</td>\n",
       "      <td>22.168131</td>\n",
       "      <td>18.683789</td>\n",
       "    </tr>\n",
       "    <tr>\n",
       "      <th>1</th>\n",
       "      <td>1994</td>\n",
       "      <td>18.825991</td>\n",
       "      <td>21.463127</td>\n",
       "      <td>26.776156</td>\n",
       "      <td>30.539049</td>\n",
       "      <td>31.813307</td>\n",
       "      <td>30.665347</td>\n",
       "      <td>28.344613</td>\n",
       "      <td>27.959205</td>\n",
       "      <td>27.973172</td>\n",
       "      <td>26.273069</td>\n",
       "      <td>22.215573</td>\n",
       "      <td>18.691185</td>\n",
       "    </tr>\n",
       "    <tr>\n",
       "      <th>2</th>\n",
       "      <td>1995</td>\n",
       "      <td>18.932510</td>\n",
       "      <td>21.389780</td>\n",
       "      <td>26.640914</td>\n",
       "      <td>30.471529</td>\n",
       "      <td>31.769811</td>\n",
       "      <td>30.589862</td>\n",
       "      <td>28.246097</td>\n",
       "      <td>27.985071</td>\n",
       "      <td>27.998727</td>\n",
       "      <td>26.322695</td>\n",
       "      <td>22.282635</td>\n",
       "      <td>18.852041</td>\n",
       "    </tr>\n",
       "    <tr>\n",
       "      <th>3</th>\n",
       "      <td>1996</td>\n",
       "      <td>18.936443</td>\n",
       "      <td>21.535811</td>\n",
       "      <td>26.654223</td>\n",
       "      <td>30.544567</td>\n",
       "      <td>31.826267</td>\n",
       "      <td>30.519907</td>\n",
       "      <td>28.228840</td>\n",
       "      <td>27.962018</td>\n",
       "      <td>27.985173</td>\n",
       "      <td>26.363532</td>\n",
       "      <td>22.253381</td>\n",
       "      <td>18.833725</td>\n",
       "    </tr>\n",
       "    <tr>\n",
       "      <th>4</th>\n",
       "      <td>1997</td>\n",
       "      <td>19.004082</td>\n",
       "      <td>21.524651</td>\n",
       "      <td>26.542953</td>\n",
       "      <td>30.499552</td>\n",
       "      <td>31.738571</td>\n",
       "      <td>30.522076</td>\n",
       "      <td>28.203346</td>\n",
       "      <td>28.022486</td>\n",
       "      <td>28.008079</td>\n",
       "      <td>26.317620</td>\n",
       "      <td>22.325060</td>\n",
       "      <td>18.889545</td>\n",
       "    </tr>\n",
       "    <tr>\n",
       "      <th>5</th>\n",
       "      <td>1998</td>\n",
       "      <td>18.970753</td>\n",
       "      <td>21.657888</td>\n",
       "      <td>26.573095</td>\n",
       "      <td>30.489508</td>\n",
       "      <td>31.781929</td>\n",
       "      <td>30.476152</td>\n",
       "      <td>28.242473</td>\n",
       "      <td>28.017816</td>\n",
       "      <td>28.030278</td>\n",
       "      <td>26.305232</td>\n",
       "      <td>22.263071</td>\n",
       "      <td>18.854906</td>\n",
       "    </tr>\n",
       "    <tr>\n",
       "      <th>6</th>\n",
       "      <td>1999</td>\n",
       "      <td>18.937641</td>\n",
       "      <td>21.598372</td>\n",
       "      <td>26.614479</td>\n",
       "      <td>30.534415</td>\n",
       "      <td>31.745614</td>\n",
       "      <td>30.491435</td>\n",
       "      <td>28.276474</td>\n",
       "      <td>28.045507</td>\n",
       "      <td>28.045348</td>\n",
       "      <td>26.323956</td>\n",
       "      <td>22.303469</td>\n",
       "      <td>18.850915</td>\n",
       "    </tr>\n",
       "    <tr>\n",
       "      <th>7</th>\n",
       "      <td>2000</td>\n",
       "      <td>18.936805</td>\n",
       "      <td>21.611999</td>\n",
       "      <td>26.604905</td>\n",
       "      <td>30.517850</td>\n",
       "      <td>31.742341</td>\n",
       "      <td>30.481372</td>\n",
       "      <td>28.274916</td>\n",
       "      <td>28.042172</td>\n",
       "      <td>28.041180</td>\n",
       "      <td>26.303205</td>\n",
       "      <td>22.288970</td>\n",
       "      <td>18.838141</td>\n",
       "    </tr>\n",
       "    <tr>\n",
       "      <th>8</th>\n",
       "      <td>2001</td>\n",
       "      <td>18.920302</td>\n",
       "      <td>21.602304</td>\n",
       "      <td>26.615833</td>\n",
       "      <td>30.516729</td>\n",
       "      <td>31.738178</td>\n",
       "      <td>30.483424</td>\n",
       "      <td>28.279089</td>\n",
       "      <td>28.033448</td>\n",
       "      <td>28.033725</td>\n",
       "      <td>26.296554</td>\n",
       "      <td>22.279788</td>\n",
       "      <td>18.822243</td>\n",
       "    </tr>\n",
       "    <tr>\n",
       "      <th>9</th>\n",
       "      <td>2002</td>\n",
       "      <td>18.915118</td>\n",
       "      <td>21.582319</td>\n",
       "      <td>26.612355</td>\n",
       "      <td>30.507482</td>\n",
       "      <td>31.728989</td>\n",
       "      <td>30.482600</td>\n",
       "      <td>28.272755</td>\n",
       "      <td>28.026062</td>\n",
       "      <td>28.025981</td>\n",
       "      <td>26.290595</td>\n",
       "      <td>22.276660</td>\n",
       "      <td>18.818795</td>\n",
       "    </tr>\n",
       "  </tbody>\n",
       "</table>\n",
       "</div>"
      ],
      "text/plain": [
       "Month  Year        Jan        Feb        Mar        Apr        May        Jun  \\\n",
       "0      1993  18.954544  21.661771  26.647240  30.453686  31.840177  30.544930   \n",
       "1      1994  18.825991  21.463127  26.776156  30.539049  31.813307  30.665347   \n",
       "2      1995  18.932510  21.389780  26.640914  30.471529  31.769811  30.589862   \n",
       "3      1996  18.936443  21.535811  26.654223  30.544567  31.826267  30.519907   \n",
       "4      1997  19.004082  21.524651  26.542953  30.499552  31.738571  30.522076   \n",
       "5      1998  18.970753  21.657888  26.573095  30.489508  31.781929  30.476152   \n",
       "6      1999  18.937641  21.598372  26.614479  30.534415  31.745614  30.491435   \n",
       "7      2000  18.936805  21.611999  26.604905  30.517850  31.742341  30.481372   \n",
       "8      2001  18.920302  21.602304  26.615833  30.516729  31.738178  30.483424   \n",
       "9      2002  18.915118  21.582319  26.612355  30.507482  31.728989  30.482600   \n",
       "\n",
       "Month        Jul        Aug        Sep        Oct        Nov        Dec  \n",
       "0      28.328069  28.030231  28.011284  26.149662  22.168131  18.683789  \n",
       "1      28.344613  27.959205  27.973172  26.273069  22.215573  18.691185  \n",
       "2      28.246097  27.985071  27.998727  26.322695  22.282635  18.852041  \n",
       "3      28.228840  27.962018  27.985173  26.363532  22.253381  18.833725  \n",
       "4      28.203346  28.022486  28.008079  26.317620  22.325060  18.889545  \n",
       "5      28.242473  28.017816  28.030278  26.305232  22.263071  18.854906  \n",
       "6      28.276474  28.045507  28.045348  26.323956  22.303469  18.850915  \n",
       "7      28.274916  28.042172  28.041180  26.303205  22.288970  18.838141  \n",
       "8      28.279089  28.033448  28.033725  26.296554  22.279788  18.822243  \n",
       "9      28.272755  28.026062  28.025981  26.290595  22.276660  18.818795  "
      ]
     },
     "execution_count": 79,
     "metadata": {},
     "output_type": "execute_result"
    }
   ],
   "source": [
    "get_reconvart_pred=TemperatureDataTransformer(predict_data)\n",
    "get_reconvart_pred.long_to_wide(predict_data)"
   ]
  },
  {
   "cell_type": "code",
   "execution_count": 80,
   "metadata": {},
   "outputs": [
    {
     "data": {
      "text/html": [
       "<div>\n",
       "<style scoped>\n",
       "    .dataframe tbody tr th:only-of-type {\n",
       "        vertical-align: middle;\n",
       "    }\n",
       "\n",
       "    .dataframe tbody tr th {\n",
       "        vertical-align: top;\n",
       "    }\n",
       "\n",
       "    .dataframe thead th {\n",
       "        text-align: right;\n",
       "    }\n",
       "</style>\n",
       "<table border=\"1\" class=\"dataframe\">\n",
       "  <thead>\n",
       "    <tr style=\"text-align: right;\">\n",
       "      <th>Month</th>\n",
       "      <th>Year</th>\n",
       "      <th>Jan</th>\n",
       "      <th>Feb</th>\n",
       "      <th>Mar</th>\n",
       "      <th>Apr</th>\n",
       "      <th>May</th>\n",
       "      <th>Jun</th>\n",
       "      <th>Jul</th>\n",
       "      <th>Aug</th>\n",
       "      <th>Sep</th>\n",
       "      <th>Oct</th>\n",
       "      <th>Nov</th>\n",
       "      <th>Dec</th>\n",
       "    </tr>\n",
       "  </thead>\n",
       "  <tbody>\n",
       "    <tr>\n",
       "      <th>0</th>\n",
       "      <td>1993</td>\n",
       "      <td>19.656</td>\n",
       "      <td>22.851</td>\n",
       "      <td>26.131</td>\n",
       "      <td>29.796</td>\n",
       "      <td>31.958</td>\n",
       "      <td>31.087</td>\n",
       "      <td>28.950</td>\n",
       "      <td>28.319</td>\n",
       "      <td>27.947</td>\n",
       "      <td>26.638</td>\n",
       "      <td>22.083</td>\n",
       "      <td>19.026</td>\n",
       "    </tr>\n",
       "    <tr>\n",
       "      <th>1</th>\n",
       "      <td>1994</td>\n",
       "      <td>19.885</td>\n",
       "      <td>21.347</td>\n",
       "      <td>27.470</td>\n",
       "      <td>29.959</td>\n",
       "      <td>32.763</td>\n",
       "      <td>30.565</td>\n",
       "      <td>28.314</td>\n",
       "      <td>28.070</td>\n",
       "      <td>28.159</td>\n",
       "      <td>26.800</td>\n",
       "      <td>22.579</td>\n",
       "      <td>19.104</td>\n",
       "    </tr>\n",
       "    <tr>\n",
       "      <th>2</th>\n",
       "      <td>1995</td>\n",
       "      <td>18.021</td>\n",
       "      <td>21.533</td>\n",
       "      <td>26.554</td>\n",
       "      <td>31.294</td>\n",
       "      <td>32.306</td>\n",
       "      <td>31.656</td>\n",
       "      <td>28.385</td>\n",
       "      <td>28.509</td>\n",
       "      <td>28.031</td>\n",
       "      <td>26.538</td>\n",
       "      <td>22.576</td>\n",
       "      <td>19.429</td>\n",
       "    </tr>\n",
       "    <tr>\n",
       "      <th>3</th>\n",
       "      <td>1996</td>\n",
       "      <td>19.715</td>\n",
       "      <td>21.205</td>\n",
       "      <td>27.954</td>\n",
       "      <td>29.957</td>\n",
       "      <td>33.317</td>\n",
       "      <td>29.831</td>\n",
       "      <td>28.924</td>\n",
       "      <td>27.716</td>\n",
       "      <td>28.831</td>\n",
       "      <td>26.204</td>\n",
       "      <td>22.495</td>\n",
       "      <td>18.647</td>\n",
       "    </tr>\n",
       "    <tr>\n",
       "      <th>4</th>\n",
       "      <td>1997</td>\n",
       "      <td>18.424</td>\n",
       "      <td>20.906</td>\n",
       "      <td>27.213</td>\n",
       "      <td>28.731</td>\n",
       "      <td>32.165</td>\n",
       "      <td>31.968</td>\n",
       "      <td>28.273</td>\n",
       "      <td>28.127</td>\n",
       "      <td>27.754</td>\n",
       "      <td>26.655</td>\n",
       "      <td>23.544</td>\n",
       "      <td>19.249</td>\n",
       "    </tr>\n",
       "    <tr>\n",
       "      <th>5</th>\n",
       "      <td>1998</td>\n",
       "      <td>18.070</td>\n",
       "      <td>21.952</td>\n",
       "      <td>24.778</td>\n",
       "      <td>30.213</td>\n",
       "      <td>32.182</td>\n",
       "      <td>32.721</td>\n",
       "      <td>28.536</td>\n",
       "      <td>28.731</td>\n",
       "      <td>28.450</td>\n",
       "      <td>27.945</td>\n",
       "      <td>23.374</td>\n",
       "      <td>19.761</td>\n",
       "    </tr>\n",
       "    <tr>\n",
       "      <th>6</th>\n",
       "      <td>1999</td>\n",
       "      <td>18.755</td>\n",
       "      <td>22.955</td>\n",
       "      <td>27.970</td>\n",
       "      <td>32.615</td>\n",
       "      <td>31.950</td>\n",
       "      <td>30.624</td>\n",
       "      <td>28.197</td>\n",
       "      <td>28.106</td>\n",
       "      <td>27.746</td>\n",
       "      <td>27.029</td>\n",
       "      <td>22.881</td>\n",
       "      <td>20.175</td>\n",
       "    </tr>\n",
       "    <tr>\n",
       "      <th>7</th>\n",
       "      <td>2000</td>\n",
       "      <td>19.627</td>\n",
       "      <td>21.055</td>\n",
       "      <td>26.735</td>\n",
       "      <td>31.532</td>\n",
       "      <td>31.857</td>\n",
       "      <td>30.055</td>\n",
       "      <td>28.693</td>\n",
       "      <td>28.810</td>\n",
       "      <td>27.967</td>\n",
       "      <td>26.983</td>\n",
       "      <td>23.758</td>\n",
       "      <td>18.745</td>\n",
       "    </tr>\n",
       "    <tr>\n",
       "      <th>8</th>\n",
       "      <td>2001</td>\n",
       "      <td>18.593</td>\n",
       "      <td>22.214</td>\n",
       "      <td>27.048</td>\n",
       "      <td>31.377</td>\n",
       "      <td>32.261</td>\n",
       "      <td>29.266</td>\n",
       "      <td>27.803</td>\n",
       "      <td>28.854</td>\n",
       "      <td>29.007</td>\n",
       "      <td>27.648</td>\n",
       "      <td>24.193</td>\n",
       "      <td>19.848</td>\n",
       "    </tr>\n",
       "    <tr>\n",
       "      <th>9</th>\n",
       "      <td>2002</td>\n",
       "      <td>19.528</td>\n",
       "      <td>22.792</td>\n",
       "      <td>27.747</td>\n",
       "      <td>30.812</td>\n",
       "      <td>32.780</td>\n",
       "      <td>30.951</td>\n",
       "      <td>29.200</td>\n",
       "      <td>28.106</td>\n",
       "      <td>28.072</td>\n",
       "      <td>26.541</td>\n",
       "      <td>22.598</td>\n",
       "      <td>19.701</td>\n",
       "    </tr>\n",
       "  </tbody>\n",
       "</table>\n",
       "</div>"
      ],
      "text/plain": [
       "Month  Year     Jan     Feb     Mar     Apr     May     Jun     Jul     Aug  \\\n",
       "0      1993  19.656  22.851  26.131  29.796  31.958  31.087  28.950  28.319   \n",
       "1      1994  19.885  21.347  27.470  29.959  32.763  30.565  28.314  28.070   \n",
       "2      1995  18.021  21.533  26.554  31.294  32.306  31.656  28.385  28.509   \n",
       "3      1996  19.715  21.205  27.954  29.957  33.317  29.831  28.924  27.716   \n",
       "4      1997  18.424  20.906  27.213  28.731  32.165  31.968  28.273  28.127   \n",
       "5      1998  18.070  21.952  24.778  30.213  32.182  32.721  28.536  28.731   \n",
       "6      1999  18.755  22.955  27.970  32.615  31.950  30.624  28.197  28.106   \n",
       "7      2000  19.627  21.055  26.735  31.532  31.857  30.055  28.693  28.810   \n",
       "8      2001  18.593  22.214  27.048  31.377  32.261  29.266  27.803  28.854   \n",
       "9      2002  19.528  22.792  27.747  30.812  32.780  30.951  29.200  28.106   \n",
       "\n",
       "Month     Sep     Oct     Nov     Dec  \n",
       "0      27.947  26.638  22.083  19.026  \n",
       "1      28.159  26.800  22.579  19.104  \n",
       "2      28.031  26.538  22.576  19.429  \n",
       "3      28.831  26.204  22.495  18.647  \n",
       "4      27.754  26.655  23.544  19.249  \n",
       "5      28.450  27.945  23.374  19.761  \n",
       "6      27.746  27.029  22.881  20.175  \n",
       "7      27.967  26.983  23.758  18.745  \n",
       "8      29.007  27.648  24.193  19.848  \n",
       "9      28.072  26.541  22.598  19.701  "
      ]
     },
     "execution_count": 80,
     "metadata": {},
     "output_type": "execute_result"
    }
   ],
   "source": [
    "get_reconvart=TemperatureDataTransformer(test_data)\n",
    "get_reconvart.long_to_wide(test_data)"
   ]
  },
  {
   "cell_type": "code",
   "execution_count": 81,
   "metadata": {},
   "outputs": [
    {
     "data": {
      "text/plain": [
       "0.9668164981264369"
      ]
     },
     "execution_count": 81,
     "metadata": {},
     "output_type": "execute_result"
    }
   ],
   "source": [
    "from sklearn.metrics import r2_score\n",
    "r2_score(test_data,pred)"
   ]
  },
  {
   "cell_type": "code",
   "execution_count": null,
   "metadata": {},
   "outputs": [],
   "source": []
  },
  {
   "cell_type": "code",
   "execution_count": null,
   "metadata": {},
   "outputs": [],
   "source": []
  },
  {
   "cell_type": "code",
   "execution_count": null,
   "metadata": {},
   "outputs": [],
   "source": []
  },
  {
   "cell_type": "code",
   "execution_count": null,
   "metadata": {},
   "outputs": [],
   "source": []
  },
  {
   "cell_type": "markdown",
   "metadata": {},
   "source": [
    "### rolling window sarima"
   ]
  },
  {
   "cell_type": "code",
   "execution_count": 249,
   "metadata": {},
   "outputs": [
    {
     "name": "stdout",
     "output_type": "stream",
     "text": [
      "Prediction for 1993-01-01 00:00:00: 18.954544394448945\n",
      "Prediction for 1993-02-01 00:00:00: 22.364137401210037\n",
      "Prediction for 1993-03-01 00:00:00: 27.86112998668314\n",
      "Prediction for 1993-04-01 00:00:00: 29.952368336423653\n",
      "Prediction for 1993-05-01 00:00:00: 31.220242282343072\n",
      "Prediction for 1993-06-01 00:00:00: 30.580624268465627\n",
      "Prediction for 1993-07-01 00:00:00: 28.849309441877008\n"
     ]
    },
    {
     "ename": "KeyboardInterrupt",
     "evalue": "",
     "output_type": "error",
     "traceback": [
      "\u001b[1;31m---------------------------------------------------------------------------\u001b[0m",
      "\u001b[1;31mKeyboardInterrupt\u001b[0m                         Traceback (most recent call last)",
      "Cell \u001b[1;32mIn[249], line 22\u001b[0m\n\u001b[0;32m     20\u001b[0m my_seasonal_order \u001b[38;5;241m=\u001b[39m (\u001b[38;5;241m7\u001b[39m, \u001b[38;5;241m0\u001b[39m, \u001b[38;5;241m1\u001b[39m, \u001b[38;5;241m12\u001b[39m)\n\u001b[0;32m     21\u001b[0m model \u001b[38;5;241m=\u001b[39m SARIMAX(train_data_roll, order\u001b[38;5;241m=\u001b[39mmy_order, seasonal_order\u001b[38;5;241m=\u001b[39mmy_seasonal_order)\n\u001b[1;32m---> 22\u001b[0m model_fit \u001b[38;5;241m=\u001b[39m \u001b[43mmodel\u001b[49m\u001b[38;5;241;43m.\u001b[39;49m\u001b[43mfit\u001b[49m\u001b[43m(\u001b[49m\u001b[43m)\u001b[49m  \u001b[38;5;66;03m# Use a valid optimization method\u001b[39;00m\n\u001b[0;32m     24\u001b[0m \u001b[38;5;66;03m# Forecast the next value\u001b[39;00m\n\u001b[0;32m     25\u001b[0m pred \u001b[38;5;241m=\u001b[39m model_fit\u001b[38;5;241m.\u001b[39mforecast()\n",
      "File \u001b[1;32md:\\projects\\internship\\werather_forcastiing\\venv\\Lib\\site-packages\\statsmodels\\tsa\\statespace\\mlemodel.py:729\u001b[0m, in \u001b[0;36mMLEModel.fit\u001b[1;34m(self, start_params, transformed, includes_fixed, cov_type, cov_kwds, method, maxiter, full_output, disp, callback, return_params, optim_score, optim_complex_step, optim_hessian, flags, low_memory, **kwargs)\u001b[0m\n\u001b[0;32m    727\u001b[0m \u001b[38;5;28;01melse\u001b[39;00m:\n\u001b[0;32m    728\u001b[0m     func \u001b[38;5;241m=\u001b[39m \u001b[38;5;28mself\u001b[39m\u001b[38;5;241m.\u001b[39msmooth\n\u001b[1;32m--> 729\u001b[0m res \u001b[38;5;241m=\u001b[39m \u001b[43mfunc\u001b[49m\u001b[43m(\u001b[49m\u001b[43mmlefit\u001b[49m\u001b[38;5;241;43m.\u001b[39;49m\u001b[43mparams\u001b[49m\u001b[43m,\u001b[49m\u001b[43m \u001b[49m\u001b[43mtransformed\u001b[49m\u001b[38;5;241;43m=\u001b[39;49m\u001b[38;5;28;43;01mFalse\u001b[39;49;00m\u001b[43m,\u001b[49m\u001b[43m \u001b[49m\u001b[43mincludes_fixed\u001b[49m\u001b[38;5;241;43m=\u001b[39;49m\u001b[38;5;28;43;01mFalse\u001b[39;49;00m\u001b[43m,\u001b[49m\n\u001b[0;32m    730\u001b[0m \u001b[43m           \u001b[49m\u001b[43mcov_type\u001b[49m\u001b[38;5;241;43m=\u001b[39;49m\u001b[43mcov_type\u001b[49m\u001b[43m,\u001b[49m\u001b[43m \u001b[49m\u001b[43mcov_kwds\u001b[49m\u001b[38;5;241;43m=\u001b[39;49m\u001b[43mcov_kwds\u001b[49m\u001b[43m)\u001b[49m\n\u001b[0;32m    732\u001b[0m res\u001b[38;5;241m.\u001b[39mmlefit \u001b[38;5;241m=\u001b[39m mlefit\n\u001b[0;32m    733\u001b[0m res\u001b[38;5;241m.\u001b[39mmle_retvals \u001b[38;5;241m=\u001b[39m mlefit\u001b[38;5;241m.\u001b[39mmle_retvals\n",
      "File \u001b[1;32md:\\projects\\internship\\werather_forcastiing\\venv\\Lib\\site-packages\\statsmodels\\tsa\\statespace\\mlemodel.py:890\u001b[0m, in \u001b[0;36mMLEModel.smooth\u001b[1;34m(self, params, transformed, includes_fixed, complex_step, cov_type, cov_kwds, return_ssm, results_class, results_wrapper_class, **kwargs)\u001b[0m\n\u001b[0;32m    887\u001b[0m result \u001b[38;5;241m=\u001b[39m \u001b[38;5;28mself\u001b[39m\u001b[38;5;241m.\u001b[39mssm\u001b[38;5;241m.\u001b[39msmooth(complex_step\u001b[38;5;241m=\u001b[39mcomplex_step, \u001b[38;5;241m*\u001b[39m\u001b[38;5;241m*\u001b[39mkwargs)\n\u001b[0;32m    889\u001b[0m \u001b[38;5;66;03m# Wrap in a results object\u001b[39;00m\n\u001b[1;32m--> 890\u001b[0m \u001b[38;5;28;01mreturn\u001b[39;00m \u001b[38;5;28;43mself\u001b[39;49m\u001b[38;5;241;43m.\u001b[39;49m\u001b[43m_wrap_results\u001b[49m\u001b[43m(\u001b[49m\u001b[43mparams\u001b[49m\u001b[43m,\u001b[49m\u001b[43m \u001b[49m\u001b[43mresult\u001b[49m\u001b[43m,\u001b[49m\u001b[43m \u001b[49m\u001b[43mreturn_ssm\u001b[49m\u001b[43m,\u001b[49m\u001b[43m \u001b[49m\u001b[43mcov_type\u001b[49m\u001b[43m,\u001b[49m\n\u001b[0;32m    891\u001b[0m \u001b[43m                          \u001b[49m\u001b[43mcov_kwds\u001b[49m\u001b[43m,\u001b[49m\u001b[43m \u001b[49m\u001b[43mresults_class\u001b[49m\u001b[43m,\u001b[49m\n\u001b[0;32m    892\u001b[0m \u001b[43m                          \u001b[49m\u001b[43mresults_wrapper_class\u001b[49m\u001b[43m)\u001b[49m\n",
      "File \u001b[1;32md:\\projects\\internship\\werather_forcastiing\\venv\\Lib\\site-packages\\statsmodels\\tsa\\statespace\\mlemodel.py:789\u001b[0m, in \u001b[0;36mMLEModel._wrap_results\u001b[1;34m(self, params, result, return_raw, cov_type, cov_kwds, results_class, wrapper_class)\u001b[0m\n\u001b[0;32m    786\u001b[0m     \u001b[38;5;28;01mif\u001b[39;00m wrapper_class \u001b[38;5;129;01mis\u001b[39;00m \u001b[38;5;28;01mNone\u001b[39;00m:\n\u001b[0;32m    787\u001b[0m         wrapper_class \u001b[38;5;241m=\u001b[39m \u001b[38;5;28mself\u001b[39m\u001b[38;5;241m.\u001b[39m_res_classes[\u001b[38;5;124m'\u001b[39m\u001b[38;5;124mfit\u001b[39m\u001b[38;5;124m'\u001b[39m][\u001b[38;5;241m1\u001b[39m]\n\u001b[1;32m--> 789\u001b[0m     res \u001b[38;5;241m=\u001b[39m \u001b[43mresults_class\u001b[49m\u001b[43m(\u001b[49m\u001b[38;5;28;43mself\u001b[39;49m\u001b[43m,\u001b[49m\u001b[43m \u001b[49m\u001b[43mparams\u001b[49m\u001b[43m,\u001b[49m\u001b[43m \u001b[49m\u001b[43mresult\u001b[49m\u001b[43m,\u001b[49m\u001b[43m \u001b[49m\u001b[38;5;241;43m*\u001b[39;49m\u001b[38;5;241;43m*\u001b[39;49m\u001b[43mresult_kwargs\u001b[49m\u001b[43m)\u001b[49m\n\u001b[0;32m    790\u001b[0m     result \u001b[38;5;241m=\u001b[39m wrapper_class(res)\n\u001b[0;32m    791\u001b[0m \u001b[38;5;28;01mreturn\u001b[39;00m result\n",
      "File \u001b[1;32md:\\projects\\internship\\werather_forcastiing\\venv\\Lib\\site-packages\\statsmodels\\tsa\\statespace\\sarimax.py:1809\u001b[0m, in \u001b[0;36mSARIMAXResults.__init__\u001b[1;34m(self, model, params, filter_results, cov_type, **kwargs)\u001b[0m\n\u001b[0;32m   1807\u001b[0m \u001b[38;5;28;01mdef\u001b[39;00m\u001b[38;5;250m \u001b[39m\u001b[38;5;21m__init__\u001b[39m(\u001b[38;5;28mself\u001b[39m, model, params, filter_results, cov_type\u001b[38;5;241m=\u001b[39m\u001b[38;5;28;01mNone\u001b[39;00m,\n\u001b[0;32m   1808\u001b[0m              \u001b[38;5;241m*\u001b[39m\u001b[38;5;241m*\u001b[39mkwargs):\n\u001b[1;32m-> 1809\u001b[0m     \u001b[38;5;28;43msuper\u001b[39;49m\u001b[43m(\u001b[49m\u001b[43m)\u001b[49m\u001b[38;5;241;43m.\u001b[39;49m\u001b[38;5;21;43m__init__\u001b[39;49m\u001b[43m(\u001b[49m\u001b[43mmodel\u001b[49m\u001b[43m,\u001b[49m\u001b[43m \u001b[49m\u001b[43mparams\u001b[49m\u001b[43m,\u001b[49m\u001b[43m \u001b[49m\u001b[43mfilter_results\u001b[49m\u001b[43m,\u001b[49m\u001b[43m \u001b[49m\u001b[43mcov_type\u001b[49m\u001b[43m,\u001b[49m\u001b[43m \u001b[49m\u001b[38;5;241;43m*\u001b[39;49m\u001b[38;5;241;43m*\u001b[39;49m\u001b[43mkwargs\u001b[49m\u001b[43m)\u001b[49m\n\u001b[0;32m   1811\u001b[0m     \u001b[38;5;28mself\u001b[39m\u001b[38;5;241m.\u001b[39mdf_resid \u001b[38;5;241m=\u001b[39m np\u001b[38;5;241m.\u001b[39minf  \u001b[38;5;66;03m# attribute required for wald tests\u001b[39;00m\n\u001b[0;32m   1813\u001b[0m     \u001b[38;5;66;03m# Save _init_kwds\u001b[39;00m\n",
      "File \u001b[1;32md:\\projects\\internship\\werather_forcastiing\\venv\\Lib\\site-packages\\statsmodels\\tsa\\statespace\\mlemodel.py:2374\u001b[0m, in \u001b[0;36mMLEResults.__init__\u001b[1;34m(self, model, params, results, cov_type, cov_kwds, **kwargs)\u001b[0m\n\u001b[0;32m   2372\u001b[0m \u001b[38;5;28;01mtry\u001b[39;00m:\n\u001b[0;32m   2373\u001b[0m     \u001b[38;5;28mself\u001b[39m\u001b[38;5;241m.\u001b[39m_rank \u001b[38;5;241m=\u001b[39m \u001b[38;5;28;01mNone\u001b[39;00m\n\u001b[1;32m-> 2374\u001b[0m     \u001b[38;5;28;43mself\u001b[39;49m\u001b[38;5;241;43m.\u001b[39;49m\u001b[43m_get_robustcov_results\u001b[49m\u001b[43m(\u001b[49m\u001b[43mcov_type\u001b[49m\u001b[38;5;241;43m=\u001b[39;49m\u001b[43mcov_type\u001b[49m\u001b[43m,\u001b[49m\u001b[43m \u001b[49m\u001b[43muse_self\u001b[49m\u001b[38;5;241;43m=\u001b[39;49m\u001b[38;5;28;43;01mTrue\u001b[39;49;00m\u001b[43m,\u001b[49m\n\u001b[0;32m   2375\u001b[0m \u001b[43m                                \u001b[49m\u001b[38;5;241;43m*\u001b[39;49m\u001b[38;5;241;43m*\u001b[39;49m\u001b[43mcov_kwds\u001b[49m\u001b[43m)\u001b[49m\n\u001b[0;32m   2376\u001b[0m \u001b[38;5;28;01mexcept\u001b[39;00m np\u001b[38;5;241m.\u001b[39mlinalg\u001b[38;5;241m.\u001b[39mLinAlgError:\n\u001b[0;32m   2377\u001b[0m     \u001b[38;5;28mself\u001b[39m\u001b[38;5;241m.\u001b[39m_rank \u001b[38;5;241m=\u001b[39m \u001b[38;5;241m0\u001b[39m\n",
      "File \u001b[1;32md:\\projects\\internship\\werather_forcastiing\\venv\\Lib\\site-packages\\statsmodels\\tsa\\statespace\\mlemodel.py:2604\u001b[0m, in \u001b[0;36mMLEResults._get_robustcov_results\u001b[1;34m(self, cov_type, **kwargs)\u001b[0m\n\u001b[0;32m   2601\u001b[0m     res\u001b[38;5;241m.\u001b[39mcov_kwds[\u001b[38;5;124m'\u001b[39m\u001b[38;5;124mdescription\u001b[39m\u001b[38;5;124m'\u001b[39m] \u001b[38;5;241m=\u001b[39m descriptions[\u001b[38;5;124m'\u001b[39m\u001b[38;5;124mOIM\u001b[39m\u001b[38;5;124m'\u001b[39m]\u001b[38;5;241m.\u001b[39mformat(\n\u001b[0;32m   2602\u001b[0m                                         approx_type\u001b[38;5;241m=\u001b[39mapprox_type_str)\n\u001b[0;32m   2603\u001b[0m \u001b[38;5;28;01melif\u001b[39;00m \u001b[38;5;28mself\u001b[39m\u001b[38;5;241m.\u001b[39mcov_type \u001b[38;5;241m==\u001b[39m \u001b[38;5;124m'\u001b[39m\u001b[38;5;124mopg\u001b[39m\u001b[38;5;124m'\u001b[39m:\n\u001b[1;32m-> 2604\u001b[0m     res\u001b[38;5;241m.\u001b[39mcov_params_default \u001b[38;5;241m=\u001b[39m \u001b[43mres\u001b[49m\u001b[38;5;241;43m.\u001b[39;49m\u001b[43mcov_params_opg\u001b[49m\n\u001b[0;32m   2605\u001b[0m     res\u001b[38;5;241m.\u001b[39mcov_kwds[\u001b[38;5;124m'\u001b[39m\u001b[38;5;124mdescription\u001b[39m\u001b[38;5;124m'\u001b[39m] \u001b[38;5;241m=\u001b[39m descriptions[\u001b[38;5;124m'\u001b[39m\u001b[38;5;124mOPG\u001b[39m\u001b[38;5;124m'\u001b[39m]\u001b[38;5;241m.\u001b[39mformat(\n\u001b[0;32m   2606\u001b[0m                                         approx_type\u001b[38;5;241m=\u001b[39mapprox_type_str)\n\u001b[0;32m   2607\u001b[0m \u001b[38;5;28;01melif\u001b[39;00m \u001b[38;5;28mself\u001b[39m\u001b[38;5;241m.\u001b[39mcov_type \u001b[38;5;241m==\u001b[39m \u001b[38;5;124m'\u001b[39m\u001b[38;5;124mrobust\u001b[39m\u001b[38;5;124m'\u001b[39m \u001b[38;5;129;01mor\u001b[39;00m \u001b[38;5;28mself\u001b[39m\u001b[38;5;241m.\u001b[39mcov_type \u001b[38;5;241m==\u001b[39m \u001b[38;5;124m'\u001b[39m\u001b[38;5;124mrobust_oim\u001b[39m\u001b[38;5;124m'\u001b[39m:\n",
      "File \u001b[1;32mproperties.pyx:36\u001b[0m, in \u001b[0;36mpandas._libs.properties.CachedProperty.__get__\u001b[1;34m()\u001b[0m\n",
      "File \u001b[1;32md:\\projects\\internship\\werather_forcastiing\\venv\\Lib\\site-packages\\statsmodels\\tsa\\statespace\\mlemodel.py:2734\u001b[0m, in \u001b[0;36mMLEResults.cov_params_opg\u001b[1;34m(self)\u001b[0m\n\u001b[0;32m   2728\u001b[0m \u001b[38;5;129m@cache_readonly\u001b[39m\n\u001b[0;32m   2729\u001b[0m \u001b[38;5;28;01mdef\u001b[39;00m\u001b[38;5;250m \u001b[39m\u001b[38;5;21mcov_params_opg\u001b[39m(\u001b[38;5;28mself\u001b[39m):\n\u001b[0;32m   2730\u001b[0m \u001b[38;5;250m    \u001b[39m\u001b[38;5;124;03m\"\"\"\u001b[39;00m\n\u001b[0;32m   2731\u001b[0m \u001b[38;5;124;03m    (array) The variance / covariance matrix. Computed using the outer\u001b[39;00m\n\u001b[0;32m   2732\u001b[0m \u001b[38;5;124;03m    product of gradients method.\u001b[39;00m\n\u001b[0;32m   2733\u001b[0m \u001b[38;5;124;03m    \"\"\"\u001b[39;00m\n\u001b[1;32m-> 2734\u001b[0m     \u001b[38;5;28;01mreturn\u001b[39;00m \u001b[38;5;28;43mself\u001b[39;49m\u001b[38;5;241;43m.\u001b[39;49m\u001b[43m_cov_params_opg\u001b[49m\u001b[43m(\u001b[49m\u001b[38;5;28;43mself\u001b[39;49m\u001b[38;5;241;43m.\u001b[39;49m\u001b[43m_cov_approx_complex_step\u001b[49m\u001b[43m,\u001b[49m\n\u001b[0;32m   2735\u001b[0m \u001b[43m                                \u001b[49m\u001b[38;5;28;43mself\u001b[39;49m\u001b[38;5;241;43m.\u001b[39;49m\u001b[43m_cov_approx_centered\u001b[49m\u001b[43m)\u001b[49m\n",
      "File \u001b[1;32md:\\projects\\internship\\werather_forcastiing\\venv\\Lib\\site-packages\\statsmodels\\tsa\\statespace\\mlemodel.py:2701\u001b[0m, in \u001b[0;36mMLEResults._cov_params_opg\u001b[1;34m(self, approx_complex_step, approx_centered)\u001b[0m\n\u001b[0;32m   2700\u001b[0m \u001b[38;5;28;01mdef\u001b[39;00m\u001b[38;5;250m \u001b[39m\u001b[38;5;21m_cov_params_opg\u001b[39m(\u001b[38;5;28mself\u001b[39m, approx_complex_step\u001b[38;5;241m=\u001b[39m\u001b[38;5;28;01mTrue\u001b[39;00m, approx_centered\u001b[38;5;241m=\u001b[39m\u001b[38;5;28;01mFalse\u001b[39;00m):\n\u001b[1;32m-> 2701\u001b[0m     evaluated_hessian \u001b[38;5;241m=\u001b[39m \u001b[38;5;28mself\u001b[39m\u001b[38;5;241m.\u001b[39mnobs_effective \u001b[38;5;241m*\u001b[39m \u001b[38;5;28;43mself\u001b[39;49m\u001b[38;5;241;43m.\u001b[39;49m\u001b[43mmodel\u001b[49m\u001b[38;5;241;43m.\u001b[39;49m\u001b[43m_hessian_opg\u001b[49m\u001b[43m(\u001b[49m\n\u001b[0;32m   2702\u001b[0m \u001b[43m        \u001b[49m\u001b[38;5;28;43mself\u001b[39;49m\u001b[38;5;241;43m.\u001b[39;49m\u001b[43mparams\u001b[49m\u001b[43m,\u001b[49m\u001b[43m \u001b[49m\u001b[43mtransformed\u001b[49m\u001b[38;5;241;43m=\u001b[39;49m\u001b[38;5;28;43;01mTrue\u001b[39;49;00m\u001b[43m,\u001b[49m\u001b[43m \u001b[49m\u001b[43mincludes_fixed\u001b[49m\u001b[38;5;241;43m=\u001b[39;49m\u001b[38;5;28;43;01mTrue\u001b[39;49;00m\u001b[43m,\u001b[49m\n\u001b[0;32m   2703\u001b[0m \u001b[43m        \u001b[49m\u001b[43mapprox_complex_step\u001b[49m\u001b[38;5;241;43m=\u001b[39;49m\u001b[43mapprox_complex_step\u001b[49m\u001b[43m,\u001b[49m\n\u001b[0;32m   2704\u001b[0m \u001b[43m        \u001b[49m\u001b[43mapprox_centered\u001b[49m\u001b[38;5;241;43m=\u001b[39;49m\u001b[43mapprox_centered\u001b[49m\u001b[43m)\u001b[49m\n\u001b[0;32m   2706\u001b[0m     no_free_params \u001b[38;5;241m=\u001b[39m (\u001b[38;5;28mself\u001b[39m\u001b[38;5;241m.\u001b[39m_free_params_index \u001b[38;5;129;01mis\u001b[39;00m \u001b[38;5;129;01mnot\u001b[39;00m \u001b[38;5;28;01mNone\u001b[39;00m \u001b[38;5;129;01mand\u001b[39;00m\n\u001b[0;32m   2707\u001b[0m                       \u001b[38;5;28mlen\u001b[39m(\u001b[38;5;28mself\u001b[39m\u001b[38;5;241m.\u001b[39m_free_params_index) \u001b[38;5;241m==\u001b[39m \u001b[38;5;241m0\u001b[39m)\n\u001b[0;32m   2709\u001b[0m     \u001b[38;5;28;01mif\u001b[39;00m no_free_params:\n",
      "File \u001b[1;32md:\\projects\\internship\\werather_forcastiing\\venv\\Lib\\site-packages\\statsmodels\\tsa\\statespace\\mlemodel.py:1543\u001b[0m, in \u001b[0;36mMLEModel._hessian_opg\u001b[1;34m(self, params, **kwargs)\u001b[0m\n\u001b[0;32m   1538\u001b[0m \u001b[38;5;28;01mdef\u001b[39;00m\u001b[38;5;250m \u001b[39m\u001b[38;5;21m_hessian_opg\u001b[39m(\u001b[38;5;28mself\u001b[39m, params, \u001b[38;5;241m*\u001b[39m\u001b[38;5;241m*\u001b[39mkwargs):\n\u001b[0;32m   1539\u001b[0m \u001b[38;5;250m    \u001b[39m\u001b[38;5;124;03m\"\"\"\u001b[39;00m\n\u001b[0;32m   1540\u001b[0m \u001b[38;5;124;03m    Hessian matrix computed using the outer product of gradients\u001b[39;00m\n\u001b[0;32m   1541\u001b[0m \u001b[38;5;124;03m    information matrix\u001b[39;00m\n\u001b[0;32m   1542\u001b[0m \u001b[38;5;124;03m    \"\"\"\u001b[39;00m\n\u001b[1;32m-> 1543\u001b[0m     \u001b[38;5;28;01mreturn\u001b[39;00m \u001b[38;5;241m-\u001b[39m\u001b[38;5;28;43mself\u001b[39;49m\u001b[38;5;241;43m.\u001b[39;49m\u001b[43mopg_information_matrix\u001b[49m\u001b[43m(\u001b[49m\u001b[43mparams\u001b[49m\u001b[43m,\u001b[49m\u001b[43m \u001b[49m\u001b[38;5;241;43m*\u001b[39;49m\u001b[38;5;241;43m*\u001b[39;49m\u001b[43mkwargs\u001b[49m\u001b[43m)\u001b[49m\n",
      "File \u001b[1;32md:\\projects\\internship\\werather_forcastiing\\venv\\Lib\\site-packages\\statsmodels\\tsa\\statespace\\mlemodel.py:1230\u001b[0m, in \u001b[0;36mMLEModel.opg_information_matrix\u001b[1;34m(self, params, transformed, includes_fixed, approx_complex_step, **kwargs)\u001b[0m\n\u001b[0;32m   1225\u001b[0m \u001b[38;5;28;01mif\u001b[39;00m \u001b[38;5;129;01mnot\u001b[39;00m transformed \u001b[38;5;129;01mand\u001b[39;00m approx_complex_step:\n\u001b[0;32m   1226\u001b[0m     \u001b[38;5;28;01mraise\u001b[39;00m \u001b[38;5;167;01mValueError\u001b[39;00m(\u001b[38;5;124m\"\u001b[39m\u001b[38;5;124mCannot use complex-step approximations to\u001b[39m\u001b[38;5;124m\"\u001b[39m\n\u001b[0;32m   1227\u001b[0m                      \u001b[38;5;124m\"\u001b[39m\u001b[38;5;124m calculate the observed_information_matrix\u001b[39m\u001b[38;5;124m\"\u001b[39m\n\u001b[0;32m   1228\u001b[0m                      \u001b[38;5;124m\"\u001b[39m\u001b[38;5;124m with untransformed parameters.\u001b[39m\u001b[38;5;124m\"\u001b[39m)\n\u001b[1;32m-> 1230\u001b[0m score_obs \u001b[38;5;241m=\u001b[39m \u001b[38;5;28;43mself\u001b[39;49m\u001b[38;5;241;43m.\u001b[39;49m\u001b[43mscore_obs\u001b[49m\u001b[43m(\u001b[49m\u001b[43mparams\u001b[49m\u001b[43m,\u001b[49m\u001b[43m \u001b[49m\u001b[43mtransformed\u001b[49m\u001b[38;5;241;43m=\u001b[39;49m\u001b[43mtransformed\u001b[49m\u001b[43m,\u001b[49m\n\u001b[0;32m   1231\u001b[0m \u001b[43m                           \u001b[49m\u001b[43mincludes_fixed\u001b[49m\u001b[38;5;241;43m=\u001b[39;49m\u001b[43mincludes_fixed\u001b[49m\u001b[43m,\u001b[49m\n\u001b[0;32m   1232\u001b[0m \u001b[43m                           \u001b[49m\u001b[43mapprox_complex_step\u001b[49m\u001b[38;5;241;43m=\u001b[39;49m\u001b[43mapprox_complex_step\u001b[49m\u001b[43m,\u001b[49m\n\u001b[0;32m   1233\u001b[0m \u001b[43m                           \u001b[49m\u001b[38;5;241;43m*\u001b[39;49m\u001b[38;5;241;43m*\u001b[39;49m\u001b[43mkwargs\u001b[49m\u001b[43m)\u001b[49m\u001b[38;5;241m.\u001b[39mtranspose()\n\u001b[0;32m   1234\u001b[0m \u001b[38;5;28;01mreturn\u001b[39;00m (\n\u001b[0;32m   1235\u001b[0m     np\u001b[38;5;241m.\u001b[39minner(score_obs, score_obs) \u001b[38;5;241m/\u001b[39m\n\u001b[0;32m   1236\u001b[0m     (\u001b[38;5;28mself\u001b[39m\u001b[38;5;241m.\u001b[39mnobs \u001b[38;5;241m-\u001b[39m \u001b[38;5;28mself\u001b[39m\u001b[38;5;241m.\u001b[39mssm\u001b[38;5;241m.\u001b[39mloglikelihood_burn)\n\u001b[0;32m   1237\u001b[0m )\n",
      "File \u001b[1;32md:\\projects\\internship\\werather_forcastiing\\venv\\Lib\\site-packages\\statsmodels\\tsa\\statespace\\mlemodel.py:1449\u001b[0m, in \u001b[0;36mMLEModel.score_obs\u001b[1;34m(self, params, method, transformed, includes_fixed, approx_complex_step, approx_centered, **kwargs)\u001b[0m\n\u001b[0;32m   1447\u001b[0m     epsilon \u001b[38;5;241m=\u001b[39m _get_epsilon(params, \u001b[38;5;241m2.\u001b[39m, \u001b[38;5;28;01mNone\u001b[39;00m, \u001b[38;5;28mlen\u001b[39m(params))\n\u001b[0;32m   1448\u001b[0m     kwargs[\u001b[38;5;124m'\u001b[39m\u001b[38;5;124mcomplex_step\u001b[39m\u001b[38;5;124m'\u001b[39m] \u001b[38;5;241m=\u001b[39m \u001b[38;5;28;01mTrue\u001b[39;00m\n\u001b[1;32m-> 1449\u001b[0m     score \u001b[38;5;241m=\u001b[39m \u001b[43mapprox_fprime_cs\u001b[49m\u001b[43m(\u001b[49m\u001b[43mparams\u001b[49m\u001b[43m,\u001b[49m\u001b[43m \u001b[49m\u001b[38;5;28;43mself\u001b[39;49m\u001b[38;5;241;43m.\u001b[39;49m\u001b[43mloglikeobs\u001b[49m\u001b[43m,\u001b[49m\u001b[43m \u001b[49m\u001b[43mepsilon\u001b[49m\u001b[38;5;241;43m=\u001b[39;49m\u001b[43mepsilon\u001b[49m\u001b[43m,\u001b[49m\n\u001b[0;32m   1450\u001b[0m \u001b[43m                             \u001b[49m\u001b[43mkwargs\u001b[49m\u001b[38;5;241;43m=\u001b[39;49m\u001b[43mkwargs\u001b[49m\u001b[43m)\u001b[49m\n\u001b[0;32m   1451\u001b[0m \u001b[38;5;28;01melif\u001b[39;00m method \u001b[38;5;241m==\u001b[39m \u001b[38;5;124m'\u001b[39m\u001b[38;5;124mapprox\u001b[39m\u001b[38;5;124m'\u001b[39m:\n\u001b[0;32m   1452\u001b[0m     score \u001b[38;5;241m=\u001b[39m approx_fprime(params, \u001b[38;5;28mself\u001b[39m\u001b[38;5;241m.\u001b[39mloglikeobs, kwargs\u001b[38;5;241m=\u001b[39mkwargs,\n\u001b[0;32m   1453\u001b[0m                           centered\u001b[38;5;241m=\u001b[39mapprox_centered)\n",
      "File \u001b[1;32md:\\projects\\internship\\werather_forcastiing\\venv\\Lib\\site-packages\\statsmodels\\tools\\numdiff.py:251\u001b[0m, in \u001b[0;36mapprox_fprime_cs\u001b[1;34m(x, f, epsilon, args, kwargs)\u001b[0m\n\u001b[0;32m    249\u001b[0m increments \u001b[38;5;241m=\u001b[39m np\u001b[38;5;241m.\u001b[39midentity(n) \u001b[38;5;241m*\u001b[39m \u001b[38;5;241m1\u001b[39mj \u001b[38;5;241m*\u001b[39m epsilon\n\u001b[0;32m    250\u001b[0m \u001b[38;5;66;03m# TODO: see if this can be vectorized, but usually dim is small\u001b[39;00m\n\u001b[1;32m--> 251\u001b[0m partials \u001b[38;5;241m=\u001b[39m \u001b[43m[\u001b[49m\u001b[43mf\u001b[49m\u001b[43m(\u001b[49m\u001b[43mx\u001b[49m\u001b[38;5;241;43m+\u001b[39;49m\u001b[43mih\u001b[49m\u001b[43m,\u001b[49m\u001b[43m \u001b[49m\u001b[38;5;241;43m*\u001b[39;49m\u001b[43margs\u001b[49m\u001b[43m,\u001b[49m\u001b[43m \u001b[49m\u001b[38;5;241;43m*\u001b[39;49m\u001b[38;5;241;43m*\u001b[39;49m\u001b[43mkwargs\u001b[49m\u001b[43m)\u001b[49m\u001b[38;5;241;43m.\u001b[39;49m\u001b[43mimag\u001b[49m\u001b[43m \u001b[49m\u001b[38;5;241;43m/\u001b[39;49m\u001b[43m \u001b[49m\u001b[43mepsilon\u001b[49m\u001b[43m[\u001b[49m\u001b[43mi\u001b[49m\u001b[43m]\u001b[49m\n\u001b[0;32m    252\u001b[0m \u001b[43m            \u001b[49m\u001b[38;5;28;43;01mfor\u001b[39;49;00m\u001b[43m \u001b[49m\u001b[43mi\u001b[49m\u001b[43m,\u001b[49m\u001b[43m \u001b[49m\u001b[43mih\u001b[49m\u001b[43m \u001b[49m\u001b[38;5;129;43;01min\u001b[39;49;00m\u001b[43m \u001b[49m\u001b[38;5;28;43menumerate\u001b[39;49m\u001b[43m(\u001b[49m\u001b[43mincrements\u001b[49m\u001b[43m)\u001b[49m\u001b[43m]\u001b[49m\n\u001b[0;32m    254\u001b[0m \u001b[38;5;28;01mreturn\u001b[39;00m np\u001b[38;5;241m.\u001b[39marray(partials)\u001b[38;5;241m.\u001b[39mT\n",
      "File \u001b[1;32md:\\projects\\internship\\werather_forcastiing\\venv\\Lib\\site-packages\\statsmodels\\tools\\numdiff.py:251\u001b[0m, in \u001b[0;36m<listcomp>\u001b[1;34m(.0)\u001b[0m\n\u001b[0;32m    249\u001b[0m increments \u001b[38;5;241m=\u001b[39m np\u001b[38;5;241m.\u001b[39midentity(n) \u001b[38;5;241m*\u001b[39m \u001b[38;5;241m1\u001b[39mj \u001b[38;5;241m*\u001b[39m epsilon\n\u001b[0;32m    250\u001b[0m \u001b[38;5;66;03m# TODO: see if this can be vectorized, but usually dim is small\u001b[39;00m\n\u001b[1;32m--> 251\u001b[0m partials \u001b[38;5;241m=\u001b[39m [\u001b[43mf\u001b[49m\u001b[43m(\u001b[49m\u001b[43mx\u001b[49m\u001b[38;5;241;43m+\u001b[39;49m\u001b[43mih\u001b[49m\u001b[43m,\u001b[49m\u001b[43m \u001b[49m\u001b[38;5;241;43m*\u001b[39;49m\u001b[43margs\u001b[49m\u001b[43m,\u001b[49m\u001b[43m \u001b[49m\u001b[38;5;241;43m*\u001b[39;49m\u001b[38;5;241;43m*\u001b[39;49m\u001b[43mkwargs\u001b[49m\u001b[43m)\u001b[49m\u001b[38;5;241m.\u001b[39mimag \u001b[38;5;241m/\u001b[39m epsilon[i]\n\u001b[0;32m    252\u001b[0m             \u001b[38;5;28;01mfor\u001b[39;00m i, ih \u001b[38;5;129;01min\u001b[39;00m \u001b[38;5;28menumerate\u001b[39m(increments)]\n\u001b[0;32m    254\u001b[0m \u001b[38;5;28;01mreturn\u001b[39;00m np\u001b[38;5;241m.\u001b[39marray(partials)\u001b[38;5;241m.\u001b[39mT\n",
      "File \u001b[1;32md:\\projects\\internship\\werather_forcastiing\\venv\\Lib\\site-packages\\statsmodels\\tsa\\statespace\\mlemodel.py:989\u001b[0m, in \u001b[0;36mMLEModel.loglikeobs\u001b[1;34m(self, params, transformed, includes_fixed, complex_step, **kwargs)\u001b[0m\n\u001b[0;32m    984\u001b[0m     kwargs[\u001b[38;5;124m'\u001b[39m\u001b[38;5;124minversion_method\u001b[39m\u001b[38;5;124m'\u001b[39m] \u001b[38;5;241m=\u001b[39m INVERT_UNIVARIATE \u001b[38;5;241m|\u001b[39m SOLVE_LU\n\u001b[0;32m    986\u001b[0m \u001b[38;5;28mself\u001b[39m\u001b[38;5;241m.\u001b[39mupdate(params, transformed\u001b[38;5;241m=\u001b[39m\u001b[38;5;28;01mTrue\u001b[39;00m, includes_fixed\u001b[38;5;241m=\u001b[39m\u001b[38;5;28;01mTrue\u001b[39;00m,\n\u001b[0;32m    987\u001b[0m             complex_step\u001b[38;5;241m=\u001b[39mcomplex_step)\n\u001b[1;32m--> 989\u001b[0m \u001b[38;5;28;01mreturn\u001b[39;00m \u001b[38;5;28;43mself\u001b[39;49m\u001b[38;5;241;43m.\u001b[39;49m\u001b[43mssm\u001b[49m\u001b[38;5;241;43m.\u001b[39;49m\u001b[43mloglikeobs\u001b[49m\u001b[43m(\u001b[49m\u001b[43mcomplex_step\u001b[49m\u001b[38;5;241;43m=\u001b[39;49m\u001b[43mcomplex_step\u001b[49m\u001b[43m,\u001b[49m\u001b[43m \u001b[49m\u001b[38;5;241;43m*\u001b[39;49m\u001b[38;5;241;43m*\u001b[39;49m\u001b[43mkwargs\u001b[49m\u001b[43m)\u001b[49m\n",
      "File \u001b[1;32md:\\projects\\internship\\werather_forcastiing\\venv\\Lib\\site-packages\\statsmodels\\tsa\\statespace\\kalman_filter.py:1068\u001b[0m, in \u001b[0;36mKalmanFilter.loglikeobs\u001b[1;34m(self, **kwargs)\u001b[0m\n\u001b[0;32m   1064\u001b[0m \u001b[38;5;28;01melse\u001b[39;00m:\n\u001b[0;32m   1065\u001b[0m     kwargs\u001b[38;5;241m.\u001b[39msetdefault(\n\u001b[0;32m   1066\u001b[0m         \u001b[38;5;124m'\u001b[39m\u001b[38;5;124mconserve_memory\u001b[39m\u001b[38;5;124m'\u001b[39m,\n\u001b[0;32m   1067\u001b[0m         MEMORY_CONSERVE \u001b[38;5;241m^\u001b[39m (MEMORY_NO_FORECAST \u001b[38;5;241m|\u001b[39m MEMORY_NO_LIKELIHOOD))\n\u001b[1;32m-> 1068\u001b[0m kfilter \u001b[38;5;241m=\u001b[39m \u001b[38;5;28;43mself\u001b[39;49m\u001b[38;5;241;43m.\u001b[39;49m\u001b[43m_filter\u001b[49m\u001b[43m(\u001b[49m\u001b[38;5;241;43m*\u001b[39;49m\u001b[38;5;241;43m*\u001b[39;49m\u001b[43mkwargs\u001b[49m\u001b[43m)\u001b[49m\n\u001b[0;32m   1069\u001b[0m llf_obs \u001b[38;5;241m=\u001b[39m np\u001b[38;5;241m.\u001b[39marray(kfilter\u001b[38;5;241m.\u001b[39mloglikelihood, copy\u001b[38;5;241m=\u001b[39m\u001b[38;5;28;01mTrue\u001b[39;00m)\n\u001b[0;32m   1070\u001b[0m loglikelihood_burn \u001b[38;5;241m=\u001b[39m kwargs\u001b[38;5;241m.\u001b[39mget(\u001b[38;5;124m'\u001b[39m\u001b[38;5;124mloglikelihood_burn\u001b[39m\u001b[38;5;124m'\u001b[39m,\n\u001b[0;32m   1071\u001b[0m                                 \u001b[38;5;28mself\u001b[39m\u001b[38;5;241m.\u001b[39mloglikelihood_burn)\n",
      "\u001b[1;31mKeyboardInterrupt\u001b[0m: "
     ]
    }
   ],
   "source": [
    "from datetime import timedelta\n",
    "from dateutil.relativedelta import relativedelta\n",
    "from statsmodels.tsa.arima.model import ARIMA\n",
    "import pandas as pd\n",
    "\n",
    "# Assuming df_long is your long-format time series with a DateTime index\n",
    "# Ensure the index has a frequency (e.g., 'MS' for monthly data)\n",
    "df_long = df_long.asfreq('MS')\n",
    "\n",
    "# Create a copy of the test data to store rolling predictions\n",
    "rolling_predictions = test_data.copy()\n",
    "\n",
    "# Iterate over the test data index\n",
    "for train_end in test_data.index:\n",
    "    # Extract training data up to the current train_end (excluding the last observation)\n",
    "    train_data_roll = df_long[:train_end][:-1]\n",
    "    \n",
    "    # Fit the ARIMA model\n",
    "    my_order = (0,1,0)\n",
    "    my_seasonal_order = (7, 0, 1, 12)\n",
    "    model = SARIMAX(train_data_roll, order=my_order, seasonal_order=my_seasonal_order)\n",
    "    model_fit = model.fit()  # Use a valid optimization method\n",
    "    \n",
    "    # Forecast the next value\n",
    "    pred = model_fit.forecast()\n",
    "    \n",
    "    # Store the prediction in the rolling_predictions DataFrame\n",
    "    rolling_predictions.loc[train_end] = pred.iloc[0]  # Use .iloc[0] to avoid FutureWarning\n",
    "    \n",
    "    print(f\"Prediction for {train_end}: {pred.iloc[0]}\")\n",
    "\n",
    "# Print the final rolling predictions\n",
    "print(rolling_predictions)"
   ]
  },
  {
   "cell_type": "code",
   "execution_count": null,
   "metadata": {},
   "outputs": [],
   "source": [
    "err = rolling_predictions-acc\n",
    "plt.figure(figsize=(10,4))\n",
    "plt.plot(err)\n",
    "plt.title('Residuals from AR Model with out noice', fontsize=20)\n",
    "plt.ylabel('Error', fontsize=16)\n",
    "plt.axhline(0, color='r', linestyle='--', alpha=0.2)"
   ]
  },
  {
   "cell_type": "code",
   "execution_count": null,
   "metadata": {},
   "outputs": [],
   "source": [
    "plt.figure(figsize=(10,4))\n",
    "\n",
    "# plt.plot(df_long.Temperature) # plot the all dataset\n",
    "plt.plot(test_data)\n",
    "plt.plot(rolling_predictions)\n",
    "\n",
    "plt.legend(('Data', 'Predictions'), fontsize=16)\n",
    "\n",
    "plt.ylabel('temp', fontsize=16)"
   ]
  },
  {
   "cell_type": "code",
   "execution_count": null,
   "metadata": {},
   "outputs": [],
   "source": [
    "from sklearn.metrics import r2_score\n",
    "r2_score(test_data,rolling_predictions)"
   ]
  },
  {
   "cell_type": "code",
   "execution_count": null,
   "metadata": {},
   "outputs": [],
   "source": []
  }
 ],
 "metadata": {
  "kernelspec": {
   "display_name": "Python 3",
   "language": "python",
   "name": "python3"
  },
  "language_info": {
   "codemirror_mode": {
    "name": "ipython",
    "version": 3
   },
   "file_extension": ".py",
   "mimetype": "text/x-python",
   "name": "python",
   "nbconvert_exporter": "python",
   "pygments_lexer": "ipython3",
   "version": "3.10.16"
  }
 },
 "nbformat": 4,
 "nbformat_minor": 2
}
